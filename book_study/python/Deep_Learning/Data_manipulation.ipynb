{
 "cells": [
  {
   "cell_type": "markdown",
   "source": [
    "# 数据操作"
   ],
   "metadata": {
    "collapsed": false
   },
   "id": "281b8c97d31d2215"
  },
  {
   "cell_type": "code",
   "execution_count": 2,
   "id": "initial_id",
   "metadata": {
    "collapsed": true,
    "ExecuteTime": {
     "end_time": "2023-11-01T02:41:13.251377Z",
     "start_time": "2023-11-01T02:41:11.868736Z"
    }
   },
   "outputs": [],
   "source": [
    "import torch"
   ]
  },
  {
   "cell_type": "code",
   "execution_count": 3,
   "outputs": [
    {
     "data": {
      "text/plain": "tensor([ 0,  1,  2,  3,  4,  5,  6,  7,  8,  9, 10, 11])"
     },
     "execution_count": 3,
     "metadata": {},
     "output_type": "execute_result"
    }
   ],
   "source": [
    "x = torch.arange(12)\n",
    "x"
   ],
   "metadata": {
    "collapsed": false,
    "ExecuteTime": {
     "end_time": "2023-11-01T02:41:13.264123Z",
     "start_time": "2023-11-01T02:41:13.251951Z"
    }
   },
   "id": "60186eb34c214b0f"
  },
  {
   "cell_type": "code",
   "execution_count": 4,
   "outputs": [
    {
     "data": {
      "text/plain": "torch.Size([12])"
     },
     "execution_count": 4,
     "metadata": {},
     "output_type": "execute_result"
    }
   ],
   "source": [
    "x.shape # 张量的形状"
   ],
   "metadata": {
    "collapsed": false,
    "ExecuteTime": {
     "end_time": "2023-11-01T02:41:13.267122Z",
     "start_time": "2023-11-01T02:41:13.264633Z"
    }
   },
   "id": "311afd9a24c2e1f8"
  },
  {
   "cell_type": "code",
   "execution_count": 5,
   "outputs": [
    {
     "data": {
      "text/plain": "12"
     },
     "execution_count": 5,
     "metadata": {},
     "output_type": "execute_result"
    }
   ],
   "source": [
    "x.numel() # 张量中元素的总数"
   ],
   "metadata": {
    "collapsed": false,
    "ExecuteTime": {
     "end_time": "2023-11-01T02:41:13.269647Z",
     "start_time": "2023-11-01T02:41:13.267298Z"
    }
   },
   "id": "191ce63e65639873"
  },
  {
   "cell_type": "code",
   "execution_count": 6,
   "outputs": [
    {
     "data": {
      "text/plain": "tensor([[ 0,  1,  2,  3],\n        [ 4,  5,  6,  7],\n        [ 8,  9, 10, 11]])"
     },
     "execution_count": 6,
     "metadata": {},
     "output_type": "execute_result"
    }
   ],
   "source": [
    "X = x.reshape(3, 4)\n",
    "X"
   ],
   "metadata": {
    "collapsed": false,
    "ExecuteTime": {
     "end_time": "2023-11-01T02:41:13.272383Z",
     "start_time": "2023-11-01T02:41:13.268994Z"
    }
   },
   "id": "f8f1780d987d3001"
  },
  {
   "cell_type": "code",
   "execution_count": 7,
   "outputs": [
    {
     "data": {
      "text/plain": "tensor([[[0., 0., 0., 0.],\n         [0., 0., 0., 0.],\n         [0., 0., 0., 0.]],\n\n        [[0., 0., 0., 0.],\n         [0., 0., 0., 0.],\n         [0., 0., 0., 0.]]])"
     },
     "execution_count": 7,
     "metadata": {},
     "output_type": "execute_result"
    }
   ],
   "source": [
    "torch.zeros((2, 3, 4))"
   ],
   "metadata": {
    "collapsed": false,
    "ExecuteTime": {
     "end_time": "2023-11-01T02:41:13.324253Z",
     "start_time": "2023-11-01T02:41:13.272021Z"
    }
   },
   "id": "6b21409322c1c105"
  },
  {
   "cell_type": "code",
   "execution_count": 8,
   "outputs": [
    {
     "data": {
      "text/plain": "tensor([[[1., 1., 1., 1.],\n         [1., 1., 1., 1.],\n         [1., 1., 1., 1.]],\n\n        [[1., 1., 1., 1.],\n         [1., 1., 1., 1.],\n         [1., 1., 1., 1.]]])"
     },
     "execution_count": 8,
     "metadata": {},
     "output_type": "execute_result"
    }
   ],
   "source": [
    "torch.ones((2, 3, 4))"
   ],
   "metadata": {
    "collapsed": false,
    "ExecuteTime": {
     "end_time": "2023-11-01T02:41:13.324765Z",
     "start_time": "2023-11-01T02:41:13.288152Z"
    }
   },
   "id": "1b50633a1b337bfa"
  },
  {
   "cell_type": "code",
   "execution_count": 9,
   "outputs": [
    {
     "data": {
      "text/plain": "tensor([[ 1.7372,  0.2964, -1.0016,  0.7853],\n        [-2.4621,  1.1153,  1.1360, -0.8599],\n        [ 1.7627, -0.6555, -0.6181,  1.2547]])"
     },
     "execution_count": 9,
     "metadata": {},
     "output_type": "execute_result"
    }
   ],
   "source": [
    "torch.randn(3, 4)"
   ],
   "metadata": {
    "collapsed": false,
    "ExecuteTime": {
     "end_time": "2023-11-01T02:41:13.324908Z",
     "start_time": "2023-11-01T02:41:13.297258Z"
    }
   },
   "id": "fa1803393741a669"
  },
  {
   "cell_type": "code",
   "execution_count": 10,
   "outputs": [
    {
     "data": {
      "text/plain": "tensor([[1, 2, 3],\n        [4, 5, 6]])"
     },
     "execution_count": 10,
     "metadata": {},
     "output_type": "execute_result"
    }
   ],
   "source": [
    "torch.tensor([[1, 2, 3], [4, 5, 6]])"
   ],
   "metadata": {
    "collapsed": false,
    "ExecuteTime": {
     "end_time": "2023-11-01T02:41:13.325021Z",
     "start_time": "2023-11-01T02:41:13.304011Z"
    }
   },
   "id": "743bd7583c3d8acf"
  },
  {
   "cell_type": "code",
   "execution_count": 11,
   "outputs": [
    {
     "data": {
      "text/plain": "(tensor([ 3.,  4.,  6., 10.]),\n tensor([-1.,  0.,  2.,  6.]),\n tensor([ 2.,  4.,  8., 16.]),\n tensor([0.5000, 1.0000, 2.0000, 4.0000]),\n tensor([ 1.,  4., 16., 64.]))"
     },
     "execution_count": 11,
     "metadata": {},
     "output_type": "execute_result"
    }
   ],
   "source": [
    "x = torch.tensor([1.0, 2, 4, 8])\n",
    "y = torch.tensor([2, 2, 2, 2])\n",
    "x + y, x - y, x * y, x / y, x ** y "
   ],
   "metadata": {
    "collapsed": false,
    "ExecuteTime": {
     "end_time": "2023-11-01T02:41:13.325117Z",
     "start_time": "2023-11-01T02:41:13.308148Z"
    }
   },
   "id": "e34ad7f3c5a1c823"
  },
  {
   "cell_type": "code",
   "execution_count": 12,
   "outputs": [
    {
     "data": {
      "text/plain": "tensor([2.7183e+00, 7.3891e+00, 5.4598e+01, 2.9810e+03])"
     },
     "execution_count": 12,
     "metadata": {},
     "output_type": "execute_result"
    }
   ],
   "source": [
    "torch.exp(x) # 指数运算 $e^x$"
   ],
   "metadata": {
    "collapsed": false,
    "ExecuteTime": {
     "end_time": "2023-11-01T02:41:13.325206Z",
     "start_time": "2023-11-01T02:41:13.313546Z"
    }
   },
   "id": "5b020b34296e608"
  },
  {
   "cell_type": "code",
   "execution_count": 13,
   "outputs": [
    {
     "data": {
      "text/plain": "(tensor([[ 0.,  1.,  2.,  3.],\n         [ 4.,  5.,  6.,  7.],\n         [ 8.,  9., 10., 11.],\n         [ 2.,  1.,  4.,  3.],\n         [ 1.,  2.,  3.,  4.],\n         [ 4.,  3.,  2.,  1.]]),\n tensor([[ 0.,  1.,  2.,  3.,  2.,  1.,  4.,  3.],\n         [ 4.,  5.,  6.,  7.,  1.,  2.,  3.,  4.],\n         [ 8.,  9., 10., 11.,  4.,  3.,  2.,  1.]]))"
     },
     "execution_count": 13,
     "metadata": {},
     "output_type": "execute_result"
    }
   ],
   "source": [
    "X = torch.arange(12, dtype=torch.float32).reshape((3, 4))\n",
    "Y = torch.tensor([[2.0, 1, 4, 3], [1, 2, 3, 4], [4, 3, 2, 1]])\n",
    "torch.cat((X, Y), dim=0), torch.cat((X, Y), dim=1) # 拼接 沿着行和列拼接"
   ],
   "metadata": {
    "collapsed": false,
    "ExecuteTime": {
     "end_time": "2023-11-01T02:41:13.326404Z",
     "start_time": "2023-11-01T02:41:13.316211Z"
    }
   },
   "id": "cc374a11bdc6d9c9"
  },
  {
   "cell_type": "code",
   "execution_count": 14,
   "outputs": [
    {
     "data": {
      "text/plain": "tensor([[False,  True, False,  True],\n        [False, False, False, False],\n        [False, False, False, False]])"
     },
     "execution_count": 14,
     "metadata": {},
     "output_type": "execute_result"
    }
   ],
   "source": [
    "X == Y"
   ],
   "metadata": {
    "collapsed": false,
    "ExecuteTime": {
     "end_time": "2023-11-01T02:41:13.326490Z",
     "start_time": "2023-11-01T02:41:13.320931Z"
    }
   },
   "id": "e501938d00726393"
  },
  {
   "cell_type": "code",
   "execution_count": 15,
   "outputs": [
    {
     "data": {
      "text/plain": "tensor(66.)"
     },
     "execution_count": 15,
     "metadata": {},
     "output_type": "execute_result"
    }
   ],
   "source": [
    "X.sum()"
   ],
   "metadata": {
    "collapsed": false,
    "ExecuteTime": {
     "end_time": "2023-11-01T02:41:13.348979Z",
     "start_time": "2023-11-01T02:41:13.324163Z"
    }
   },
   "id": "aa1350c709207d03"
  },
  {
   "cell_type": "code",
   "execution_count": 16,
   "outputs": [
    {
     "data": {
      "text/plain": "(tensor([[0],\n         [1],\n         [2]]),\n tensor([[0, 1]]))"
     },
     "execution_count": 16,
     "metadata": {},
     "output_type": "execute_result"
    }
   ],
   "source": [
    "a = torch.arange(3).reshape((3, 1))\n",
    "b = torch.arange(2).reshape((1, 2))\n",
    "a, b"
   ],
   "metadata": {
    "collapsed": false,
    "ExecuteTime": {
     "end_time": "2023-11-01T02:41:13.353331Z",
     "start_time": "2023-11-01T02:41:13.326726Z"
    }
   },
   "id": "a8b2f60aab647b85"
  },
  {
   "cell_type": "code",
   "execution_count": 17,
   "outputs": [
    {
     "data": {
      "text/plain": "tensor([[0, 1],\n        [1, 2],\n        [2, 3]])"
     },
     "execution_count": 17,
     "metadata": {},
     "output_type": "execute_result"
    }
   ],
   "source": [
    "a + b # 广播机制"
   ],
   "metadata": {
    "collapsed": false,
    "ExecuteTime": {
     "end_time": "2023-11-01T02:41:13.353575Z",
     "start_time": "2023-11-01T02:41:13.329275Z"
    }
   },
   "id": "f558105abcbde032"
  },
  {
   "cell_type": "code",
   "execution_count": 18,
   "outputs": [
    {
     "data": {
      "text/plain": "(tensor([ 8.,  9., 10., 11.]),\n tensor([[ 4.,  5.,  6.,  7.],\n         [ 8.,  9., 10., 11.]]))"
     },
     "execution_count": 18,
     "metadata": {},
     "output_type": "execute_result"
    }
   ],
   "source": [
    "X[-1], X[1:3]"
   ],
   "metadata": {
    "collapsed": false,
    "ExecuteTime": {
     "end_time": "2023-11-01T02:41:13.353712Z",
     "start_time": "2023-11-01T02:41:13.332504Z"
    }
   },
   "id": "11ad7dd380be37b0"
  },
  {
   "cell_type": "code",
   "execution_count": 19,
   "outputs": [
    {
     "data": {
      "text/plain": "tensor([[ 0.,  1.,  2.,  3.],\n        [ 4.,  5.,  9.,  7.],\n        [ 8.,  9., 10., 11.]])"
     },
     "execution_count": 19,
     "metadata": {},
     "output_type": "execute_result"
    }
   ],
   "source": [
    "X[1, 2] = 9\n",
    "X"
   ],
   "metadata": {
    "collapsed": false,
    "ExecuteTime": {
     "end_time": "2023-11-01T02:41:13.406643Z",
     "start_time": "2023-11-01T02:41:13.334687Z"
    }
   },
   "id": "7f15ab3691312077"
  },
  {
   "cell_type": "code",
   "execution_count": 20,
   "outputs": [
    {
     "data": {
      "text/plain": "tensor([[12., 12., 12., 12.],\n        [12., 12., 12., 12.],\n        [ 8.,  9., 10., 11.]])"
     },
     "execution_count": 20,
     "metadata": {},
     "output_type": "execute_result"
    }
   ],
   "source": [
    "X[0:2, :] = 12 # 为多个元素赋值相同的值\n",
    "X"
   ],
   "metadata": {
    "collapsed": false,
    "ExecuteTime": {
     "end_time": "2023-11-01T02:41:13.415835Z",
     "start_time": "2023-11-01T02:41:13.337222Z"
    }
   },
   "id": "41c5f08d1d53475f"
  },
  {
   "cell_type": "code",
   "execution_count": 21,
   "outputs": [
    {
     "data": {
      "text/plain": "False"
     },
     "execution_count": 21,
     "metadata": {},
     "output_type": "execute_result"
    }
   ],
   "source": [
    "before = id(Y)\n",
    "Y = Y + X\n",
    "id(Y) == before"
   ],
   "metadata": {
    "collapsed": false,
    "ExecuteTime": {
     "end_time": "2023-11-01T02:41:13.416457Z",
     "start_time": "2023-11-01T02:41:13.339578Z"
    }
   },
   "id": "984404ef5c943bda"
  },
  {
   "cell_type": "code",
   "execution_count": 22,
   "outputs": [
    {
     "name": "stdout",
     "output_type": "stream",
     "text": [
      "id(Z): 5433979472\n",
      "id(Z): 5433979472\n"
     ]
    }
   ],
   "source": [
    "Z = torch.zeros_like(Y) \n",
    "print('id(Z):', id(Z))\n",
    "Z[:] = X + Y # 通过切片表达式将操作的结果写入一个先前分配的数组中 节省内存\n",
    "print('id(Z):', id(Z))"
   ],
   "metadata": {
    "collapsed": false,
    "ExecuteTime": {
     "end_time": "2023-11-01T02:41:13.416642Z",
     "start_time": "2023-11-01T02:41:13.342739Z"
    }
   },
   "id": "63df93df515804de"
  },
  {
   "cell_type": "code",
   "execution_count": 23,
   "outputs": [
    {
     "data": {
      "text/plain": "True"
     },
     "execution_count": 23,
     "metadata": {},
     "output_type": "execute_result"
    }
   ],
   "source": [
    "before = id(X)\n",
    "X += Y\n",
    "id(X) == before"
   ],
   "metadata": {
    "collapsed": false,
    "ExecuteTime": {
     "end_time": "2023-11-01T02:41:13.416758Z",
     "start_time": "2023-11-01T02:41:13.344895Z"
    }
   },
   "id": "700f5a79ed6283a7"
  },
  {
   "cell_type": "code",
   "execution_count": 24,
   "outputs": [
    {
     "data": {
      "text/plain": "(numpy.ndarray, torch.Tensor)"
     },
     "execution_count": 24,
     "metadata": {},
     "output_type": "execute_result"
    }
   ],
   "source": [
    "A = X.numpy()\n",
    "B = torch.tensor(A)\n",
    "type(A), type(B)"
   ],
   "metadata": {
    "collapsed": false,
    "ExecuteTime": {
     "end_time": "2023-11-01T02:41:13.418439Z",
     "start_time": "2023-11-01T02:41:13.348324Z"
    }
   },
   "id": "dea6571a81c5e37f"
  },
  {
   "cell_type": "code",
   "execution_count": 25,
   "outputs": [
    {
     "data": {
      "text/plain": "(tensor([3.5000]), 3.5, 3.5, 3)"
     },
     "execution_count": 25,
     "metadata": {},
     "output_type": "execute_result"
    }
   ],
   "source": [
    "a = torch.tensor([3.5])\n",
    "a, a.item(), float(a), int(a)"
   ],
   "metadata": {
    "collapsed": false,
    "ExecuteTime": {
     "end_time": "2023-11-01T02:41:13.418685Z",
     "start_time": "2023-11-01T02:41:13.350659Z"
    }
   },
   "id": "a23684fc1b73f768"
  },
  {
   "cell_type": "markdown",
   "source": [
    "# 数据预处理"
   ],
   "metadata": {
    "collapsed": false
   },
   "id": "8fa68c40b38fcee5"
  },
  {
   "cell_type": "code",
   "execution_count": 26,
   "outputs": [],
   "source": [
    "import os\n",
    "\n",
    "os.makedirs(os.path.join('..', 'Deep_data'), exist_ok=True)\n",
    "data_file = os.path.join('..', 'Deep_data', 'house_tiny.csv')\n",
    "with open(data_file, 'w') as f:\n",
    "    f.write('NumRooms,Alley,Price\\n')  # 列名\n",
    "    f.write('NA,Pave,127500\\n')  # 每行表示一个数据样本\n",
    "    f.write('2,NA,106000\\n')\n",
    "    f.write('4,NA,178100\\n')\n",
    "    f.write('NA,NA,140000\\n')"
   ],
   "metadata": {
    "collapsed": false,
    "ExecuteTime": {
     "end_time": "2023-11-01T02:41:13.430599Z",
     "start_time": "2023-11-01T02:41:13.353293Z"
    }
   },
   "id": "b034339d76fccc58"
  },
  {
   "cell_type": "code",
   "execution_count": 27,
   "outputs": [
    {
     "name": "stdout",
     "output_type": "stream",
     "text": [
      "   NumRooms Alley   Price\n",
      "0       NaN  Pave  127500\n",
      "1       2.0   NaN  106000\n",
      "2       4.0   NaN  178100\n",
      "3       NaN   NaN  140000\n"
     ]
    }
   ],
   "source": [
    "import pandas as pd\n",
    "\n",
    "data = pd.read_csv(data_file)\n",
    "print(data)"
   ],
   "metadata": {
    "collapsed": false,
    "ExecuteTime": {
     "end_time": "2023-11-01T02:41:13.778849Z",
     "start_time": "2023-11-01T02:41:13.356157Z"
    }
   },
   "id": "dd5662adceb4532a"
  },
  {
   "cell_type": "code",
   "execution_count": 28,
   "outputs": [
    {
     "name": "stdout",
     "output_type": "stream",
     "text": [
      "   NumRooms Alley\n",
      "0       3.0  Pave\n",
      "1       2.0   NaN\n",
      "2       4.0   NaN\n",
      "3       3.0   NaN\n"
     ]
    }
   ],
   "source": [
    "inputs, outputs = data.iloc[:, 0:2], data.iloc[:, 2]\n",
    "#inputs = inputs.mean()\n",
    "inputs = inputs.fillna(inputs.mean(numeric_only=True)) #numeric_only=True 只对数值型数据进行填充\n",
    "#inputs = inputs.fillna()\n",
    "print(inputs)"
   ],
   "metadata": {
    "collapsed": false,
    "ExecuteTime": {
     "end_time": "2023-11-01T02:41:13.784231Z",
     "start_time": "2023-11-01T02:41:13.780065Z"
    }
   },
   "id": "6beb897032c9328e"
  },
  {
   "cell_type": "code",
   "execution_count": 29,
   "outputs": [
    {
     "data": {
      "text/plain": "   NumRooms  Alley_Pave  Alley_nan\n0       3.0           1          0\n1       2.0           0          1\n2       4.0           0          1\n3       3.0           0          1",
      "text/html": "<div>\n<style scoped>\n    .dataframe tbody tr th:only-of-type {\n        vertical-align: middle;\n    }\n\n    .dataframe tbody tr th {\n        vertical-align: top;\n    }\n\n    .dataframe thead th {\n        text-align: right;\n    }\n</style>\n<table border=\"1\" class=\"dataframe\">\n  <thead>\n    <tr style=\"text-align: right;\">\n      <th></th>\n      <th>NumRooms</th>\n      <th>Alley_Pave</th>\n      <th>Alley_nan</th>\n    </tr>\n  </thead>\n  <tbody>\n    <tr>\n      <th>0</th>\n      <td>3.0</td>\n      <td>1</td>\n      <td>0</td>\n    </tr>\n    <tr>\n      <th>1</th>\n      <td>2.0</td>\n      <td>0</td>\n      <td>1</td>\n    </tr>\n    <tr>\n      <th>2</th>\n      <td>4.0</td>\n      <td>0</td>\n      <td>1</td>\n    </tr>\n    <tr>\n      <th>3</th>\n      <td>3.0</td>\n      <td>0</td>\n      <td>1</td>\n    </tr>\n  </tbody>\n</table>\n</div>"
     },
     "execution_count": 29,
     "metadata": {},
     "output_type": "execute_result"
    }
   ],
   "source": [
    "inputs = pd.get_dummies(inputs, dummy_na=True) #不理解这里bool型为true和false\n",
    "#inputs.astype(int) #bool型转换为int型\n",
    "inputs = inputs + 0\n",
    "inputs"
   ],
   "metadata": {
    "collapsed": false,
    "ExecuteTime": {
     "end_time": "2023-11-01T02:41:13.792285Z",
     "start_time": "2023-11-01T02:41:13.787521Z"
    }
   },
   "id": "9a533904a1a15ca1"
  },
  {
   "cell_type": "code",
   "execution_count": 30,
   "outputs": [
    {
     "data": {
      "text/plain": "(tensor([[3., 1., 0.],\n         [2., 0., 1.],\n         [4., 0., 1.],\n         [3., 0., 1.]], dtype=torch.float64),\n tensor([127500, 106000, 178100, 140000]))"
     },
     "execution_count": 30,
     "metadata": {},
     "output_type": "execute_result"
    }
   ],
   "source": [
    "X, y = torch.tensor(inputs.values), torch.tensor(outputs.values) # 转化为张量\n",
    "X, y"
   ],
   "metadata": {
    "collapsed": false,
    "ExecuteTime": {
     "end_time": "2023-11-01T02:41:13.795426Z",
     "start_time": "2023-11-01T02:41:13.790769Z"
    }
   },
   "id": "4494a921bfac2537"
  },
  {
   "cell_type": "markdown",
   "source": [
    "# 线性代数"
   ],
   "metadata": {
    "collapsed": false
   },
   "id": "f588ccf83102f5b"
  },
  {
   "cell_type": "code",
   "execution_count": 31,
   "outputs": [
    {
     "data": {
      "text/plain": "(tensor(5.), tensor(6.), tensor(1.5000), tensor(9.))"
     },
     "execution_count": 31,
     "metadata": {},
     "output_type": "execute_result"
    }
   ],
   "source": [
    "x = torch.tensor(3.0)\n",
    "y = torch.tensor(2.0)\n",
    "\n",
    "x + y, x * y, x / y, x ** y\n"
   ],
   "metadata": {
    "collapsed": false,
    "ExecuteTime": {
     "end_time": "2023-11-01T02:41:13.797261Z",
     "start_time": "2023-11-01T02:41:13.794606Z"
    }
   },
   "id": "4a7434837dc76d4f"
  },
  {
   "cell_type": "code",
   "execution_count": 32,
   "outputs": [
    {
     "data": {
      "text/plain": "(tensor([0, 1, 2, 3]), tensor(3), 4)"
     },
     "execution_count": 32,
     "metadata": {},
     "output_type": "execute_result"
    }
   ],
   "source": [
    "x = torch.arange(4)\n",
    "x, x[3], len(x)"
   ],
   "metadata": {
    "collapsed": false,
    "ExecuteTime": {
     "end_time": "2023-11-01T02:41:13.836282Z",
     "start_time": "2023-11-01T02:41:13.797530Z"
    }
   },
   "id": "6d68868dc2cfc5a7"
  },
  {
   "cell_type": "code",
   "execution_count": 33,
   "outputs": [
    {
     "data": {
      "text/plain": "(tensor([[ 0,  1,  2,  3],\n         [ 4,  5,  6,  7],\n         [ 8,  9, 10, 11],\n         [12, 13, 14, 15],\n         [16, 17, 18, 19]]),\n tensor([[ 0,  4,  8, 12, 16],\n         [ 1,  5,  9, 13, 17],\n         [ 2,  6, 10, 14, 18],\n         [ 3,  7, 11, 15, 19]]))"
     },
     "execution_count": 33,
     "metadata": {},
     "output_type": "execute_result"
    }
   ],
   "source": [
    "A = torch.arange(20).reshape(5, 4)\n",
    "A, A.T"
   ],
   "metadata": {
    "collapsed": false,
    "ExecuteTime": {
     "end_time": "2023-11-01T02:41:13.836641Z",
     "start_time": "2023-11-01T02:41:13.799607Z"
    }
   },
   "id": "d7bc34fb6b4275f3"
  },
  {
   "cell_type": "code",
   "execution_count": 34,
   "outputs": [
    {
     "data": {
      "text/plain": "(tensor([[1, 2, 3],\n         [2, 0, 4],\n         [3, 4, 5]]),\n tensor([[True, True, True],\n         [True, True, True],\n         [True, True, True]]))"
     },
     "execution_count": 34,
     "metadata": {},
     "output_type": "execute_result"
    }
   ],
   "source": [
    "B = torch.tensor([[1, 2, 3], [2, 0, 4], [3, 4, 5]]) # 对称矩阵\n",
    "B, B == B.T"
   ],
   "metadata": {
    "collapsed": false,
    "ExecuteTime": {
     "end_time": "2023-11-01T02:41:13.836794Z",
     "start_time": "2023-11-01T02:41:13.803096Z"
    }
   },
   "id": "d97e209bf45c5974"
  },
  {
   "cell_type": "code",
   "execution_count": 35,
   "outputs": [
    {
     "data": {
      "text/plain": "tensor([[[ 0,  1,  2,  3],\n         [ 4,  5,  6,  7],\n         [ 8,  9, 10, 11]],\n\n        [[12, 13, 14, 15],\n         [16, 17, 18, 19],\n         [20, 21, 22, 23]]])"
     },
     "execution_count": 35,
     "metadata": {},
     "output_type": "execute_result"
    }
   ],
   "source": [
    "X = torch.arange(24).reshape(2, 3, 4)\n",
    "X"
   ],
   "metadata": {
    "collapsed": false,
    "ExecuteTime": {
     "end_time": "2023-11-01T02:41:13.837142Z",
     "start_time": "2023-11-01T02:41:13.805068Z"
    }
   },
   "id": "bb853cfc0d297658"
  },
  {
   "cell_type": "code",
   "execution_count": 36,
   "outputs": [
    {
     "data": {
      "text/plain": "(tensor([[ 0.,  1.,  2.,  3.],\n         [ 4.,  5.,  6.,  7.],\n         [ 8.,  9., 10., 11.],\n         [12., 13., 14., 15.],\n         [16., 17., 18., 19.]]),\n tensor([[ 0.,  2.,  4.,  6.],\n         [ 8., 10., 12., 14.],\n         [16., 18., 20., 22.],\n         [24., 26., 28., 30.],\n         [32., 34., 36., 38.]]),\n tensor([[  0.,   1.,   4.,   9.],\n         [ 16.,  25.,  36.,  49.],\n         [ 64.,  81., 100., 121.],\n         [144., 169., 196., 225.],\n         [256., 289., 324., 361.]]))"
     },
     "execution_count": 36,
     "metadata": {},
     "output_type": "execute_result"
    }
   ],
   "source": [
    "A = torch.arange(20, dtype=torch.float32).reshape(5, 4)\n",
    "B = A.clone()  # 通过分配新内存，将A的一个副本分配给B\n",
    "A, A + B, A * B "
   ],
   "metadata": {
    "collapsed": false,
    "ExecuteTime": {
     "end_time": "2023-11-01T02:41:13.855036Z",
     "start_time": "2023-11-01T02:41:13.807804Z"
    }
   },
   "id": "4ff7a02727d8a1f1"
  },
  {
   "cell_type": "code",
   "execution_count": 37,
   "outputs": [
    {
     "data": {
      "text/plain": "(tensor([[[ 0,  1,  2,  3],\n          [ 4,  5,  6,  7],\n          [ 8,  9, 10, 11]],\n \n         [[12, 13, 14, 15],\n          [16, 17, 18, 19],\n          [20, 21, 22, 23]]]),\n tensor([[[ 2,  3,  4,  5],\n          [ 6,  7,  8,  9],\n          [10, 11, 12, 13]],\n \n         [[14, 15, 16, 17],\n          [18, 19, 20, 21],\n          [22, 23, 24, 25]]]),\n torch.Size([2, 3, 4]))"
     },
     "execution_count": 37,
     "metadata": {},
     "output_type": "execute_result"
    }
   ],
   "source": [
    "a = 2\n",
    "X = torch.arange(24).reshape(2, 3, 4)\n",
    "X, a + X, (a * X).shape"
   ],
   "metadata": {
    "collapsed": false,
    "ExecuteTime": {
     "end_time": "2023-11-01T02:41:13.867287Z",
     "start_time": "2023-11-01T02:41:13.812312Z"
    }
   },
   "id": "e39f3cd6670c831d"
  },
  {
   "cell_type": "code",
   "execution_count": 38,
   "outputs": [
    {
     "data": {
      "text/plain": "(tensor([0., 1., 2., 3.]), tensor(6.))"
     },
     "execution_count": 38,
     "metadata": {},
     "output_type": "execute_result"
    }
   ],
   "source": [
    "x = torch.arange(4, dtype=torch.float32)\n",
    "x, x.sum() # 降维"
   ],
   "metadata": {
    "collapsed": false,
    "ExecuteTime": {
     "end_time": "2023-11-01T02:41:13.867870Z",
     "start_time": "2023-11-01T02:41:13.815409Z"
    }
   },
   "id": "e28db25162264c31"
  },
  {
   "cell_type": "code",
   "execution_count": 39,
   "outputs": [
    {
     "name": "stdout",
     "output_type": "stream",
     "text": [
      "A= tensor([[ 0.,  1.,  2.,  3.],\n",
      "        [ 4.,  5.,  6.,  7.],\n",
      "        [ 8.,  9., 10., 11.],\n",
      "        [12., 13., 14., 15.],\n",
      "        [16., 17., 18., 19.]])\n",
      "A.shape= torch.Size([5, 4])\n",
      "A_sum_axis0= tensor([40., 45., 50., 55.])\n",
      "A_sum_axis0.shape= torch.Size([4])\n",
      "A_sum_axis1= tensor([ 6., 22., 38., 54., 70.])\n",
      "A_sum_axis1.shape= torch.Size([5])\n",
      "A_sum(axis=[0,1])= tensor(190.)\n",
      "A.mean()= tensor(9.5000)\n",
      "A.sum()/A.numel()= tensor(9.5000)\n",
      "A.mean(axis=0)= tensor([ 8.,  9., 10., 11.])\n",
      "A.sum(axis=0) / A.shape[0]= tensor([ 8.,  9., 10., 11.])\n",
      "A.sum(axis=1, keepdims=True)=\n",
      " tensor([[ 6.],\n",
      "        [22.],\n",
      "        [38.],\n",
      "        [54.],\n",
      "        [70.]])\n",
      "A / A.sum(axis=1, keepdims=True)=\n",
      " tensor([[0.0000, 0.1667, 0.3333, 0.5000],\n",
      "        [0.1818, 0.2273, 0.2727, 0.3182],\n",
      "        [0.2105, 0.2368, 0.2632, 0.2895],\n",
      "        [0.2222, 0.2407, 0.2593, 0.2778],\n",
      "        [0.2286, 0.2429, 0.2571, 0.2714]])\n",
      "A.cumsum(axis=0)=\n",
      " tensor([[ 0.,  1.,  2.,  3.],\n",
      "        [ 4.,  6.,  8., 10.],\n",
      "        [12., 15., 18., 21.],\n",
      "        [24., 28., 32., 36.],\n",
      "        [40., 45., 50., 55.]])\n"
     ]
    }
   ],
   "source": [
    "A_sum_axis0 = A.sum(axis=0) # 沿着行进行求和\n",
    "A_sum_axis1 = A.sum(axis=1) # 沿着列进行求和\n",
    "print(\"A=\",A)\n",
    "print(\"A.shape=\",A.shape)\n",
    "print(\"A_sum_axis0=\",A_sum_axis0)\n",
    "print(\"A_sum_axis0.shape=\",A_sum_axis0.shape)\n",
    "print(\"A_sum_axis1=\",A_sum_axis1)\n",
    "print(\"A_sum_axis1.shape=\",A_sum_axis1.shape)\n",
    "print(\"A_sum(axis=[0,1])=\",A.sum(axis=[0, 1])) # Same as `A.sum()`\n",
    "print(\"A.mean()=\",A.mean())\n",
    "print(\"A.sum()/A.numel()=\",A.sum() / A.numel())\n",
    "print(\"A.mean(axis=0)=\",A.mean(axis=0))  # 沿着行进行求平均\n",
    "print(\"A.sum(axis=0) / A.shape[0]=\",A.sum(axis=0) / A.shape[0])  \n",
    "print(\"A.sum(axis=1, keepdims=True)=\\n\",A.sum(axis=1, keepdims=True)) # 非降维求和\n",
    "print(\"A / A.sum(axis=1, keepdims=True)=\\n\",A / A.sum(axis=1, keepdims=True)) \n",
    "print(\"A.cumsum(axis=0)=\\n\",A.cumsum(axis=0)) # 沿着行进行累加"
   ],
   "metadata": {
    "collapsed": false,
    "ExecuteTime": {
     "end_time": "2023-11-01T02:41:13.868106Z",
     "start_time": "2023-11-01T02:41:13.823915Z"
    }
   },
   "id": "4debf2cb86388312"
  },
  {
   "cell_type": "markdown",
   "source": [
    "## 点积 矩阵——向量积"
   ],
   "metadata": {
    "collapsed": false
   },
   "id": "aacbef6df200a978"
  },
  {
   "cell_type": "code",
   "execution_count": 40,
   "outputs": [
    {
     "name": "stdout",
     "output_type": "stream",
     "text": [
      "x= tensor([0., 1., 2., 3.])\n",
      "y= tensor([1., 1., 1., 1.])\n",
      "torch.dot(x, y)= tensor(6.)\n",
      "torch.sum(x * y)= tensor(6.)\n",
      "A.shape= torch.Size([5, 4])\n",
      "x.shape= torch.Size([4])\n",
      "torch.mv(A, x)= tensor([ 14.,  38.,  62.,  86., 110.])\n"
     ]
    }
   ],
   "source": [
    "y = torch.ones(4, dtype=torch.float32)\n",
    "x, y, torch.dot(x, y), torch.sum(x * y)\n",
    "print(\"x=\",x)\n",
    "print(\"y=\",y)\n",
    "print(\"torch.dot(x, y)=\",torch.dot(x, y))\n",
    "print(\"torch.sum(x * y)=\",torch.sum(x * y))\n",
    "print(\"A.shape=\",A.shape)\n",
    "print(\"x.shape=\",x.shape)\n",
    "print(\"torch.mv(A, x)=\",torch.mv(A, x))"
   ],
   "metadata": {
    "collapsed": false,
    "ExecuteTime": {
     "end_time": "2023-11-01T02:41:13.868194Z",
     "start_time": "2023-11-01T02:41:13.827847Z"
    }
   },
   "id": "ef61ccf2f3b5817f"
  },
  {
   "cell_type": "code",
   "execution_count": 61,
   "outputs": [
    {
     "name": "stdout",
     "output_type": "stream",
     "text": [
      "B= tensor([[1., 1., 1.],\n",
      "        [1., 1., 1.],\n",
      "        [1., 1., 1.],\n",
      "        [1., 1., 1.]])\n",
      "B.shape= torch.Size([4, 3])\n",
      "torch.mm(A, B)=\n",
      " tensor([[ 6.,  6.,  6.],\n",
      "        [22., 22., 22.],\n",
      "        [38., 38., 38.],\n",
      "        [54., 54., 54.],\n",
      "        [70., 70., 70.]])\n"
     ]
    }
   ],
   "source": [
    "B = torch.ones(4, 3)\n",
    "print(\"B=\",B)\n",
    "print(\"B.shape=\",B.shape)\n",
    "print(\"torch.mm(A, B)=\\n\",torch.mm(A, B))"
   ],
   "metadata": {
    "collapsed": false,
    "ExecuteTime": {
     "end_time": "2023-11-01T06:50:55.611666Z",
     "start_time": "2023-11-01T06:50:55.561443Z"
    }
   },
   "id": "bd0dcd7fe957127"
  },
  {
   "cell_type": "markdown",
   "source": [
    "弗洛贝尼乌斯范数\n",
    "定义：设$ A= [a_{ij}]_{m\\times n}$，是一个 $m\\times n $的矩阵，\n",
    "称 $||A||_F=\\sqrt{tr(A^TA)}=\\sqrt{\\sum_{i,j}a_{ij}^2} $是矩阵 A 的 Frobenius norm。"
   ],
   "metadata": {
    "collapsed": false
   },
   "id": "bb41129e28967de9"
  },
  {
   "cell_type": "code",
   "execution_count": 42,
   "outputs": [
    {
     "data": {
      "text/plain": "(tensor(5.), tensor(7.), tensor(6.))"
     },
     "execution_count": 42,
     "metadata": {},
     "output_type": "execute_result"
    }
   ],
   "source": [
    "u = torch.tensor([3.0, -4.0])\n",
    "torch.norm(u), torch.abs(u).sum(), torch.norm(torch.ones((4, 9))) # 范数 弗罗贝尼乌斯范数"
   ],
   "metadata": {
    "collapsed": false,
    "ExecuteTime": {
     "end_time": "2023-11-01T02:41:13.892487Z",
     "start_time": "2023-11-01T02:41:13.837808Z"
    }
   },
   "id": "ea3edfc4bfed6588"
  },
  {
   "cell_type": "markdown",
   "source": [
    "# 微积分"
   ],
   "metadata": {
    "collapsed": false
   },
   "id": "99021bbf05d014eb"
  },
  {
   "cell_type": "code",
   "execution_count": 43,
   "outputs": [],
   "source": [
    "%matplotlib inline\n",
    "import numpy as np\n",
    "from matplotlib_inline import backend_inline\n",
    "from d2l import torch as d2l\n",
    "\n",
    "def f(x):\n",
    "    return 3 * x ** 2 - 4 * x"
   ],
   "metadata": {
    "collapsed": false,
    "ExecuteTime": {
     "end_time": "2023-11-01T02:41:14.528600Z",
     "start_time": "2023-11-01T02:41:13.842226Z"
    }
   },
   "id": "4ac9d746070ae3b1"
  },
  {
   "cell_type": "code",
   "execution_count": 44,
   "outputs": [
    {
     "name": "stdout",
     "output_type": "stream",
     "text": [
      "h=0.10000, numerical limit=2.30000\n",
      "h=0.01000, numerical limit=2.03000\n",
      "h=0.00100, numerical limit=2.00300\n",
      "h=0.00010, numerical limit=2.00030\n",
      "h=0.00001, numerical limit=2.00003\n"
     ]
    }
   ],
   "source": [
    "def numerical_lim(f, x, h):\n",
    "    return (f(x + h) - f(x)) / h\n",
    "\n",
    "h = 0.1\n",
    "for i in range(5):\n",
    "    print(f'h={h:.5f}, numerical limit={numerical_lim(f, 1, h):.5f}')\n",
    "    h *= 0.1"
   ],
   "metadata": {
    "collapsed": false,
    "ExecuteTime": {
     "end_time": "2023-11-01T02:41:14.529409Z",
     "start_time": "2023-11-01T02:41:14.518437Z"
    }
   },
   "id": "97f4093f7417b68b"
  },
  {
   "cell_type": "code",
   "execution_count": 45,
   "outputs": [],
   "source": [
    "def use_svg_display():\n",
    "    \"\"\"Use svg format to display plot in jupyter\"\"\"\n",
    "    backend_inline.set_matplotlib_formats('svg')\n",
    "    \n",
    "def set_figsize(figsize=(3.5, 2.5)):\n",
    "    \"\"\"Set matplotlib figure size\"\"\"\n",
    "    use_svg_display()\n",
    "    d2l.plt.rcParams['figure.figsize'] = figsize\n",
    "    \n",
    "def set_axes(axes, xlabel, ylabel, xlim, ylim, xscale, yscale, legend):\n",
    "    \"\"\"Set matplotlib axes\"\"\"\n",
    "    axes.set_xlabel(xlabel)\n",
    "    axes.set_ylabel(ylabel)\n",
    "    axes.set_xscale(xscale)\n",
    "    axes.set_yscale(yscale)\n",
    "    axes.set_xlim(xlim)\n",
    "    axes.set_ylim(ylim)\n",
    "    if legend:\n",
    "        axes.legend(legend)\n",
    "    axes.grid()\n",
    "    \n",
    "def plot(X, Y=None, xlabel=None, ylabel=None, legend=None, xlim=None,\n",
    "         ylim=None, xscale='linear', yscale='linear', fmts=('-', 'm--', 'g-.', 'r:'),\n",
    "         figsize=(3.5, 2.5), axes=None):\n",
    "    \"\"\"Plot data points\"\"\"\n",
    "    if legend is None:\n",
    "        legend = []\n",
    "        \n",
    "    set_figsize(figsize)\n",
    "    axes = axes if axes else d2l.plt.gca()\n",
    "    \n",
    "    # Return True if `X` (tensor or list) has 1 axis\n",
    "    def has_one_axis(X):\n",
    "        return (hasattr(X, 'ndim') and X.ndim == 1 or isinstance(X, list) and not hasattr(X[0], '__len__'))\n",
    "    \n",
    "    if has_one_axis(X):\n",
    "        X = [X]\n",
    "    if Y is None:\n",
    "        X, Y = [[]] * len(X), X\n",
    "    elif has_one_axis(Y):\n",
    "        Y = [Y]\n",
    "    if len(X) != len(Y):\n",
    "        X = X * len(Y)\n",
    "    axes.cla()\n",
    "    \n",
    "    for x, y, fmt in zip(X, Y, fmts):\n",
    "        if len(x):\n",
    "            axes.plot(x, y, fmt)\n",
    "        else:\n",
    "            axes.plot(y, fmt)\n",
    "            \n",
    "    set_axes(axes, xlabel, ylabel, xlim, ylim, xscale, yscale, legend)"
   ],
   "metadata": {
    "collapsed": false,
    "ExecuteTime": {
     "end_time": "2023-11-01T02:41:14.533237Z",
     "start_time": "2023-11-01T02:41:14.529641Z"
    }
   },
   "id": "8da94f1bbe8f90a2"
  },
  {
   "cell_type": "code",
   "execution_count": 46,
   "outputs": [
    {
     "data": {
      "text/plain": "<Figure size 350x250 with 1 Axes>",
      "image/svg+xml": "<?xml version=\"1.0\" encoding=\"utf-8\" standalone=\"no\"?>\n<!DOCTYPE svg PUBLIC \"-//W3C//DTD SVG 1.1//EN\"\n  \"http://www.w3.org/Graphics/SVG/1.1/DTD/svg11.dtd\">\n<svg xmlns:xlink=\"http://www.w3.org/1999/xlink\" width=\"243.529359pt\" height=\"183.35625pt\" viewBox=\"0 0 243.529359 183.35625\" xmlns=\"http://www.w3.org/2000/svg\" version=\"1.1\">\n <metadata>\n  <rdf:RDF xmlns:dc=\"http://purl.org/dc/elements/1.1/\" xmlns:cc=\"http://creativecommons.org/ns#\" xmlns:rdf=\"http://www.w3.org/1999/02/22-rdf-syntax-ns#\">\n   <cc:Work>\n    <dc:type rdf:resource=\"http://purl.org/dc/dcmitype/StillImage\"/>\n    <dc:date>2023-11-01T10:41:14.589809</dc:date>\n    <dc:format>image/svg+xml</dc:format>\n    <dc:creator>\n     <cc:Agent>\n      <dc:title>Matplotlib v3.7.2, https://matplotlib.org/</dc:title>\n     </cc:Agent>\n    </dc:creator>\n   </cc:Work>\n  </rdf:RDF>\n </metadata>\n <defs>\n  <style type=\"text/css\">*{stroke-linejoin: round; stroke-linecap: butt}</style>\n </defs>\n <g id=\"figure_1\">\n  <g id=\"patch_1\">\n   <path d=\"M 0 183.35625 \nL 243.529359 183.35625 \nL 243.529359 0 \nL 0 0 \nz\n\" style=\"fill: #ffffff\"/>\n  </g>\n  <g id=\"axes_1\">\n   <g id=\"patch_2\">\n    <path d=\"M 40.603125 145.8 \nL 235.903125 145.8 \nL 235.903125 7.2 \nL 40.603125 7.2 \nz\n\" style=\"fill: #ffffff\"/>\n   </g>\n   <g id=\"matplotlib.axis_1\">\n    <g id=\"xtick_1\">\n     <g id=\"line2d_1\">\n      <path d=\"M 49.480398 145.8 \nL 49.480398 7.2 \n\" clip-path=\"url(#p4aff8b48d3)\" style=\"fill: none; stroke: #b0b0b0; stroke-width: 0.8; stroke-linecap: square\"/>\n     </g>\n     <g id=\"line2d_2\">\n      <defs>\n       <path id=\"m3c7a070c80\" d=\"M 0 0 \nL 0 3.5 \n\" style=\"stroke: #000000; stroke-width: 0.8\"/>\n      </defs>\n      <g>\n       <use xlink:href=\"#m3c7a070c80\" x=\"49.480398\" y=\"145.8\" style=\"stroke: #000000; stroke-width: 0.8\"/>\n      </g>\n     </g>\n     <g id=\"text_1\">\n      <!-- 0 -->\n      <g transform=\"translate(46.299148 160.398438) scale(0.1 -0.1)\">\n       <defs>\n        <path id=\"DejaVuSans-30\" d=\"M 2034 4250 \nQ 1547 4250 1301 3770 \nQ 1056 3291 1056 2328 \nQ 1056 1369 1301 889 \nQ 1547 409 2034 409 \nQ 2525 409 2770 889 \nQ 3016 1369 3016 2328 \nQ 3016 3291 2770 3770 \nQ 2525 4250 2034 4250 \nz\nM 2034 4750 \nQ 2819 4750 3233 4129 \nQ 3647 3509 3647 2328 \nQ 3647 1150 3233 529 \nQ 2819 -91 2034 -91 \nQ 1250 -91 836 529 \nQ 422 1150 422 2328 \nQ 422 3509 836 4129 \nQ 1250 4750 2034 4750 \nz\n\" transform=\"scale(0.015625)\"/>\n       </defs>\n       <use xlink:href=\"#DejaVuSans-30\"/>\n      </g>\n     </g>\n    </g>\n    <g id=\"xtick_2\">\n     <g id=\"line2d_3\">\n      <path d=\"M 110.702968 145.8 \nL 110.702968 7.2 \n\" clip-path=\"url(#p4aff8b48d3)\" style=\"fill: none; stroke: #b0b0b0; stroke-width: 0.8; stroke-linecap: square\"/>\n     </g>\n     <g id=\"line2d_4\">\n      <g>\n       <use xlink:href=\"#m3c7a070c80\" x=\"110.702968\" y=\"145.8\" style=\"stroke: #000000; stroke-width: 0.8\"/>\n      </g>\n     </g>\n     <g id=\"text_2\">\n      <!-- 1 -->\n      <g transform=\"translate(107.521718 160.398438) scale(0.1 -0.1)\">\n       <defs>\n        <path id=\"DejaVuSans-31\" d=\"M 794 531 \nL 1825 531 \nL 1825 4091 \nL 703 3866 \nL 703 4441 \nL 1819 4666 \nL 2450 4666 \nL 2450 531 \nL 3481 531 \nL 3481 0 \nL 794 0 \nL 794 531 \nz\n\" transform=\"scale(0.015625)\"/>\n       </defs>\n       <use xlink:href=\"#DejaVuSans-31\"/>\n      </g>\n     </g>\n    </g>\n    <g id=\"xtick_3\">\n     <g id=\"line2d_5\">\n      <path d=\"M 171.925539 145.8 \nL 171.925539 7.2 \n\" clip-path=\"url(#p4aff8b48d3)\" style=\"fill: none; stroke: #b0b0b0; stroke-width: 0.8; stroke-linecap: square\"/>\n     </g>\n     <g id=\"line2d_6\">\n      <g>\n       <use xlink:href=\"#m3c7a070c80\" x=\"171.925539\" y=\"145.8\" style=\"stroke: #000000; stroke-width: 0.8\"/>\n      </g>\n     </g>\n     <g id=\"text_3\">\n      <!-- 2 -->\n      <g transform=\"translate(168.744289 160.398438) scale(0.1 -0.1)\">\n       <defs>\n        <path id=\"DejaVuSans-32\" d=\"M 1228 531 \nL 3431 531 \nL 3431 0 \nL 469 0 \nL 469 531 \nQ 828 903 1448 1529 \nQ 2069 2156 2228 2338 \nQ 2531 2678 2651 2914 \nQ 2772 3150 2772 3378 \nQ 2772 3750 2511 3984 \nQ 2250 4219 1831 4219 \nQ 1534 4219 1204 4116 \nQ 875 4013 500 3803 \nL 500 4441 \nQ 881 4594 1212 4672 \nQ 1544 4750 1819 4750 \nQ 2544 4750 2975 4387 \nQ 3406 4025 3406 3419 \nQ 3406 3131 3298 2873 \nQ 3191 2616 2906 2266 \nQ 2828 2175 2409 1742 \nQ 1991 1309 1228 531 \nz\n\" transform=\"scale(0.015625)\"/>\n       </defs>\n       <use xlink:href=\"#DejaVuSans-32\"/>\n      </g>\n     </g>\n    </g>\n    <g id=\"xtick_4\">\n     <g id=\"line2d_7\">\n      <path d=\"M 233.148109 145.8 \nL 233.148109 7.2 \n\" clip-path=\"url(#p4aff8b48d3)\" style=\"fill: none; stroke: #b0b0b0; stroke-width: 0.8; stroke-linecap: square\"/>\n     </g>\n     <g id=\"line2d_8\">\n      <g>\n       <use xlink:href=\"#m3c7a070c80\" x=\"233.148109\" y=\"145.8\" style=\"stroke: #000000; stroke-width: 0.8\"/>\n      </g>\n     </g>\n     <g id=\"text_4\">\n      <!-- 3 -->\n      <g transform=\"translate(229.966859 160.398438) scale(0.1 -0.1)\">\n       <defs>\n        <path id=\"DejaVuSans-33\" d=\"M 2597 2516 \nQ 3050 2419 3304 2112 \nQ 3559 1806 3559 1356 \nQ 3559 666 3084 287 \nQ 2609 -91 1734 -91 \nQ 1441 -91 1130 -33 \nQ 819 25 488 141 \nL 488 750 \nQ 750 597 1062 519 \nQ 1375 441 1716 441 \nQ 2309 441 2620 675 \nQ 2931 909 2931 1356 \nQ 2931 1769 2642 2001 \nQ 2353 2234 1838 2234 \nL 1294 2234 \nL 1294 2753 \nL 1863 2753 \nQ 2328 2753 2575 2939 \nQ 2822 3125 2822 3475 \nQ 2822 3834 2567 4026 \nQ 2313 4219 1838 4219 \nQ 1578 4219 1281 4162 \nQ 984 4106 628 3988 \nL 628 4550 \nQ 988 4650 1302 4700 \nQ 1616 4750 1894 4750 \nQ 2613 4750 3031 4423 \nQ 3450 4097 3450 3541 \nQ 3450 3153 3228 2886 \nQ 3006 2619 2597 2516 \nz\n\" transform=\"scale(0.015625)\"/>\n       </defs>\n       <use xlink:href=\"#DejaVuSans-33\"/>\n      </g>\n     </g>\n    </g>\n    <g id=\"text_5\">\n     <!-- x -->\n     <g transform=\"translate(135.29375 174.076563) scale(0.1 -0.1)\">\n      <defs>\n       <path id=\"DejaVuSans-78\" d=\"M 3513 3500 \nL 2247 1797 \nL 3578 0 \nL 2900 0 \nL 1881 1375 \nL 863 0 \nL 184 0 \nL 1544 1831 \nL 300 3500 \nL 978 3500 \nL 1906 2253 \nL 2834 3500 \nL 3513 3500 \nz\n\" transform=\"scale(0.015625)\"/>\n      </defs>\n      <use xlink:href=\"#DejaVuSans-78\"/>\n     </g>\n    </g>\n   </g>\n   <g id=\"matplotlib.axis_2\">\n    <g id=\"ytick_1\">\n     <g id=\"line2d_9\">\n      <path d=\"M 40.603125 116.769994 \nL 235.903125 116.769994 \n\" clip-path=\"url(#p4aff8b48d3)\" style=\"fill: none; stroke: #b0b0b0; stroke-width: 0.8; stroke-linecap: square\"/>\n     </g>\n     <g id=\"line2d_10\">\n      <defs>\n       <path id=\"m5aad0a4c5c\" d=\"M 0 0 \nL -3.5 0 \n\" style=\"stroke: #000000; stroke-width: 0.8\"/>\n      </defs>\n      <g>\n       <use xlink:href=\"#m5aad0a4c5c\" x=\"40.603125\" y=\"116.769994\" style=\"stroke: #000000; stroke-width: 0.8\"/>\n      </g>\n     </g>\n     <g id=\"text_6\">\n      <!-- 0 -->\n      <g transform=\"translate(27.240625 120.569213) scale(0.1 -0.1)\">\n       <use xlink:href=\"#DejaVuSans-30\"/>\n      </g>\n     </g>\n    </g>\n    <g id=\"ytick_2\">\n     <g id=\"line2d_11\">\n      <path d=\"M 40.603125 78.886651 \nL 235.903125 78.886651 \n\" clip-path=\"url(#p4aff8b48d3)\" style=\"fill: none; stroke: #b0b0b0; stroke-width: 0.8; stroke-linecap: square\"/>\n     </g>\n     <g id=\"line2d_12\">\n      <g>\n       <use xlink:href=\"#m5aad0a4c5c\" x=\"40.603125\" y=\"78.886651\" style=\"stroke: #000000; stroke-width: 0.8\"/>\n      </g>\n     </g>\n     <g id=\"text_7\">\n      <!-- 5 -->\n      <g transform=\"translate(27.240625 82.685869) scale(0.1 -0.1)\">\n       <defs>\n        <path id=\"DejaVuSans-35\" d=\"M 691 4666 \nL 3169 4666 \nL 3169 4134 \nL 1269 4134 \nL 1269 2991 \nQ 1406 3038 1543 3061 \nQ 1681 3084 1819 3084 \nQ 2600 3084 3056 2656 \nQ 3513 2228 3513 1497 \nQ 3513 744 3044 326 \nQ 2575 -91 1722 -91 \nQ 1428 -91 1123 -41 \nQ 819 9 494 109 \nL 494 744 \nQ 775 591 1075 516 \nQ 1375 441 1709 441 \nQ 2250 441 2565 725 \nQ 2881 1009 2881 1497 \nQ 2881 1984 2565 2268 \nQ 2250 2553 1709 2553 \nQ 1456 2553 1204 2497 \nQ 953 2441 691 2322 \nL 691 4666 \nz\n\" transform=\"scale(0.015625)\"/>\n       </defs>\n       <use xlink:href=\"#DejaVuSans-35\"/>\n      </g>\n     </g>\n    </g>\n    <g id=\"ytick_3\">\n     <g id=\"line2d_13\">\n      <path d=\"M 40.603125 41.003307 \nL 235.903125 41.003307 \n\" clip-path=\"url(#p4aff8b48d3)\" style=\"fill: none; stroke: #b0b0b0; stroke-width: 0.8; stroke-linecap: square\"/>\n     </g>\n     <g id=\"line2d_14\">\n      <g>\n       <use xlink:href=\"#m5aad0a4c5c\" x=\"40.603125\" y=\"41.003307\" style=\"stroke: #000000; stroke-width: 0.8\"/>\n      </g>\n     </g>\n     <g id=\"text_8\">\n      <!-- 10 -->\n      <g transform=\"translate(20.878125 44.802526) scale(0.1 -0.1)\">\n       <use xlink:href=\"#DejaVuSans-31\"/>\n       <use xlink:href=\"#DejaVuSans-30\" x=\"63.623047\"/>\n      </g>\n     </g>\n    </g>\n    <g id=\"text_9\">\n     <!-- f(x) -->\n     <g transform=\"translate(14.798437 85.121094) rotate(-90) scale(0.1 -0.1)\">\n      <defs>\n       <path id=\"DejaVuSans-66\" d=\"M 2375 4863 \nL 2375 4384 \nL 1825 4384 \nQ 1516 4384 1395 4259 \nQ 1275 4134 1275 3809 \nL 1275 3500 \nL 2222 3500 \nL 2222 3053 \nL 1275 3053 \nL 1275 0 \nL 697 0 \nL 697 3053 \nL 147 3053 \nL 147 3500 \nL 697 3500 \nL 697 3744 \nQ 697 4328 969 4595 \nQ 1241 4863 1831 4863 \nL 2375 4863 \nz\n\" transform=\"scale(0.015625)\"/>\n       <path id=\"DejaVuSans-28\" d=\"M 1984 4856 \nQ 1566 4138 1362 3434 \nQ 1159 2731 1159 2009 \nQ 1159 1288 1364 580 \nQ 1569 -128 1984 -844 \nL 1484 -844 \nQ 1016 -109 783 600 \nQ 550 1309 550 2009 \nQ 550 2706 781 3412 \nQ 1013 4119 1484 4856 \nL 1984 4856 \nz\n\" transform=\"scale(0.015625)\"/>\n       <path id=\"DejaVuSans-29\" d=\"M 513 4856 \nL 1013 4856 \nQ 1481 4119 1714 3412 \nQ 1947 2706 1947 2009 \nQ 1947 1309 1714 600 \nQ 1481 -109 1013 -844 \nL 513 -844 \nQ 928 -128 1133 580 \nQ 1338 1288 1338 2009 \nQ 1338 2731 1133 3434 \nQ 928 4138 513 4856 \nz\n\" transform=\"scale(0.015625)\"/>\n      </defs>\n      <use xlink:href=\"#DejaVuSans-66\"/>\n      <use xlink:href=\"#DejaVuSans-28\" x=\"35.205078\"/>\n      <use xlink:href=\"#DejaVuSans-78\" x=\"74.21875\"/>\n      <use xlink:href=\"#DejaVuSans-29\" x=\"133.398438\"/>\n     </g>\n    </g>\n   </g>\n   <g id=\"line2d_15\">\n    <path d=\"M 49.480398 116.769994 \nL 55.602655 119.573361 \nL 61.724912 121.922129 \nL 67.847169 123.816296 \nL 73.969426 125.255863 \nL 80.091683 126.24083 \nL 86.21394 126.771197 \nL 92.336197 126.846963 \nL 98.458454 126.46813 \nL 104.580711 125.634696 \nL 110.702968 124.346663 \nL 116.825225 122.604029 \nL 122.947482 120.406795 \nL 129.069739 117.754961 \nL 135.191996 114.648527 \nL 141.314254 111.087492 \nL 147.436511 107.071858 \nL 153.558768 102.601624 \nL 159.681025 97.676789 \nL 165.803282 92.297354 \nL 171.925539 86.463319 \nL 178.047796 80.174684 \nL 184.170053 73.431449 \nL 190.29231 66.233614 \nL 196.414567 58.581179 \nL 202.536824 50.474143 \nL 208.659081 41.912508 \nL 214.781338 32.896272 \nL 220.903595 23.425436 \nL 227.025852 13.5 \n\" clip-path=\"url(#p4aff8b48d3)\" style=\"fill: none; stroke: #1f77b4; stroke-width: 1.5; stroke-linecap: square\"/>\n   </g>\n   <g id=\"line2d_16\">\n    <path d=\"M 49.480398 139.5 \nL 55.602655 137.984666 \nL 61.724912 136.469333 \nL 67.847169 134.953999 \nL 73.969426 133.438665 \nL 80.091683 131.923331 \nL 86.21394 130.407998 \nL 92.336197 128.892664 \nL 98.458454 127.37733 \nL 104.580711 125.861996 \nL 110.702968 124.346663 \nL 116.825225 122.831329 \nL 122.947482 121.315995 \nL 129.069739 119.800661 \nL 135.191996 118.285328 \nL 141.314254 116.769994 \nL 147.436511 115.25466 \nL 153.558768 113.739327 \nL 159.681025 112.223993 \nL 165.803282 110.708659 \nL 171.925539 109.193325 \nL 178.047796 107.677992 \nL 184.170053 106.162658 \nL 190.29231 104.647324 \nL 196.414567 103.13199 \nL 202.536824 101.616657 \nL 208.659081 100.101323 \nL 214.781338 98.585989 \nL 220.903595 97.070655 \nL 227.025852 95.555322 \n\" clip-path=\"url(#p4aff8b48d3)\" style=\"fill: none; stroke-dasharray: 5.55,2.4; stroke-dashoffset: 0; stroke: #bf00bf; stroke-width: 1.5\"/>\n   </g>\n   <g id=\"patch_3\">\n    <path d=\"M 40.603125 145.8 \nL 40.603125 7.2 \n\" style=\"fill: none; stroke: #000000; stroke-width: 0.8; stroke-linejoin: miter; stroke-linecap: square\"/>\n   </g>\n   <g id=\"patch_4\">\n    <path d=\"M 235.903125 145.8 \nL 235.903125 7.2 \n\" style=\"fill: none; stroke: #000000; stroke-width: 0.8; stroke-linejoin: miter; stroke-linecap: square\"/>\n   </g>\n   <g id=\"patch_5\">\n    <path d=\"M 40.603125 145.8 \nL 235.903125 145.8 \n\" style=\"fill: none; stroke: #000000; stroke-width: 0.8; stroke-linejoin: miter; stroke-linecap: square\"/>\n   </g>\n   <g id=\"patch_6\">\n    <path d=\"M 40.603125 7.2 \nL 235.903125 7.2 \n\" style=\"fill: none; stroke: #000000; stroke-width: 0.8; stroke-linejoin: miter; stroke-linecap: square\"/>\n   </g>\n   <g id=\"legend_1\">\n    <g id=\"patch_7\">\n     <path d=\"M 47.603125 44.55625 \nL 172.153125 44.55625 \nQ 174.153125 44.55625 174.153125 42.55625 \nL 174.153125 14.2 \nQ 174.153125 12.2 172.153125 12.2 \nL 47.603125 12.2 \nQ 45.603125 12.2 45.603125 14.2 \nL 45.603125 42.55625 \nQ 45.603125 44.55625 47.603125 44.55625 \nz\n\" style=\"fill: #ffffff; opacity: 0.8; stroke: #cccccc; stroke-linejoin: miter\"/>\n    </g>\n    <g id=\"line2d_17\">\n     <path d=\"M 49.603125 20.298438 \nL 59.603125 20.298438 \nL 69.603125 20.298438 \n\" style=\"fill: none; stroke: #1f77b4; stroke-width: 1.5; stroke-linecap: square\"/>\n    </g>\n    <g id=\"text_10\">\n     <!-- f(x) -->\n     <g transform=\"translate(77.603125 23.798438) scale(0.1 -0.1)\">\n      <use xlink:href=\"#DejaVuSans-66\"/>\n      <use xlink:href=\"#DejaVuSans-28\" x=\"35.205078\"/>\n      <use xlink:href=\"#DejaVuSans-78\" x=\"74.21875\"/>\n      <use xlink:href=\"#DejaVuSans-29\" x=\"133.398438\"/>\n     </g>\n    </g>\n    <g id=\"line2d_18\">\n     <path d=\"M 49.603125 34.976562 \nL 59.603125 34.976562 \nL 69.603125 34.976562 \n\" style=\"fill: none; stroke-dasharray: 5.55,2.4; stroke-dashoffset: 0; stroke: #bf00bf; stroke-width: 1.5\"/>\n    </g>\n    <g id=\"text_11\">\n     <!-- Tangent line (x=1) -->\n     <g transform=\"translate(77.603125 38.476562) scale(0.1 -0.1)\">\n      <defs>\n       <path id=\"DejaVuSans-54\" d=\"M -19 4666 \nL 3928 4666 \nL 3928 4134 \nL 2272 4134 \nL 2272 0 \nL 1638 0 \nL 1638 4134 \nL -19 4134 \nL -19 4666 \nz\n\" transform=\"scale(0.015625)\"/>\n       <path id=\"DejaVuSans-61\" d=\"M 2194 1759 \nQ 1497 1759 1228 1600 \nQ 959 1441 959 1056 \nQ 959 750 1161 570 \nQ 1363 391 1709 391 \nQ 2188 391 2477 730 \nQ 2766 1069 2766 1631 \nL 2766 1759 \nL 2194 1759 \nz\nM 3341 1997 \nL 3341 0 \nL 2766 0 \nL 2766 531 \nQ 2569 213 2275 61 \nQ 1981 -91 1556 -91 \nQ 1019 -91 701 211 \nQ 384 513 384 1019 \nQ 384 1609 779 1909 \nQ 1175 2209 1959 2209 \nL 2766 2209 \nL 2766 2266 \nQ 2766 2663 2505 2880 \nQ 2244 3097 1772 3097 \nQ 1472 3097 1187 3025 \nQ 903 2953 641 2809 \nL 641 3341 \nQ 956 3463 1253 3523 \nQ 1550 3584 1831 3584 \nQ 2591 3584 2966 3190 \nQ 3341 2797 3341 1997 \nz\n\" transform=\"scale(0.015625)\"/>\n       <path id=\"DejaVuSans-6e\" d=\"M 3513 2113 \nL 3513 0 \nL 2938 0 \nL 2938 2094 \nQ 2938 2591 2744 2837 \nQ 2550 3084 2163 3084 \nQ 1697 3084 1428 2787 \nQ 1159 2491 1159 1978 \nL 1159 0 \nL 581 0 \nL 581 3500 \nL 1159 3500 \nL 1159 2956 \nQ 1366 3272 1645 3428 \nQ 1925 3584 2291 3584 \nQ 2894 3584 3203 3211 \nQ 3513 2838 3513 2113 \nz\n\" transform=\"scale(0.015625)\"/>\n       <path id=\"DejaVuSans-67\" d=\"M 2906 1791 \nQ 2906 2416 2648 2759 \nQ 2391 3103 1925 3103 \nQ 1463 3103 1205 2759 \nQ 947 2416 947 1791 \nQ 947 1169 1205 825 \nQ 1463 481 1925 481 \nQ 2391 481 2648 825 \nQ 2906 1169 2906 1791 \nz\nM 3481 434 \nQ 3481 -459 3084 -895 \nQ 2688 -1331 1869 -1331 \nQ 1566 -1331 1297 -1286 \nQ 1028 -1241 775 -1147 \nL 775 -588 \nQ 1028 -725 1275 -790 \nQ 1522 -856 1778 -856 \nQ 2344 -856 2625 -561 \nQ 2906 -266 2906 331 \nL 2906 616 \nQ 2728 306 2450 153 \nQ 2172 0 1784 0 \nQ 1141 0 747 490 \nQ 353 981 353 1791 \nQ 353 2603 747 3093 \nQ 1141 3584 1784 3584 \nQ 2172 3584 2450 3431 \nQ 2728 3278 2906 2969 \nL 2906 3500 \nL 3481 3500 \nL 3481 434 \nz\n\" transform=\"scale(0.015625)\"/>\n       <path id=\"DejaVuSans-65\" d=\"M 3597 1894 \nL 3597 1613 \nL 953 1613 \nQ 991 1019 1311 708 \nQ 1631 397 2203 397 \nQ 2534 397 2845 478 \nQ 3156 559 3463 722 \nL 3463 178 \nQ 3153 47 2828 -22 \nQ 2503 -91 2169 -91 \nQ 1331 -91 842 396 \nQ 353 884 353 1716 \nQ 353 2575 817 3079 \nQ 1281 3584 2069 3584 \nQ 2775 3584 3186 3129 \nQ 3597 2675 3597 1894 \nz\nM 3022 2063 \nQ 3016 2534 2758 2815 \nQ 2500 3097 2075 3097 \nQ 1594 3097 1305 2825 \nQ 1016 2553 972 2059 \nL 3022 2063 \nz\n\" transform=\"scale(0.015625)\"/>\n       <path id=\"DejaVuSans-74\" d=\"M 1172 4494 \nL 1172 3500 \nL 2356 3500 \nL 2356 3053 \nL 1172 3053 \nL 1172 1153 \nQ 1172 725 1289 603 \nQ 1406 481 1766 481 \nL 2356 481 \nL 2356 0 \nL 1766 0 \nQ 1100 0 847 248 \nQ 594 497 594 1153 \nL 594 3053 \nL 172 3053 \nL 172 3500 \nL 594 3500 \nL 594 4494 \nL 1172 4494 \nz\n\" transform=\"scale(0.015625)\"/>\n       <path id=\"DejaVuSans-20\" transform=\"scale(0.015625)\"/>\n       <path id=\"DejaVuSans-6c\" d=\"M 603 4863 \nL 1178 4863 \nL 1178 0 \nL 603 0 \nL 603 4863 \nz\n\" transform=\"scale(0.015625)\"/>\n       <path id=\"DejaVuSans-69\" d=\"M 603 3500 \nL 1178 3500 \nL 1178 0 \nL 603 0 \nL 603 3500 \nz\nM 603 4863 \nL 1178 4863 \nL 1178 4134 \nL 603 4134 \nL 603 4863 \nz\n\" transform=\"scale(0.015625)\"/>\n       <path id=\"DejaVuSans-3d\" d=\"M 678 2906 \nL 4684 2906 \nL 4684 2381 \nL 678 2381 \nL 678 2906 \nz\nM 678 1631 \nL 4684 1631 \nL 4684 1100 \nL 678 1100 \nL 678 1631 \nz\n\" transform=\"scale(0.015625)\"/>\n      </defs>\n      <use xlink:href=\"#DejaVuSans-54\"/>\n      <use xlink:href=\"#DejaVuSans-61\" x=\"44.583984\"/>\n      <use xlink:href=\"#DejaVuSans-6e\" x=\"105.863281\"/>\n      <use xlink:href=\"#DejaVuSans-67\" x=\"169.242188\"/>\n      <use xlink:href=\"#DejaVuSans-65\" x=\"232.71875\"/>\n      <use xlink:href=\"#DejaVuSans-6e\" x=\"294.242188\"/>\n      <use xlink:href=\"#DejaVuSans-74\" x=\"357.621094\"/>\n      <use xlink:href=\"#DejaVuSans-20\" x=\"396.830078\"/>\n      <use xlink:href=\"#DejaVuSans-6c\" x=\"428.617188\"/>\n      <use xlink:href=\"#DejaVuSans-69\" x=\"456.400391\"/>\n      <use xlink:href=\"#DejaVuSans-6e\" x=\"484.183594\"/>\n      <use xlink:href=\"#DejaVuSans-65\" x=\"547.5625\"/>\n      <use xlink:href=\"#DejaVuSans-20\" x=\"609.085938\"/>\n      <use xlink:href=\"#DejaVuSans-28\" x=\"640.873047\"/>\n      <use xlink:href=\"#DejaVuSans-78\" x=\"679.886719\"/>\n      <use xlink:href=\"#DejaVuSans-3d\" x=\"739.066406\"/>\n      <use xlink:href=\"#DejaVuSans-31\" x=\"822.855469\"/>\n      <use xlink:href=\"#DejaVuSans-29\" x=\"886.478516\"/>\n     </g>\n    </g>\n   </g>\n  </g>\n </g>\n <defs>\n  <clipPath id=\"p4aff8b48d3\">\n   <rect x=\"40.603125\" y=\"7.2\" width=\"195.3\" height=\"138.6\"/>\n  </clipPath>\n </defs>\n</svg>\n"
     },
     "metadata": {},
     "output_type": "display_data"
    }
   ],
   "source": [
    "x = np.arange(0, 3, 0.1)\n",
    "plot(x, [f(x), 2 * x - 3], 'x', 'f(x)', legend=['f(x)', 'Tangent line (x=1)'])"
   ],
   "metadata": {
    "collapsed": false,
    "ExecuteTime": {
     "end_time": "2023-11-01T02:41:14.601060Z",
     "start_time": "2023-11-01T02:41:14.538763Z"
    }
   },
   "id": "9f80ad92c8c8ab24"
  },
  {
   "cell_type": "markdown",
   "source": [
    "# 自动微分"
   ],
   "metadata": {
    "collapsed": false
   },
   "id": "651783c90434796"
  },
  {
   "cell_type": "code",
   "execution_count": 47,
   "outputs": [
    {
     "data": {
      "text/plain": "(tensor([0., 1., 2., 3.], requires_grad=True), None)"
     },
     "execution_count": 47,
     "metadata": {},
     "output_type": "execute_result"
    }
   ],
   "source": [
    "x = torch.arange(4.0)\n",
    "x.requires_grad_(True)\n",
    "x, x.grad"
   ],
   "metadata": {
    "collapsed": false,
    "ExecuteTime": {
     "end_time": "2023-11-01T02:41:14.606923Z",
     "start_time": "2023-11-01T02:41:14.601673Z"
    }
   },
   "id": "4e818c3069e44892"
  },
  {
   "cell_type": "code",
   "execution_count": 48,
   "outputs": [
    {
     "data": {
      "text/plain": "(tensor(28., grad_fn=<MulBackward0>),\n None,\n tensor([ 0.,  4.,  8., 12.]),\n tensor([True, True, True, True]))"
     },
     "execution_count": 48,
     "metadata": {},
     "output_type": "execute_result"
    }
   ],
   "source": [
    "y = 2 * torch.dot(x, x)\n",
    "y, y.backward(), x.grad, x.grad == 4 * x"
   ],
   "metadata": {
    "collapsed": false,
    "ExecuteTime": {
     "end_time": "2023-11-01T02:41:14.657263Z",
     "start_time": "2023-11-01T02:41:14.605379Z"
    }
   },
   "id": "9cbb95ee9e1bfefd"
  },
  {
   "cell_type": "code",
   "execution_count": 49,
   "outputs": [
    {
     "data": {
      "text/plain": "tensor([1., 1., 1., 1.])"
     },
     "execution_count": 49,
     "metadata": {},
     "output_type": "execute_result"
    }
   ],
   "source": [
    "x.grad.zero_()\n",
    "y = x.sum()\n",
    "y.backward()\n",
    "x.grad\n"
   ],
   "metadata": {
    "collapsed": false,
    "ExecuteTime": {
     "end_time": "2023-11-01T02:41:14.657501Z",
     "start_time": "2023-11-01T02:41:14.640827Z"
    }
   },
   "id": "4c52995a16582793"
  },
  {
   "cell_type": "code",
   "execution_count": 50,
   "outputs": [
    {
     "data": {
      "text/plain": "tensor([0., 2., 4., 6.])"
     },
     "execution_count": 50,
     "metadata": {},
     "output_type": "execute_result"
    }
   ],
   "source": [
    "x.grad.zero_()\n",
    "y = x * x\n",
    "y.sum().backward()\n",
    "x.grad"
   ],
   "metadata": {
    "collapsed": false,
    "ExecuteTime": {
     "end_time": "2023-11-01T02:41:14.657605Z",
     "start_time": "2023-11-01T02:41:14.644666Z"
    }
   },
   "id": "b17e9809efa50ba1"
  },
  {
   "cell_type": "code",
   "execution_count": 51,
   "outputs": [
    {
     "data": {
      "text/plain": "tensor([True, True, True, True])"
     },
     "execution_count": 51,
     "metadata": {},
     "output_type": "execute_result"
    }
   ],
   "source": [
    "x.grad.zero_()\n",
    "y = x * x\n",
    "u = y.detach()\n",
    "z = u * x\n",
    "z.sum().backward()\n",
    "x.grad == u"
   ],
   "metadata": {
    "collapsed": false,
    "ExecuteTime": {
     "end_time": "2023-11-01T02:41:14.657695Z",
     "start_time": "2023-11-01T02:41:14.647625Z"
    }
   },
   "id": "7e74c57d919d8d33"
  },
  {
   "cell_type": "code",
   "execution_count": 52,
   "outputs": [
    {
     "data": {
      "text/plain": "tensor([True, True, True, True])"
     },
     "execution_count": 52,
     "metadata": {},
     "output_type": "execute_result"
    }
   ],
   "source": [
    "x.grad.zero_()\n",
    "y.sum().backward()\n",
    "x.grad == 2 * x"
   ],
   "metadata": {
    "collapsed": false,
    "ExecuteTime": {
     "end_time": "2023-11-01T02:41:14.659460Z",
     "start_time": "2023-11-01T02:41:14.650115Z"
    }
   },
   "id": "acdb2134fdd58a45"
  },
  {
   "cell_type": "code",
   "execution_count": 53,
   "outputs": [],
   "source": [
    "def f(a):\n",
    "    b = a * 2\n",
    "    while b.norm() < 1000:\n",
    "        b = b * 2\n",
    "    if b.sum() > 0:\n",
    "        c = b\n",
    "    else:\n",
    "        c = 100 * b\n",
    "    return c"
   ],
   "metadata": {
    "collapsed": false,
    "ExecuteTime": {
     "end_time": "2023-11-01T02:41:14.659537Z",
     "start_time": "2023-11-01T02:41:14.654949Z"
    }
   },
   "id": "4b23249087165250"
  },
  {
   "cell_type": "code",
   "execution_count": 54,
   "outputs": [],
   "source": [
    "a = torch.randn(size=(), requires_grad=True)\n",
    "d = f(a)\n",
    "d.backward()"
   ],
   "metadata": {
    "collapsed": false,
    "ExecuteTime": {
     "end_time": "2023-11-01T02:41:14.683924Z",
     "start_time": "2023-11-01T02:41:14.658270Z"
    }
   },
   "id": "db9b2c7960714fb7"
  },
  {
   "cell_type": "code",
   "execution_count": 55,
   "outputs": [
    {
     "data": {
      "text/plain": "tensor(False)"
     },
     "execution_count": 55,
     "metadata": {},
     "output_type": "execute_result"
    }
   ],
   "source": [
    "a.grad == d / a"
   ],
   "metadata": {
    "collapsed": false,
    "ExecuteTime": {
     "end_time": "2023-11-01T02:41:14.684303Z",
     "start_time": "2023-11-01T02:41:14.661841Z"
    }
   },
   "id": "d028443e91b84807"
  },
  {
   "cell_type": "markdown",
   "source": [
    "# 概率"
   ],
   "metadata": {
    "collapsed": false
   },
   "id": "b267a670f8f86ddb"
  },
  {
   "cell_type": "code",
   "execution_count": 56,
   "outputs": [],
   "source": [
    "from torch.distributions import multinomial"
   ],
   "metadata": {
    "collapsed": false,
    "ExecuteTime": {
     "end_time": "2023-11-01T02:41:14.684361Z",
     "start_time": "2023-11-01T02:41:14.665528Z"
    }
   },
   "id": "e40e25f232d2aeaf"
  },
  {
   "cell_type": "code",
   "execution_count": 57,
   "outputs": [
    {
     "data": {
      "text/plain": "tensor([0., 0., 0., 1., 0., 0.])"
     },
     "execution_count": 57,
     "metadata": {},
     "output_type": "execute_result"
    }
   ],
   "source": [
    "fair_probs = torch.ones([6]) / 6\n",
    "multinomial.Multinomial(1, fair_probs).sample()"
   ],
   "metadata": {
    "collapsed": false,
    "ExecuteTime": {
     "end_time": "2023-11-01T02:41:14.713116Z",
     "start_time": "2023-11-01T02:41:14.668190Z"
    }
   },
   "id": "345d5894e4b55ae4"
  },
  {
   "cell_type": "code",
   "execution_count": 58,
   "outputs": [
    {
     "data": {
      "text/plain": "tensor([2., 4., 1., 0., 2., 1.])"
     },
     "execution_count": 58,
     "metadata": {},
     "output_type": "execute_result"
    }
   ],
   "source": [
    "multinomial.Multinomial(10, fair_probs).sample()"
   ],
   "metadata": {
    "collapsed": false,
    "ExecuteTime": {
     "end_time": "2023-11-01T02:41:14.718069Z",
     "start_time": "2023-11-01T02:41:14.682409Z"
    }
   },
   "id": "1cf249aef3ca68ef"
  },
  {
   "cell_type": "code",
   "execution_count": 59,
   "outputs": [
    {
     "data": {
      "text/plain": "tensor([0.1610, 0.1530, 0.1610, 0.1720, 0.1780, 0.1750])"
     },
     "execution_count": 59,
     "metadata": {},
     "output_type": "execute_result"
    }
   ],
   "source": [
    "counts = multinomial.Multinomial(1000, fair_probs).sample()\n",
    "counts / 1000  # Relative frequency as the estimate"
   ],
   "metadata": {
    "collapsed": false,
    "ExecuteTime": {
     "end_time": "2023-11-01T02:41:14.729692Z",
     "start_time": "2023-11-01T02:41:14.686159Z"
    }
   },
   "id": "6cc044d50cb8f7f7"
  },
  {
   "cell_type": "code",
   "execution_count": 60,
   "outputs": [
    {
     "data": {
      "text/plain": "<Figure size 600x450 with 1 Axes>",
      "image/svg+xml": "<?xml version=\"1.0\" encoding=\"utf-8\" standalone=\"no\"?>\n<!DOCTYPE svg PUBLIC \"-//W3C//DTD SVG 1.1//EN\"\n  \"http://www.w3.org/Graphics/SVG/1.1/DTD/svg11.dtd\">\n<svg xmlns:xlink=\"http://www.w3.org/1999/xlink\" width=\"385.78125pt\" height=\"294.23625pt\" viewBox=\"0 0 385.78125 294.23625\" xmlns=\"http://www.w3.org/2000/svg\" version=\"1.1\">\n <metadata>\n  <rdf:RDF xmlns:dc=\"http://purl.org/dc/elements/1.1/\" xmlns:cc=\"http://creativecommons.org/ns#\" xmlns:rdf=\"http://www.w3.org/1999/02/22-rdf-syntax-ns#\">\n   <cc:Work>\n    <dc:type rdf:resource=\"http://purl.org/dc/dcmitype/StillImage\"/>\n    <dc:date>2023-11-01T10:41:14.748738</dc:date>\n    <dc:format>image/svg+xml</dc:format>\n    <dc:creator>\n     <cc:Agent>\n      <dc:title>Matplotlib v3.7.2, https://matplotlib.org/</dc:title>\n     </cc:Agent>\n    </dc:creator>\n   </cc:Work>\n  </rdf:RDF>\n </metadata>\n <defs>\n  <style type=\"text/css\">*{stroke-linejoin: round; stroke-linecap: butt}</style>\n </defs>\n <g id=\"figure_1\">\n  <g id=\"patch_1\">\n   <path d=\"M 0 294.23625 \nL 385.78125 294.23625 \nL 385.78125 0 \nL 0 0 \nz\n\" style=\"fill: #ffffff\"/>\n  </g>\n  <g id=\"axes_1\">\n   <g id=\"patch_2\">\n    <path d=\"M 43.78125 256.68 \nL 378.58125 256.68 \nL 378.58125 7.2 \nL 43.78125 7.2 \nz\n\" style=\"fill: #ffffff\"/>\n   </g>\n   <g id=\"matplotlib.axis_1\">\n    <g id=\"xtick_1\">\n     <g id=\"line2d_1\">\n      <defs>\n       <path id=\"m4aaea424b8\" d=\"M 0 0 \nL 0 3.5 \n\" style=\"stroke: #000000; stroke-width: 0.8\"/>\n      </defs>\n      <g>\n       <use xlink:href=\"#m4aaea424b8\" x=\"58.999432\" y=\"256.68\" style=\"stroke: #000000; stroke-width: 0.8\"/>\n      </g>\n     </g>\n     <g id=\"text_1\">\n      <!-- 0 -->\n      <g transform=\"translate(55.818182 271.278437) scale(0.1 -0.1)\">\n       <defs>\n        <path id=\"DejaVuSans-30\" d=\"M 2034 4250 \nQ 1547 4250 1301 3770 \nQ 1056 3291 1056 2328 \nQ 1056 1369 1301 889 \nQ 1547 409 2034 409 \nQ 2525 409 2770 889 \nQ 3016 1369 3016 2328 \nQ 3016 3291 2770 3770 \nQ 2525 4250 2034 4250 \nz\nM 2034 4750 \nQ 2819 4750 3233 4129 \nQ 3647 3509 3647 2328 \nQ 3647 1150 3233 529 \nQ 2819 -91 2034 -91 \nQ 1250 -91 836 529 \nQ 422 1150 422 2328 \nQ 422 3509 836 4129 \nQ 1250 4750 2034 4750 \nz\n\" transform=\"scale(0.015625)\"/>\n       </defs>\n       <use xlink:href=\"#DejaVuSans-30\"/>\n      </g>\n     </g>\n    </g>\n    <g id=\"xtick_2\">\n     <g id=\"line2d_2\">\n      <g>\n       <use xlink:href=\"#m4aaea424b8\" x=\"119.994149\" y=\"256.68\" style=\"stroke: #000000; stroke-width: 0.8\"/>\n      </g>\n     </g>\n     <g id=\"text_2\">\n      <!-- 100 -->\n      <g transform=\"translate(110.450399 271.278437) scale(0.1 -0.1)\">\n       <defs>\n        <path id=\"DejaVuSans-31\" d=\"M 794 531 \nL 1825 531 \nL 1825 4091 \nL 703 3866 \nL 703 4441 \nL 1819 4666 \nL 2450 4666 \nL 2450 531 \nL 3481 531 \nL 3481 0 \nL 794 0 \nL 794 531 \nz\n\" transform=\"scale(0.015625)\"/>\n       </defs>\n       <use xlink:href=\"#DejaVuSans-31\"/>\n       <use xlink:href=\"#DejaVuSans-30\" x=\"63.623047\"/>\n       <use xlink:href=\"#DejaVuSans-30\" x=\"127.246094\"/>\n      </g>\n     </g>\n    </g>\n    <g id=\"xtick_3\">\n     <g id=\"line2d_3\">\n      <g>\n       <use xlink:href=\"#m4aaea424b8\" x=\"180.988865\" y=\"256.68\" style=\"stroke: #000000; stroke-width: 0.8\"/>\n      </g>\n     </g>\n     <g id=\"text_3\">\n      <!-- 200 -->\n      <g transform=\"translate(171.445115 271.278437) scale(0.1 -0.1)\">\n       <defs>\n        <path id=\"DejaVuSans-32\" d=\"M 1228 531 \nL 3431 531 \nL 3431 0 \nL 469 0 \nL 469 531 \nQ 828 903 1448 1529 \nQ 2069 2156 2228 2338 \nQ 2531 2678 2651 2914 \nQ 2772 3150 2772 3378 \nQ 2772 3750 2511 3984 \nQ 2250 4219 1831 4219 \nQ 1534 4219 1204 4116 \nQ 875 4013 500 3803 \nL 500 4441 \nQ 881 4594 1212 4672 \nQ 1544 4750 1819 4750 \nQ 2544 4750 2975 4387 \nQ 3406 4025 3406 3419 \nQ 3406 3131 3298 2873 \nQ 3191 2616 2906 2266 \nQ 2828 2175 2409 1742 \nQ 1991 1309 1228 531 \nz\n\" transform=\"scale(0.015625)\"/>\n       </defs>\n       <use xlink:href=\"#DejaVuSans-32\"/>\n       <use xlink:href=\"#DejaVuSans-30\" x=\"63.623047\"/>\n       <use xlink:href=\"#DejaVuSans-30\" x=\"127.246094\"/>\n      </g>\n     </g>\n    </g>\n    <g id=\"xtick_4\">\n     <g id=\"line2d_4\">\n      <g>\n       <use xlink:href=\"#m4aaea424b8\" x=\"241.983582\" y=\"256.68\" style=\"stroke: #000000; stroke-width: 0.8\"/>\n      </g>\n     </g>\n     <g id=\"text_4\">\n      <!-- 300 -->\n      <g transform=\"translate(232.439832 271.278437) scale(0.1 -0.1)\">\n       <defs>\n        <path id=\"DejaVuSans-33\" d=\"M 2597 2516 \nQ 3050 2419 3304 2112 \nQ 3559 1806 3559 1356 \nQ 3559 666 3084 287 \nQ 2609 -91 1734 -91 \nQ 1441 -91 1130 -33 \nQ 819 25 488 141 \nL 488 750 \nQ 750 597 1062 519 \nQ 1375 441 1716 441 \nQ 2309 441 2620 675 \nQ 2931 909 2931 1356 \nQ 2931 1769 2642 2001 \nQ 2353 2234 1838 2234 \nL 1294 2234 \nL 1294 2753 \nL 1863 2753 \nQ 2328 2753 2575 2939 \nQ 2822 3125 2822 3475 \nQ 2822 3834 2567 4026 \nQ 2313 4219 1838 4219 \nQ 1578 4219 1281 4162 \nQ 984 4106 628 3988 \nL 628 4550 \nQ 988 4650 1302 4700 \nQ 1616 4750 1894 4750 \nQ 2613 4750 3031 4423 \nQ 3450 4097 3450 3541 \nQ 3450 3153 3228 2886 \nQ 3006 2619 2597 2516 \nz\n\" transform=\"scale(0.015625)\"/>\n       </defs>\n       <use xlink:href=\"#DejaVuSans-33\"/>\n       <use xlink:href=\"#DejaVuSans-30\" x=\"63.623047\"/>\n       <use xlink:href=\"#DejaVuSans-30\" x=\"127.246094\"/>\n      </g>\n     </g>\n    </g>\n    <g id=\"xtick_5\">\n     <g id=\"line2d_5\">\n      <g>\n       <use xlink:href=\"#m4aaea424b8\" x=\"302.978299\" y=\"256.68\" style=\"stroke: #000000; stroke-width: 0.8\"/>\n      </g>\n     </g>\n     <g id=\"text_5\">\n      <!-- 400 -->\n      <g transform=\"translate(293.434549 271.278437) scale(0.1 -0.1)\">\n       <defs>\n        <path id=\"DejaVuSans-34\" d=\"M 2419 4116 \nL 825 1625 \nL 2419 1625 \nL 2419 4116 \nz\nM 2253 4666 \nL 3047 4666 \nL 3047 1625 \nL 3713 1625 \nL 3713 1100 \nL 3047 1100 \nL 3047 0 \nL 2419 0 \nL 2419 1100 \nL 313 1100 \nL 313 1709 \nL 2253 4666 \nz\n\" transform=\"scale(0.015625)\"/>\n       </defs>\n       <use xlink:href=\"#DejaVuSans-34\"/>\n       <use xlink:href=\"#DejaVuSans-30\" x=\"63.623047\"/>\n       <use xlink:href=\"#DejaVuSans-30\" x=\"127.246094\"/>\n      </g>\n     </g>\n    </g>\n    <g id=\"xtick_6\">\n     <g id=\"line2d_6\">\n      <g>\n       <use xlink:href=\"#m4aaea424b8\" x=\"363.973015\" y=\"256.68\" style=\"stroke: #000000; stroke-width: 0.8\"/>\n      </g>\n     </g>\n     <g id=\"text_6\">\n      <!-- 500 -->\n      <g transform=\"translate(354.429265 271.278437) scale(0.1 -0.1)\">\n       <defs>\n        <path id=\"DejaVuSans-35\" d=\"M 691 4666 \nL 3169 4666 \nL 3169 4134 \nL 1269 4134 \nL 1269 2991 \nQ 1406 3038 1543 3061 \nQ 1681 3084 1819 3084 \nQ 2600 3084 3056 2656 \nQ 3513 2228 3513 1497 \nQ 3513 744 3044 326 \nQ 2575 -91 1722 -91 \nQ 1428 -91 1123 -41 \nQ 819 9 494 109 \nL 494 744 \nQ 775 591 1075 516 \nQ 1375 441 1709 441 \nQ 2250 441 2565 725 \nQ 2881 1009 2881 1497 \nQ 2881 1984 2565 2268 \nQ 2250 2553 1709 2553 \nQ 1456 2553 1204 2497 \nQ 953 2441 691 2322 \nL 691 4666 \nz\n\" transform=\"scale(0.015625)\"/>\n       </defs>\n       <use xlink:href=\"#DejaVuSans-35\"/>\n       <use xlink:href=\"#DejaVuSans-30\" x=\"63.623047\"/>\n       <use xlink:href=\"#DejaVuSans-30\" x=\"127.246094\"/>\n      </g>\n     </g>\n    </g>\n    <g id=\"text_7\">\n     <!-- Groups of experiments -->\n     <g transform=\"translate(154.035156 284.956562) scale(0.1 -0.1)\">\n      <defs>\n       <path id=\"DejaVuSans-47\" d=\"M 3809 666 \nL 3809 1919 \nL 2778 1919 \nL 2778 2438 \nL 4434 2438 \nL 4434 434 \nQ 4069 175 3628 42 \nQ 3188 -91 2688 -91 \nQ 1594 -91 976 548 \nQ 359 1188 359 2328 \nQ 359 3472 976 4111 \nQ 1594 4750 2688 4750 \nQ 3144 4750 3555 4637 \nQ 3966 4525 4313 4306 \nL 4313 3634 \nQ 3963 3931 3569 4081 \nQ 3175 4231 2741 4231 \nQ 1884 4231 1454 3753 \nQ 1025 3275 1025 2328 \nQ 1025 1384 1454 906 \nQ 1884 428 2741 428 \nQ 3075 428 3337 486 \nQ 3600 544 3809 666 \nz\n\" transform=\"scale(0.015625)\"/>\n       <path id=\"DejaVuSans-72\" d=\"M 2631 2963 \nQ 2534 3019 2420 3045 \nQ 2306 3072 2169 3072 \nQ 1681 3072 1420 2755 \nQ 1159 2438 1159 1844 \nL 1159 0 \nL 581 0 \nL 581 3500 \nL 1159 3500 \nL 1159 2956 \nQ 1341 3275 1631 3429 \nQ 1922 3584 2338 3584 \nQ 2397 3584 2469 3576 \nQ 2541 3569 2628 3553 \nL 2631 2963 \nz\n\" transform=\"scale(0.015625)\"/>\n       <path id=\"DejaVuSans-6f\" d=\"M 1959 3097 \nQ 1497 3097 1228 2736 \nQ 959 2375 959 1747 \nQ 959 1119 1226 758 \nQ 1494 397 1959 397 \nQ 2419 397 2687 759 \nQ 2956 1122 2956 1747 \nQ 2956 2369 2687 2733 \nQ 2419 3097 1959 3097 \nz\nM 1959 3584 \nQ 2709 3584 3137 3096 \nQ 3566 2609 3566 1747 \nQ 3566 888 3137 398 \nQ 2709 -91 1959 -91 \nQ 1206 -91 779 398 \nQ 353 888 353 1747 \nQ 353 2609 779 3096 \nQ 1206 3584 1959 3584 \nz\n\" transform=\"scale(0.015625)\"/>\n       <path id=\"DejaVuSans-75\" d=\"M 544 1381 \nL 544 3500 \nL 1119 3500 \nL 1119 1403 \nQ 1119 906 1312 657 \nQ 1506 409 1894 409 \nQ 2359 409 2629 706 \nQ 2900 1003 2900 1516 \nL 2900 3500 \nL 3475 3500 \nL 3475 0 \nL 2900 0 \nL 2900 538 \nQ 2691 219 2414 64 \nQ 2138 -91 1772 -91 \nQ 1169 -91 856 284 \nQ 544 659 544 1381 \nz\nM 1991 3584 \nL 1991 3584 \nz\n\" transform=\"scale(0.015625)\"/>\n       <path id=\"DejaVuSans-70\" d=\"M 1159 525 \nL 1159 -1331 \nL 581 -1331 \nL 581 3500 \nL 1159 3500 \nL 1159 2969 \nQ 1341 3281 1617 3432 \nQ 1894 3584 2278 3584 \nQ 2916 3584 3314 3078 \nQ 3713 2572 3713 1747 \nQ 3713 922 3314 415 \nQ 2916 -91 2278 -91 \nQ 1894 -91 1617 61 \nQ 1341 213 1159 525 \nz\nM 3116 1747 \nQ 3116 2381 2855 2742 \nQ 2594 3103 2138 3103 \nQ 1681 3103 1420 2742 \nQ 1159 2381 1159 1747 \nQ 1159 1113 1420 752 \nQ 1681 391 2138 391 \nQ 2594 391 2855 752 \nQ 3116 1113 3116 1747 \nz\n\" transform=\"scale(0.015625)\"/>\n       <path id=\"DejaVuSans-73\" d=\"M 2834 3397 \nL 2834 2853 \nQ 2591 2978 2328 3040 \nQ 2066 3103 1784 3103 \nQ 1356 3103 1142 2972 \nQ 928 2841 928 2578 \nQ 928 2378 1081 2264 \nQ 1234 2150 1697 2047 \nL 1894 2003 \nQ 2506 1872 2764 1633 \nQ 3022 1394 3022 966 \nQ 3022 478 2636 193 \nQ 2250 -91 1575 -91 \nQ 1294 -91 989 -36 \nQ 684 19 347 128 \nL 347 722 \nQ 666 556 975 473 \nQ 1284 391 1588 391 \nQ 1994 391 2212 530 \nQ 2431 669 2431 922 \nQ 2431 1156 2273 1281 \nQ 2116 1406 1581 1522 \nL 1381 1569 \nQ 847 1681 609 1914 \nQ 372 2147 372 2553 \nQ 372 3047 722 3315 \nQ 1072 3584 1716 3584 \nQ 2034 3584 2315 3537 \nQ 2597 3491 2834 3397 \nz\n\" transform=\"scale(0.015625)\"/>\n       <path id=\"DejaVuSans-20\" transform=\"scale(0.015625)\"/>\n       <path id=\"DejaVuSans-66\" d=\"M 2375 4863 \nL 2375 4384 \nL 1825 4384 \nQ 1516 4384 1395 4259 \nQ 1275 4134 1275 3809 \nL 1275 3500 \nL 2222 3500 \nL 2222 3053 \nL 1275 3053 \nL 1275 0 \nL 697 0 \nL 697 3053 \nL 147 3053 \nL 147 3500 \nL 697 3500 \nL 697 3744 \nQ 697 4328 969 4595 \nQ 1241 4863 1831 4863 \nL 2375 4863 \nz\n\" transform=\"scale(0.015625)\"/>\n       <path id=\"DejaVuSans-65\" d=\"M 3597 1894 \nL 3597 1613 \nL 953 1613 \nQ 991 1019 1311 708 \nQ 1631 397 2203 397 \nQ 2534 397 2845 478 \nQ 3156 559 3463 722 \nL 3463 178 \nQ 3153 47 2828 -22 \nQ 2503 -91 2169 -91 \nQ 1331 -91 842 396 \nQ 353 884 353 1716 \nQ 353 2575 817 3079 \nQ 1281 3584 2069 3584 \nQ 2775 3584 3186 3129 \nQ 3597 2675 3597 1894 \nz\nM 3022 2063 \nQ 3016 2534 2758 2815 \nQ 2500 3097 2075 3097 \nQ 1594 3097 1305 2825 \nQ 1016 2553 972 2059 \nL 3022 2063 \nz\n\" transform=\"scale(0.015625)\"/>\n       <path id=\"DejaVuSans-78\" d=\"M 3513 3500 \nL 2247 1797 \nL 3578 0 \nL 2900 0 \nL 1881 1375 \nL 863 0 \nL 184 0 \nL 1544 1831 \nL 300 3500 \nL 978 3500 \nL 1906 2253 \nL 2834 3500 \nL 3513 3500 \nz\n\" transform=\"scale(0.015625)\"/>\n       <path id=\"DejaVuSans-69\" d=\"M 603 3500 \nL 1178 3500 \nL 1178 0 \nL 603 0 \nL 603 3500 \nz\nM 603 4863 \nL 1178 4863 \nL 1178 4134 \nL 603 4134 \nL 603 4863 \nz\n\" transform=\"scale(0.015625)\"/>\n       <path id=\"DejaVuSans-6d\" d=\"M 3328 2828 \nQ 3544 3216 3844 3400 \nQ 4144 3584 4550 3584 \nQ 5097 3584 5394 3201 \nQ 5691 2819 5691 2113 \nL 5691 0 \nL 5113 0 \nL 5113 2094 \nQ 5113 2597 4934 2840 \nQ 4756 3084 4391 3084 \nQ 3944 3084 3684 2787 \nQ 3425 2491 3425 1978 \nL 3425 0 \nL 2847 0 \nL 2847 2094 \nQ 2847 2600 2669 2842 \nQ 2491 3084 2119 3084 \nQ 1678 3084 1418 2786 \nQ 1159 2488 1159 1978 \nL 1159 0 \nL 581 0 \nL 581 3500 \nL 1159 3500 \nL 1159 2956 \nQ 1356 3278 1631 3431 \nQ 1906 3584 2284 3584 \nQ 2666 3584 2933 3390 \nQ 3200 3197 3328 2828 \nz\n\" transform=\"scale(0.015625)\"/>\n       <path id=\"DejaVuSans-6e\" d=\"M 3513 2113 \nL 3513 0 \nL 2938 0 \nL 2938 2094 \nQ 2938 2591 2744 2837 \nQ 2550 3084 2163 3084 \nQ 1697 3084 1428 2787 \nQ 1159 2491 1159 1978 \nL 1159 0 \nL 581 0 \nL 581 3500 \nL 1159 3500 \nL 1159 2956 \nQ 1366 3272 1645 3428 \nQ 1925 3584 2291 3584 \nQ 2894 3584 3203 3211 \nQ 3513 2838 3513 2113 \nz\n\" transform=\"scale(0.015625)\"/>\n       <path id=\"DejaVuSans-74\" d=\"M 1172 4494 \nL 1172 3500 \nL 2356 3500 \nL 2356 3053 \nL 1172 3053 \nL 1172 1153 \nQ 1172 725 1289 603 \nQ 1406 481 1766 481 \nL 2356 481 \nL 2356 0 \nL 1766 0 \nQ 1100 0 847 248 \nQ 594 497 594 1153 \nL 594 3053 \nL 172 3053 \nL 172 3500 \nL 594 3500 \nL 594 4494 \nL 1172 4494 \nz\n\" transform=\"scale(0.015625)\"/>\n      </defs>\n      <use xlink:href=\"#DejaVuSans-47\"/>\n      <use xlink:href=\"#DejaVuSans-72\" x=\"77.490234\"/>\n      <use xlink:href=\"#DejaVuSans-6f\" x=\"116.353516\"/>\n      <use xlink:href=\"#DejaVuSans-75\" x=\"177.535156\"/>\n      <use xlink:href=\"#DejaVuSans-70\" x=\"240.914062\"/>\n      <use xlink:href=\"#DejaVuSans-73\" x=\"304.390625\"/>\n      <use xlink:href=\"#DejaVuSans-20\" x=\"356.490234\"/>\n      <use xlink:href=\"#DejaVuSans-6f\" x=\"388.277344\"/>\n      <use xlink:href=\"#DejaVuSans-66\" x=\"449.458984\"/>\n      <use xlink:href=\"#DejaVuSans-20\" x=\"484.664062\"/>\n      <use xlink:href=\"#DejaVuSans-65\" x=\"516.451172\"/>\n      <use xlink:href=\"#DejaVuSans-78\" x=\"576.224609\"/>\n      <use xlink:href=\"#DejaVuSans-70\" x=\"635.404297\"/>\n      <use xlink:href=\"#DejaVuSans-65\" x=\"698.880859\"/>\n      <use xlink:href=\"#DejaVuSans-72\" x=\"760.404297\"/>\n      <use xlink:href=\"#DejaVuSans-69\" x=\"801.517578\"/>\n      <use xlink:href=\"#DejaVuSans-6d\" x=\"829.300781\"/>\n      <use xlink:href=\"#DejaVuSans-65\" x=\"926.712891\"/>\n      <use xlink:href=\"#DejaVuSans-6e\" x=\"988.236328\"/>\n      <use xlink:href=\"#DejaVuSans-74\" x=\"1051.615234\"/>\n      <use xlink:href=\"#DejaVuSans-73\" x=\"1090.824219\"/>\n     </g>\n    </g>\n   </g>\n   <g id=\"matplotlib.axis_2\">\n    <g id=\"ytick_1\">\n     <g id=\"line2d_7\">\n      <defs>\n       <path id=\"m334a296156\" d=\"M 0 0 \nL -3.5 0 \n\" style=\"stroke: #000000; stroke-width: 0.8\"/>\n      </defs>\n      <g>\n       <use xlink:href=\"#m334a296156\" x=\"43.78125\" y=\"245.34\" style=\"stroke: #000000; stroke-width: 0.8\"/>\n      </g>\n     </g>\n     <g id=\"text_8\">\n      <!-- 0.0 -->\n      <g transform=\"translate(20.878125 249.139219) scale(0.1 -0.1)\">\n       <defs>\n        <path id=\"DejaVuSans-2e\" d=\"M 684 794 \nL 1344 794 \nL 1344 0 \nL 684 0 \nL 684 794 \nz\n\" transform=\"scale(0.015625)\"/>\n       </defs>\n       <use xlink:href=\"#DejaVuSans-30\"/>\n       <use xlink:href=\"#DejaVuSans-2e\" x=\"63.623047\"/>\n       <use xlink:href=\"#DejaVuSans-30\" x=\"95.410156\"/>\n      </g>\n     </g>\n    </g>\n    <g id=\"ytick_2\">\n     <g id=\"line2d_8\">\n      <g>\n       <use xlink:href=\"#m334a296156\" x=\"43.78125\" y=\"199.98\" style=\"stroke: #000000; stroke-width: 0.8\"/>\n      </g>\n     </g>\n     <g id=\"text_9\">\n      <!-- 0.1 -->\n      <g transform=\"translate(20.878125 203.779219) scale(0.1 -0.1)\">\n       <use xlink:href=\"#DejaVuSans-30\"/>\n       <use xlink:href=\"#DejaVuSans-2e\" x=\"63.623047\"/>\n       <use xlink:href=\"#DejaVuSans-31\" x=\"95.410156\"/>\n      </g>\n     </g>\n    </g>\n    <g id=\"ytick_3\">\n     <g id=\"line2d_9\">\n      <g>\n       <use xlink:href=\"#m334a296156\" x=\"43.78125\" y=\"154.62\" style=\"stroke: #000000; stroke-width: 0.8\"/>\n      </g>\n     </g>\n     <g id=\"text_10\">\n      <!-- 0.2 -->\n      <g transform=\"translate(20.878125 158.419219) scale(0.1 -0.1)\">\n       <use xlink:href=\"#DejaVuSans-30\"/>\n       <use xlink:href=\"#DejaVuSans-2e\" x=\"63.623047\"/>\n       <use xlink:href=\"#DejaVuSans-32\" x=\"95.410156\"/>\n      </g>\n     </g>\n    </g>\n    <g id=\"ytick_4\">\n     <g id=\"line2d_10\">\n      <g>\n       <use xlink:href=\"#m334a296156\" x=\"43.78125\" y=\"109.26\" style=\"stroke: #000000; stroke-width: 0.8\"/>\n      </g>\n     </g>\n     <g id=\"text_11\">\n      <!-- 0.3 -->\n      <g transform=\"translate(20.878125 113.059219) scale(0.1 -0.1)\">\n       <use xlink:href=\"#DejaVuSans-30\"/>\n       <use xlink:href=\"#DejaVuSans-2e\" x=\"63.623047\"/>\n       <use xlink:href=\"#DejaVuSans-33\" x=\"95.410156\"/>\n      </g>\n     </g>\n    </g>\n    <g id=\"ytick_5\">\n     <g id=\"line2d_11\">\n      <g>\n       <use xlink:href=\"#m334a296156\" x=\"43.78125\" y=\"63.9\" style=\"stroke: #000000; stroke-width: 0.8\"/>\n      </g>\n     </g>\n     <g id=\"text_12\">\n      <!-- 0.4 -->\n      <g transform=\"translate(20.878125 67.699219) scale(0.1 -0.1)\">\n       <use xlink:href=\"#DejaVuSans-30\"/>\n       <use xlink:href=\"#DejaVuSans-2e\" x=\"63.623047\"/>\n       <use xlink:href=\"#DejaVuSans-34\" x=\"95.410156\"/>\n      </g>\n     </g>\n    </g>\n    <g id=\"ytick_6\">\n     <g id=\"line2d_12\">\n      <g>\n       <use xlink:href=\"#m334a296156\" x=\"43.78125\" y=\"18.54\" style=\"stroke: #000000; stroke-width: 0.8\"/>\n      </g>\n     </g>\n     <g id=\"text_13\">\n      <!-- 0.5 -->\n      <g transform=\"translate(20.878125 22.339219) scale(0.1 -0.1)\">\n       <use xlink:href=\"#DejaVuSans-30\"/>\n       <use xlink:href=\"#DejaVuSans-2e\" x=\"63.623047\"/>\n       <use xlink:href=\"#DejaVuSans-35\" x=\"95.410156\"/>\n      </g>\n     </g>\n    </g>\n    <g id=\"text_14\">\n     <!-- Estimated probability -->\n     <g transform=\"translate(14.798438 185.463437) rotate(-90) scale(0.1 -0.1)\">\n      <defs>\n       <path id=\"DejaVuSans-45\" d=\"M 628 4666 \nL 3578 4666 \nL 3578 4134 \nL 1259 4134 \nL 1259 2753 \nL 3481 2753 \nL 3481 2222 \nL 1259 2222 \nL 1259 531 \nL 3634 531 \nL 3634 0 \nL 628 0 \nL 628 4666 \nz\n\" transform=\"scale(0.015625)\"/>\n       <path id=\"DejaVuSans-61\" d=\"M 2194 1759 \nQ 1497 1759 1228 1600 \nQ 959 1441 959 1056 \nQ 959 750 1161 570 \nQ 1363 391 1709 391 \nQ 2188 391 2477 730 \nQ 2766 1069 2766 1631 \nL 2766 1759 \nL 2194 1759 \nz\nM 3341 1997 \nL 3341 0 \nL 2766 0 \nL 2766 531 \nQ 2569 213 2275 61 \nQ 1981 -91 1556 -91 \nQ 1019 -91 701 211 \nQ 384 513 384 1019 \nQ 384 1609 779 1909 \nQ 1175 2209 1959 2209 \nL 2766 2209 \nL 2766 2266 \nQ 2766 2663 2505 2880 \nQ 2244 3097 1772 3097 \nQ 1472 3097 1187 3025 \nQ 903 2953 641 2809 \nL 641 3341 \nQ 956 3463 1253 3523 \nQ 1550 3584 1831 3584 \nQ 2591 3584 2966 3190 \nQ 3341 2797 3341 1997 \nz\n\" transform=\"scale(0.015625)\"/>\n       <path id=\"DejaVuSans-64\" d=\"M 2906 2969 \nL 2906 4863 \nL 3481 4863 \nL 3481 0 \nL 2906 0 \nL 2906 525 \nQ 2725 213 2448 61 \nQ 2172 -91 1784 -91 \nQ 1150 -91 751 415 \nQ 353 922 353 1747 \nQ 353 2572 751 3078 \nQ 1150 3584 1784 3584 \nQ 2172 3584 2448 3432 \nQ 2725 3281 2906 2969 \nz\nM 947 1747 \nQ 947 1113 1208 752 \nQ 1469 391 1925 391 \nQ 2381 391 2643 752 \nQ 2906 1113 2906 1747 \nQ 2906 2381 2643 2742 \nQ 2381 3103 1925 3103 \nQ 1469 3103 1208 2742 \nQ 947 2381 947 1747 \nz\n\" transform=\"scale(0.015625)\"/>\n       <path id=\"DejaVuSans-62\" d=\"M 3116 1747 \nQ 3116 2381 2855 2742 \nQ 2594 3103 2138 3103 \nQ 1681 3103 1420 2742 \nQ 1159 2381 1159 1747 \nQ 1159 1113 1420 752 \nQ 1681 391 2138 391 \nQ 2594 391 2855 752 \nQ 3116 1113 3116 1747 \nz\nM 1159 2969 \nQ 1341 3281 1617 3432 \nQ 1894 3584 2278 3584 \nQ 2916 3584 3314 3078 \nQ 3713 2572 3713 1747 \nQ 3713 922 3314 415 \nQ 2916 -91 2278 -91 \nQ 1894 -91 1617 61 \nQ 1341 213 1159 525 \nL 1159 0 \nL 581 0 \nL 581 4863 \nL 1159 4863 \nL 1159 2969 \nz\n\" transform=\"scale(0.015625)\"/>\n       <path id=\"DejaVuSans-6c\" d=\"M 603 4863 \nL 1178 4863 \nL 1178 0 \nL 603 0 \nL 603 4863 \nz\n\" transform=\"scale(0.015625)\"/>\n       <path id=\"DejaVuSans-79\" d=\"M 2059 -325 \nQ 1816 -950 1584 -1140 \nQ 1353 -1331 966 -1331 \nL 506 -1331 \nL 506 -850 \nL 844 -850 \nQ 1081 -850 1212 -737 \nQ 1344 -625 1503 -206 \nL 1606 56 \nL 191 3500 \nL 800 3500 \nL 1894 763 \nL 2988 3500 \nL 3597 3500 \nL 2059 -325 \nz\n\" transform=\"scale(0.015625)\"/>\n      </defs>\n      <use xlink:href=\"#DejaVuSans-45\"/>\n      <use xlink:href=\"#DejaVuSans-73\" x=\"63.183594\"/>\n      <use xlink:href=\"#DejaVuSans-74\" x=\"115.283203\"/>\n      <use xlink:href=\"#DejaVuSans-69\" x=\"154.492188\"/>\n      <use xlink:href=\"#DejaVuSans-6d\" x=\"182.275391\"/>\n      <use xlink:href=\"#DejaVuSans-61\" x=\"279.6875\"/>\n      <use xlink:href=\"#DejaVuSans-74\" x=\"340.966797\"/>\n      <use xlink:href=\"#DejaVuSans-65\" x=\"380.175781\"/>\n      <use xlink:href=\"#DejaVuSans-64\" x=\"441.699219\"/>\n      <use xlink:href=\"#DejaVuSans-20\" x=\"505.175781\"/>\n      <use xlink:href=\"#DejaVuSans-70\" x=\"536.962891\"/>\n      <use xlink:href=\"#DejaVuSans-72\" x=\"600.439453\"/>\n      <use xlink:href=\"#DejaVuSans-6f\" x=\"639.302734\"/>\n      <use xlink:href=\"#DejaVuSans-62\" x=\"700.484375\"/>\n      <use xlink:href=\"#DejaVuSans-61\" x=\"763.960938\"/>\n      <use xlink:href=\"#DejaVuSans-62\" x=\"825.240234\"/>\n      <use xlink:href=\"#DejaVuSans-69\" x=\"888.716797\"/>\n      <use xlink:href=\"#DejaVuSans-6c\" x=\"916.5\"/>\n      <use xlink:href=\"#DejaVuSans-69\" x=\"944.283203\"/>\n      <use xlink:href=\"#DejaVuSans-74\" x=\"972.066406\"/>\n      <use xlink:href=\"#DejaVuSans-79\" x=\"1011.275391\"/>\n     </g>\n    </g>\n   </g>\n   <g id=\"line2d_13\">\n    <path d=\"M 58.999432 245.34 \nL 59.609379 131.94 \nL 60.219326 154.619999 \nL 60.829273 154.619999 \nL 61.43922 163.691997 \nL 62.049168 177.299997 \nL 62.659115 187.019997 \nL 63.269062 177.299997 \nL 63.879009 184.859997 \nL 65.098903 171.114549 \nL 66.318798 168.576921 \nL 66.928745 167.579998 \nL 67.538692 172.764002 \nL 68.148639 168.794999 \nL 68.758586 170.629409 \nL 69.368534 174.779997 \nL 70.588428 172.764002 \nL 71.198375 174.059997 \nL 71.808322 177.299997 \nL 72.418269 178.286085 \nL 73.638164 176.392802 \nL 74.248111 173.810767 \nL 74.858058 174.779997 \nL 75.468005 177.299997 \nL 76.077952 178.082067 \nL 76.6879 177.299997 \nL 77.297847 175.105161 \nL 79.127688 173.297645 \nL 79.737635 174.059997 \nL 80.95753 177.912973 \nL 81.567477 177.299997 \nL 82.177424 177.881536 \nL 83.397319 176.746827 \nL 84.007266 177.299997 \nL 84.617213 176.772559 \nL 85.22716 178.330912 \nL 86.447054 177.299997 \nL 87.057002 175.852339 \nL 87.666949 176.354998 \nL 88.276896 174.985713 \nL 88.886843 175.4856 \nL 89.49679 174.187056 \nL 90.106737 175.555382 \nL 90.716685 175.160376 \nL 93.156473 176.902105 \nL 93.76642 178.082067 \nL 94.376368 178.453219 \nL 94.986315 177.299997 \nL 95.596262 178.415409 \nL 97.426103 177.299997 \nL 98.645998 175.238181 \nL 99.255945 174.93045 \nL 99.865892 173.964707 \nL 100.475839 174.99913 \nL 101.085786 175.356 \nL 102.915628 174.503838 \nL 103.525575 173.622159 \nL 104.135522 171.554401 \nL 105.355417 171.114549 \nL 105.965364 170.321536 \nL 106.575311 171.271138 \nL 107.795205 171.979999 \nL 108.405152 171.215125 \nL 109.0151 172.108193 \nL 109.625047 171.360001 \nL 110.234994 171.696709 \nL 110.844941 172.553021 \nL 111.454888 172.868275 \nL 112.064835 172.660911 \nL 113.28473 173.267999 \nL 113.894677 172.564613 \nL 114.504624 173.355652 \nL 115.114571 173.154195 \nL 116.334466 174.673892 \nL 118.164307 174.059997 \nL 118.774254 174.321821 \nL 119.384201 174.124798 \nL 119.994149 174.380794 \nL 120.604096 175.076468 \nL 121.82399 173.810767 \nL 122.433937 173.627999 \nL 123.043884 173.876601 \nL 123.653832 172.848782 \nL 124.263779 173.1 \nL 124.873726 172.514311 \nL 125.483673 171.114549 \nL 126.703567 172.440001 \nL 127.313515 171.880883 \nL 127.923462 172.525261 \nL 128.533409 171.580695 \nL 129.143356 171.043449 \nL 129.753303 171.290767 \nL 130.973198 172.535292 \nL 131.583145 172.764002 \nL 132.193092 171.114549 \nL 132.803039 170.979345 \nL 133.412986 169.739998 \nL 134.022933 169.983868 \nL 135.242828 169.739998 \nL 135.852775 169.97811 \nL 136.462722 169.503751 \nL 137.072669 169.739998 \nL 138.292564 170.8942 \nL 138.902511 171.114549 \nL 139.512458 170.990525 \nL 140.122405 171.545371 \nL 140.732352 171.083997 \nL 141.952247 172.168032 \nL 143.172141 172.568202 \nL 143.782088 172.440001 \nL 144.392035 171.991916 \nL 145.001982 171.230705 \nL 146.221877 171.000001 \nL 146.831824 171.199863 \nL 148.051718 170.974282 \nL 148.661665 171.170271 \nL 149.271613 170.754765 \nL 149.88156 170.6472 \nL 151.101454 171.033155 \nL 151.711401 170.92588 \nL 152.931296 170.130191 \nL 153.541243 170.03077 \nL 154.15119 169.643693 \nL 155.371084 170.025282 \nL 155.981031 169.645498 \nL 157.200926 170.020003 \nL 157.810873 170.482087 \nL 158.42082 170.385363 \nL 159.640714 169.648918 \nL 160.250662 169.55892 \nL 160.860609 168.929999 \nL 161.470556 168.845327 \nL 162.080503 169.295292 \nL 162.69045 169.209471 \nL 163.300397 169.652095 \nL 163.910345 169.827401 \nL 164.520292 169.739998 \nL 165.130239 169.912803 \nL 165.740186 170.341361 \nL 166.350133 170.252545 \nL 166.96008 169.909889 \nL 167.570028 170.077875 \nL 168.789922 169.907071 \nL 169.399869 169.324613 \nL 171.229711 169.82173 \nL 172.449605 169.174012 \nL 173.669499 169.019998 \nL 174.279446 168.705473 \nL 174.889394 169.106704 \nL 176.109288 168.486531 \nL 176.719235 168.648865 \nL 179.159024 170.198181 \nL 179.768971 170.347836 \nL 180.378918 170.2692 \nL 180.988865 170.642684 \nL 181.598812 170.787919 \nL 183.428654 169.88751 \nL 184.038601 170.253789 \nL 184.648548 169.739998 \nL 185.258495 169.013076 \nL 186.47839 169.307999 \nL 187.088337 169.668344 \nL 188.918178 169.457383 \nL 191.357967 170.017435 \nL 191.967914 169.739998 \nL 192.577861 169.258907 \nL 193.187809 169.397916 \nL 193.797756 169.739998 \nL 195.01765 169.604997 \nL 195.627597 169.739998 \nL 196.237544 169.472389 \nL 197.457439 168.546315 \nL 198.067386 168.683581 \nL 199.28728 168.561821 \nL 199.897227 168.110687 \nL 200.507175 168.052788 \nL 201.117122 168.189229 \nL 201.727069 168.131492 \nL 202.337016 168.266439 \nL 203.55691 167.770586 \nL 204.166858 167.715566 \nL 204.776805 168.038999 \nL 205.386752 167.983317 \nL 205.996699 168.11554 \nL 206.606646 168.06 \nL 207.216593 168.190817 \nL 207.826541 168.505713 \nL 208.436488 168.633657 \nL 210.266329 168.46482 \nL 210.876276 168.772322 \nL 212.096171 168.659998 \nL 213.316065 168.906613 \nL 213.926012 168.672705 \nL 214.535959 168.263437 \nL 215.145907 168.210351 \nL 216.365801 167.755135 \nL 216.975748 167.355695 \nL 217.585695 167.306894 \nL 218.195642 167.085342 \nL 219.415537 167.678182 \nL 220.025484 167.457738 \nL 220.635431 167.579998 \nL 221.855325 167.144775 \nL 222.465273 167.266839 \nL 223.685167 167.843024 \nL 224.295114 167.961174 \nL 224.905061 167.24769 \nL 225.515008 167.367152 \nL 226.124956 167.320797 \nL 227.954797 167.673241 \nL 228.564744 167.95161 \nL 229.784639 167.856725 \nL 230.394586 167.488087 \nL 232.224427 167.830107 \nL 232.834374 167.783915 \nL 233.444322 167.896097 \nL 235.88411 167.713606 \nL 237.104005 167.933854 \nL 238.323899 168.458642 \nL 238.933846 168.411889 \nL 239.543793 168.518184 \nL 240.15374 168.775972 \nL 240.763688 168.880333 \nL 241.983582 168.785583 \nL 242.593529 168.888877 \nL 243.203476 169.14119 \nL 243.813423 169.242631 \nL 244.423371 168.897245 \nL 245.033318 168.998821 \nL 245.643265 168.951987 \nL 246.253212 169.200001 \nL 247.473106 168.813289 \nL 248.693001 168.722311 \nL 249.302948 168.82217 \nL 249.912895 168.776945 \nL 250.522842 168.299998 \nL 251.742737 167.641324 \nL 252.352684 167.457738 \nL 252.962631 167.559687 \nL 253.572578 167.519253 \nL 254.182525 167.620377 \nL 254.792472 167.579998 \nL 255.40242 167.39944 \nL 256.012367 167.500003 \nL 256.622314 167.320797 \nL 257.842208 167.520551 \nL 258.452155 167.757805 \nL 259.062103 167.855745 \nL 259.67205 168.090545 \nL 261.501891 168.377836 \nL 262.111838 168.200841 \nL 262.721786 168.295699 \nL 263.331733 168.255002 \nL 263.94168 168.07994 \nL 265.771521 168.761649 \nL 266.381469 168.853195 \nL 266.991416 168.546315 \nL 267.601363 168.637956 \nL 268.21131 168.597212 \nL 268.821257 168.425218 \nL 269.431204 168.516413 \nL 270.041152 168.737809 \nL 271.261046 168.916846 \nL 271.870993 168.7464 \nL 272.48094 168.964613 \nL 273.090887 169.052726 \nL 273.700835 169.011839 \nL 274.310782 169.099323 \nL 274.920729 169.058539 \nL 275.530676 169.145394 \nL 276.140623 168.977645 \nL 279.190359 169.405858 \nL 280.410253 169.324613 \nL 281.020201 169.03578 \nL 282.240095 168.957219 \nL 283.459989 169.125366 \nL 284.069936 169.331352 \nL 286.509725 169.659145 \nL 288.339567 169.539467 \nL 289.559461 169.939474 \nL 290.169408 169.899156 \nL 290.779355 169.739998 \nL 291.389302 169.819161 \nL 291.99925 169.779478 \nL 292.609197 169.621875 \nL 293.219144 169.700727 \nL 293.829091 169.661659 \nL 294.439038 169.739998 \nL 295.048985 169.934844 \nL 295.658933 170.012081 \nL 296.26888 170.205231 \nL 296.878827 170.165372 \nL 297.488774 170.009999 \nL 298.098721 170.086256 \nL 298.708668 170.047006 \nL 299.318616 170.237621 \nL 299.928563 170.083634 \nL 300.53851 170.158944 \nL 301.148457 170.119897 \nL 302.368351 169.815599 \nL 302.978299 169.890822 \nL 304.198193 170.152706 \nL 304.80814 170.11426 \nL 306.028034 170.373102 \nL 306.637982 170.557296 \nL 308.467823 170.551314 \nL 309.687717 170.584076 \nL 310.297665 170.765086 \nL 310.907612 170.61652 \nL 312.737453 170.718995 \nL 314.567295 170.712 \nL 315.787189 170.74322 \nL 316.397136 170.597871 \nL 317.617031 170.629409 \nL 320.666766 170.548746 \nL 321.276714 170.617033 \nL 322.496608 170.438382 \nL 323.716502 170.678481 \nL 325.546344 170.982738 \nL 326.156291 171.152116 \nL 327.376185 171.179998 \nL 327.986132 171.245156 \nL 328.59608 171.105235 \nL 330.425921 171.401164 \nL 331.035868 171.566575 \nL 332.86571 171.554401 \nL 333.475657 171.718007 \nL 334.085604 171.479469 \nL 335.305498 171.505107 \nL 336.525393 171.331579 \nL 337.745287 171.456684 \nL 338.965181 171.284873 \nL 340.795023 171.37283 \nL 341.40497 171.336722 \nL 342.624865 171.556997 \nL 343.844759 171.581539 \nL 344.454706 171.15851 \nL 345.6746 171.184587 \nL 347.504442 171.558227 \nL 348.114389 171.522566 \nL 349.334283 171.73698 \nL 351.164125 171.630003 \nL 351.774072 171.311727 \nL 352.993966 171.33652 \nL 354.823808 171.326665 \nL 355.433755 171.385503 \nL 356.653649 171.224169 \nL 357.873544 171.248921 \nL 358.483491 171.12293 \nL 359.093438 171.27347 \nL 359.703385 171.239755 \nL 360.92328 171.4471 \nL 363.363068 171.766078 \nL 363.363068 171.766078 \n\" clip-path=\"url(#pc51dd83d4c)\" style=\"fill: none; stroke: #1f77b4; stroke-width: 1.5; stroke-linecap: square\"/>\n   </g>\n   <g id=\"line2d_14\">\n    <path d=\"M 58.999432 199.979999 \nL 59.609379 222.66 \nL 60.219326 215.099998 \nL 60.829273 211.319999 \nL 61.43922 181.836 \nL 62.049168 177.299997 \nL 62.659115 180.539997 \nL 63.269062 182.969999 \nL 63.879009 189.9 \nL 65.098903 183.485453 \nL 65.708851 177.299997 \nL 66.318798 175.555382 \nL 66.928745 177.299997 \nL 67.538692 181.836 \nL 68.148639 180.135001 \nL 68.758586 173.297645 \nL 69.978481 176.106315 \nL 70.588428 179.568002 \nL 71.808322 177.299997 \nL 72.418269 176.313916 \nL 73.638164 178.207199 \nL 74.248111 180.789228 \nL 74.858058 179.819997 \nL 75.468005 172.440001 \nL 76.077952 173.389657 \nL 76.6879 175.787999 \nL 77.297847 175.105161 \nL 78.517741 176.612725 \nL 79.127688 175.96588 \nL 79.737635 174.059997 \nL 80.347583 173.520001 \nL 81.567477 174.912633 \nL 82.177424 173.229228 \nL 82.787371 172.764002 \nL 83.397319 171.215125 \nL 84.007266 171.899998 \nL 86.447054 170.397394 \nL 87.057002 171.026808 \nL 87.666949 170.684997 \nL 88.886843 171.8568 \nL 89.49679 173.297645 \nL 91.326632 172.259998 \nL 91.936579 172.764002 \nL 92.546526 171.630003 \nL 93.156473 169.739998 \nL 94.376368 169.227457 \nL 94.986315 168.227999 \nL 95.596262 166.517707 \nL 96.206209 167.05742 \nL 96.816156 165.419998 \nL 97.426103 165.960001 \nL 98.036051 167.181234 \nL 98.645998 167.678182 \nL 99.255945 168.837311 \nL 100.475839 169.739998 \nL 101.085786 169.524002 \nL 102.305681 170.369999 \nL 103.525575 172.396215 \nL 104.745469 173.122102 \nL 105.355417 174.059997 \nL 105.965364 173.229228 \nL 106.575311 173.567849 \nL 107.185258 173.331001 \nL 108.405152 173.980976 \nL 110.234994 171.696709 \nL 111.454888 171.304137 \nL 112.064835 172.145457 \nL 112.674783 170.929212 \nL 113.28473 171.756 \nL 113.894677 171.56769 \nL 114.504624 172.369564 \nL 115.114571 171.69097 \nL 115.724518 171.991916 \nL 116.334466 171.809053 \nL 116.944413 170.212497 \nL 117.55436 169.116492 \nL 118.164307 169.431428 \nL 118.774254 170.198181 \nL 119.384201 170.495997 \nL 119.994149 170.338813 \nL 121.82399 168.576921 \nL 122.433937 168.876001 \nL 123.043884 168.313584 \nL 123.653832 168.609534 \nL 124.263779 168.480001 \nL 124.873726 168.768989 \nL 125.483673 169.465089 \nL 126.703567 168.390003 \nL 127.923462 168.944207 \nL 128.533409 168.425218 \nL 129.143356 169.088279 \nL 129.753303 168.964613 \nL 130.36325 169.227457 \nL 130.973198 169.867057 \nL 131.583145 169.739998 \nL 132.193092 169.989918 \nL 133.412986 169.739998 \nL 134.022933 168.88645 \nL 134.632881 168.409442 \nL 135.242828 168.659998 \nL 135.852775 168.192284 \nL 137.072669 167.981857 \nL 137.682616 168.227999 \nL 138.292564 168.124124 \nL 138.902511 167.678182 \nL 139.512458 167.921052 \nL 140.122405 167.821794 \nL 140.732352 168.06 \nL 141.342299 166.960588 \nL 143.172141 165.715252 \nL 145.001982 165.480844 \nL 145.61193 165.722099 \nL 146.221877 166.274999 \nL 146.831824 165.881791 \nL 147.441771 166.115341 \nL 148.051718 166.654283 \nL 148.661665 166.879458 \nL 149.271613 167.406037 \nL 149.88156 167.320797 \nL 151.101454 167.750525 \nL 151.711401 167.664704 \nL 152.321348 168.169093 \nL 153.541243 168.576921 \nL 154.15119 169.065859 \nL 155.371084 168.884152 \nL 155.981031 168.227999 \nL 156.590979 167.86174 \nL 159.030767 167.540727 \nL 159.640714 167.736141 \nL 160.250662 167.114372 \nL 160.860609 167.310003 \nL 162.080503 168.227999 \nL 163.300397 167.542322 \nL 164.520292 167.915171 \nL 165.130239 168.357599 \nL 165.740186 168.537272 \nL 166.350133 168.458642 \nL 166.96008 168.635732 \nL 168.179975 169.488002 \nL 168.789922 168.904639 \nL 169.399869 169.075382 \nL 170.619763 168.918259 \nL 171.229711 169.086163 \nL 171.839658 168.764515 \nL 172.449605 168.931446 \nL 173.669499 169.739998 \nL 174.889394 169.581678 \nL 175.499341 169.739998 \nL 176.109288 169.191606 \nL 176.719235 169.350312 \nL 177.329182 169.042154 \nL 178.549077 168.895737 \nL 180.378918 168.001202 \nL 180.988865 168.160299 \nL 182.20876 168.026894 \nL 182.818707 168.183531 \nL 184.038601 168.051842 \nL 184.648548 168.425218 \nL 185.258495 168.576921 \nL 185.868443 167.859043 \nL 186.47839 168.227999 \nL 187.088337 168.16351 \nL 187.698284 167.885661 \nL 188.918178 168.185606 \nL 190.138073 168.06 \nL 190.74802 168.416127 \nL 191.357967 167.936699 \nL 191.967914 167.875887 \nL 192.577861 167.403273 \nL 193.187809 167.345428 \nL 193.797756 167.492433 \nL 194.407703 167.231299 \nL 195.627597 167.522403 \nL 199.28728 167.18727 \nL 199.897227 167.328618 \nL 200.507175 167.663433 \nL 201.117122 167.801536 \nL 201.727069 168.131492 \nL 202.337016 168.074235 \nL 202.946963 168.40025 \nL 203.55691 168.342351 \nL 204.776805 168.605999 \nL 205.386752 168.547965 \nL 206.606646 168.806665 \nL 207.216593 169.120331 \nL 207.826541 169.246288 \nL 208.436488 169.186828 \nL 209.046435 169.49514 \nL 210.266329 169.375665 \nL 210.876276 169.49808 \nL 211.486224 169.438803 \nL 212.096171 169.739998 \nL 212.706118 169.68024 \nL 213.316065 169.799526 \nL 213.926012 169.384236 \nL 214.535959 169.149375 \nL 215.755854 169.388372 \nL 216.975748 169.274771 \nL 217.585695 169.392414 \nL 218.80559 169.969965 \nL 219.415537 170.083634 \nL 220.025484 170.36762 \nL 220.635431 170.137896 \nL 221.245378 170.079774 \nL 221.855325 169.514329 \nL 222.465273 169.627586 \nL 223.07522 169.404 \nL 223.685167 169.349446 \nL 224.295114 169.628823 \nL 224.905061 169.573844 \nL 225.515008 169.353725 \nL 226.124956 169.465089 \nL 226.734903 169.411306 \nL 227.34485 169.685417 \nL 227.954797 169.631222 \nL 228.564744 169.739998 \nL 229.784639 169.632385 \nL 231.004533 169.846853 \nL 231.61448 169.633521 \nL 232.834374 169.845731 \nL 234.054269 169.425 \nL 234.664216 169.373773 \nL 237.104005 170.410852 \nL 237.713952 170.511428 \nL 238.323899 170.457558 \nL 239.543793 170.656365 \nL 240.15374 170.145906 \nL 240.763688 169.79057 \nL 241.373635 169.739998 \nL 241.983582 169.840466 \nL 242.593529 170.090461 \nL 243.203476 170.039409 \nL 243.813423 170.137896 \nL 244.423371 170.087013 \nL 245.033318 169.888233 \nL 245.643265 169.986254 \nL 246.253212 169.936365 \nL 247.473106 170.422836 \nL 248.083054 170.372027 \nL 248.693001 170.612309 \nL 249.302948 170.416293 \nL 250.522842 170.604002 \nL 251.132789 170.840505 \nL 252.352684 171.023773 \nL 252.962631 170.972349 \nL 254.182525 170.305233 \nL 254.792472 170.397394 \nL 256.012367 170.300001 \nL 256.622314 170.530895 \nL 257.842208 170.711006 \nL 258.452155 170.523656 \nL 259.062103 170.613194 \nL 259.67205 170.42727 \nL 260.891944 170.878552 \nL 261.501891 170.829731 \nL 262.111838 171.052817 \nL 263.331733 170.954999 \nL 263.94168 171.041131 \nL 265.161574 170.676636 \nL 266.991416 170.933687 \nL 267.601363 170.75388 \nL 268.21131 170.706978 \nL 268.821257 170.791825 \nL 269.431204 170.745086 \nL 270.041152 170.829339 \nL 270.651099 170.652411 \nL 271.870993 171.079198 \nL 274.920729 171.486256 \nL 276.75057 171.344915 \nL 277.360518 171.551029 \nL 277.970465 171.630003 \nL 279.190359 171.536023 \nL 280.410253 171.941539 \nL 281.630148 171.846884 \nL 282.240095 171.67635 \nL 283.459989 171.829756 \nL 284.069936 171.783247 \nL 284.679884 171.859247 \nL 285.899778 171.766808 \nL 286.509725 171.478395 \nL 287.119672 171.554401 \nL 287.729619 171.509358 \nL 288.339567 171.344245 \nL 289.559461 171.255991 \nL 290.779355 170.930551 \nL 291.99925 171.319115 \nL 292.609197 171.157503 \nL 293.219144 171.114549 \nL 293.829091 171.189325 \nL 295.658933 170.478511 \nL 296.26888 170.205231 \nL 298.098721 170.432522 \nL 298.708668 170.277257 \nL 299.928563 170.42727 \nL 300.53851 170.044687 \nL 301.148457 170.119897 \nL 301.758404 170.308423 \nL 302.368351 170.2692 \nL 302.978299 170.343294 \nL 304.198193 170.265259 \nL 305.418087 169.851997 \nL 307.247929 170.073529 \nL 307.857876 169.924841 \nL 308.467823 170.108778 \nL 313.3474 169.812348 \nL 314.567295 169.956 \nL 315.177242 169.811827 \nL 316.397136 170.0617 \nL 318.836925 170.235735 \nL 319.446872 169.987289 \nL 320.666766 170.232281 \nL 321.886661 170.159999 \nL 322.496608 169.80984 \nL 323.106555 169.774841 \nL 323.716502 169.53145 \nL 327.986132 169.397916 \nL 329.206027 169.63784 \nL 332.255763 169.874701 \nL 334.695551 169.4396 \nL 335.305498 169.606781 \nL 337.745287 169.574932 \nL 338.965181 169.707128 \nL 339.575129 169.477614 \nL 340.185076 169.445454 \nL 341.40497 169.674826 \nL 342.624865 169.707554 \nL 343.844759 169.933844 \nL 345.064653 169.965193 \nL 345.6746 169.836302 \nL 346.894495 170.155558 \nL 348.114389 170.185643 \nL 349.334283 170.405661 \nL 350.554178 170.529144 \nL 351.164125 170.401497 \nL 351.774072 170.462992 \nL 352.384019 170.241906 \nL 354.213861 170.332331 \nL 356.043702 170.235735 \nL 357.873544 170.602238 \nL 358.483491 170.477558 \nL 359.703385 170.597006 \nL 362.143174 169.831084 \nL 363.363068 169.770238 \nL 363.363068 169.770238 \n\" clip-path=\"url(#pc51dd83d4c)\" style=\"fill: none; stroke: #ff7f0e; stroke-width: 1.5; stroke-linecap: square\"/>\n   </g>\n   <g id=\"line2d_15\">\n    <path d=\"M 58.999432 245.34 \nL 60.219326 154.619999 \nL 60.829273 165.960001 \nL 61.43922 181.836 \nL 62.049168 169.739998 \nL 62.659115 167.579998 \nL 63.269062 154.619999 \nL 63.879009 159.659998 \nL 64.488956 154.619999 \nL 65.098903 158.743638 \nL 65.708851 158.400002 \nL 66.928745 164.339998 \nL 67.538692 157.644003 \nL 68.148639 157.455003 \nL 68.758586 159.956469 \nL 69.368534 154.619999 \nL 69.978481 152.232634 \nL 70.588428 154.619999 \nL 71.198375 150.299999 \nL 72.418269 154.619999 \nL 73.028217 152.73 \nL 73.638164 154.619999 \nL 74.248111 154.619999 \nL 74.858058 152.940001 \nL 75.468005 154.619999 \nL 76.077952 154.619999 \nL 76.6879 157.644003 \nL 77.297847 159.009679 \nL 77.907794 161.707499 \nL 78.517741 160.118182 \nL 79.737635 162.396001 \nL 80.347583 164.699998 \nL 80.95753 164.42757 \nL 81.567477 161.782106 \nL 82.177424 162.761537 \nL 82.787371 161.423999 \nL 84.007266 161.099998 \nL 84.617213 163.059068 \nL 86.447054 165.466954 \nL 87.057002 167.166384 \nL 87.666949 166.905 \nL 88.276896 168.505713 \nL 88.886843 168.227999 \nL 89.49679 167.071763 \nL 90.716685 168.313584 \nL 91.936579 167.815636 \nL 92.546526 168.390003 \nL 93.156473 169.739998 \nL 93.76642 170.26138 \nL 94.376368 169.996272 \nL 96.206209 171.4471 \nL 96.816156 172.619998 \nL 97.426103 173.047501 \nL 98.036051 174.159695 \nL 98.645998 173.176365 \nL 99.255945 171.545371 \nL 99.865892 171.963527 \nL 100.475839 171.054784 \nL 101.695734 170.591828 \nL 102.305681 171.000001 \nL 102.915628 170.154247 \nL 103.525575 171.170271 \nL 104.135522 171.554401 \nL 104.745469 170.734738 \nL 105.355417 169.34727 \nL 105.965364 170.321536 \nL 106.575311 170.696961 \nL 107.795205 170.300001 \nL 108.405152 171.215125 \nL 109.0151 170.468676 \nL 110.234994 171.163059 \nL 110.844941 169.915817 \nL 111.454888 170.782761 \nL 112.064835 170.083634 \nL 112.674783 170.419551 \nL 113.28473 168.732003 \nL 113.894677 169.573844 \nL 114.504624 169.411306 \nL 116.944413 170.684997 \nL 117.55436 171.454636 \nL 118.164307 171.745713 \nL 118.774254 171.572726 \nL 119.384201 170.949598 \nL 119.994149 171.686138 \nL 120.604096 171.963527 \nL 121.214043 172.675923 \nL 121.82399 172.938462 \nL 122.433937 172.764002 \nL 123.043884 173.448678 \nL 123.653832 173.27271 \nL 125.483673 174.001091 \nL 127.313515 173.48655 \nL 128.533409 173.947302 \nL 129.143356 174.562758 \nL 129.753303 174.392305 \nL 130.973198 174.82235 \nL 132.193092 174.488427 \nL 133.412986 174.902926 \nL 134.632881 176.029923 \nL 135.242828 175.859997 \nL 135.852775 176.407084 \nL 136.462722 176.591251 \nL 137.072669 176.069302 \nL 137.682616 175.20646 \nL 138.902511 174.894545 \nL 140.122405 175.268956 \nL 140.732352 175.116002 \nL 142.562194 175.656519 \nL 144.392035 175.208934 \nL 147.441771 176.057257 \nL 148.051718 175.294289 \nL 148.661665 175.461078 \nL 149.271613 175.321211 \nL 149.88156 175.4856 \nL 150.491507 175.948211 \nL 151.101454 175.509474 \nL 151.711401 175.96588 \nL 152.321348 175.532725 \nL 152.931296 175.397806 \nL 153.541243 175.555382 \nL 154.15119 175.999872 \nL 154.761137 175.577471 \nL 155.371084 176.016229 \nL 156.590979 176.313916 \nL 157.810873 176.047733 \nL 158.42082 176.470242 \nL 159.030767 176.612725 \nL 160.860609 177.840001 \nL 161.470556 177.7026 \nL 162.080503 176.766354 \nL 162.69045 177.167369 \nL 163.300397 176.772559 \nL 163.910345 177.168903 \nL 164.520292 176.778622 \nL 165.130239 177.170397 \nL 167.570028 176.666481 \nL 168.179975 176.040001 \nL 169.399869 176.303074 \nL 170.009816 175.936721 \nL 171.229711 175.706267 \nL 171.839658 175.836773 \nL 172.449605 175.480747 \nL 173.059552 175.369789 \nL 173.669499 174.779997 \nL 174.279446 174.673892 \nL 176.109288 175.772331 \nL 176.719235 175.897112 \nL 177.329182 176.253232 \nL 177.939129 175.680001 \nL 179.159024 175.925453 \nL 179.768971 176.274273 \nL 180.378918 176.165998 \nL 181.598812 175.503566 \nL 182.20876 175.624136 \nL 182.818707 175.96588 \nL 183.428654 176.083023 \nL 184.038601 175.758644 \nL 184.648548 175.656519 \nL 185.868443 175.889285 \nL 186.47839 175.787999 \nL 187.698284 176.016229 \nL 188.308231 176.341689 \nL 188.918178 176.240187 \nL 190.138073 176.460002 \nL 190.74802 176.150324 \nL 191.967914 175.9537 \nL 193.187809 176.171129 \nL 193.797756 175.869731 \nL 194.407703 175.97785 \nL 195.01765 175.680001 \nL 197.457439 176.106315 \nL 198.067386 176.012491 \nL 198.677333 176.313916 \nL 199.897227 176.517928 \nL 200.507175 176.423948 \nL 201.117122 176.524613 \nL 201.727069 176.045361 \nL 202.337016 176.146782 \nL 202.946963 176.055952 \nL 203.55691 175.584703 \nL 204.166858 175.876571 \nL 204.776805 175.598999 \nL 205.386752 175.700163 \nL 206.606646 176.273334 \nL 207.216593 175.812785 \nL 209.046435 175.555382 \nL 209.656382 174.922258 \nL 210.266329 174.840722 \nL 210.876276 174.578399 \nL 211.486224 174.679604 \nL 212.096171 174.960001 \nL 213.316065 174.799842 \nL 214.535959 174.996561 \nL 216.365801 174.760538 \nL 216.975748 174.857539 \nL 217.585695 174.432414 \nL 218.195642 174.529922 \nL 218.80559 174.454219 \nL 219.415537 174.550909 \nL 220.025484 174.4757 \nL 220.635431 174.059997 \nL 221.245378 174.326964 \nL 221.855325 174.422688 \nL 222.465273 174.180446 \nL 223.685167 174.370852 \nL 224.295114 173.964707 \nL 225.515008 174.154599 \nL 226.124956 174.413455 \nL 226.734903 174.34174 \nL 227.34485 174.434293 \nL 227.954797 174.68935 \nL 228.564744 174.454841 \nL 230.394586 174.726384 \nL 231.61448 175.223662 \nL 232.834374 174.762376 \nL 234.054269 174.622502 \nL 235.88411 174.88392 \nL 236.494057 174.659177 \nL 237.104005 174.7456 \nL 237.713952 174.522858 \nL 239.543793 174.321821 \nL 240.15374 174.407919 \nL 240.763688 174.038328 \nL 241.373635 173.973602 \nL 241.983582 174.059997 \nL 244.423371 173.805048 \nL 245.033318 173.594115 \nL 245.643265 173.82782 \nL 246.253212 173.912729 \nL 246.863159 173.850294 \nL 247.473106 173.641936 \nL 248.083054 173.872478 \nL 248.693001 173.956156 \nL 249.302948 174.184217 \nL 249.912895 173.977455 \nL 251.132789 174.142027 \nL 251.742737 174.080444 \nL 253.572578 173.472748 \nL 254.182525 173.555324 \nL 255.40242 173.43808 \nL 256.012367 173.240002 \nL 256.622314 172.764002 \nL 257.232261 172.847484 \nL 257.842208 172.791741 \nL 258.452155 172.459758 \nL 259.062103 172.681276 \nL 260.281997 172.846227 \nL 260.891944 172.791322 \nL 263.331733 173.114998 \nL 263.94168 173.060121 \nL 264.551627 172.871364 \nL 265.161574 172.951325 \nL 265.771521 172.630589 \nL 266.991416 172.525261 \nL 267.601363 172.605303 \nL 268.21131 172.421163 \nL 268.821257 172.632522 \nL 269.431204 172.711564 \nL 270.041152 172.659424 \nL 270.651099 172.737932 \nL 271.870993 172.375201 \nL 272.48094 172.583079 \nL 273.090887 172.660911 \nL 273.700835 172.609805 \nL 275.530676 172.075952 \nL 276.140623 172.281174 \nL 277.360518 172.182788 \nL 277.970465 172.259998 \nL 278.580412 172.211136 \nL 279.800306 172.364129 \nL 280.410253 172.066151 \nL 281.020201 172.266905 \nL 282.240095 172.417932 \nL 284.679884 172.22604 \nL 285.899778 172.374849 \nL 286.509725 172.32738 \nL 287.119672 172.401122 \nL 287.729619 172.233191 \nL 288.949514 172.38 \nL 290.169408 172.047787 \nL 290.779355 172.121103 \nL 291.389302 172.07529 \nL 291.99925 172.148147 \nL 293.219144 172.528364 \nL 293.829091 172.481969 \nL 295.048985 172.857528 \nL 295.658933 172.81064 \nL 296.26888 172.996618 \nL 297.488774 172.902855 \nL 298.708668 173.040303 \nL 299.318616 172.993671 \nL 299.928563 173.061817 \nL 300.53851 173.243882 \nL 301.148457 172.969149 \nL 302.978299 172.83187 \nL 304.198193 172.966601 \nL 304.80814 172.921186 \nL 305.418087 173.1 \nL 307.247929 172.741764 \nL 307.857876 172.919266 \nL 308.467823 172.653368 \nL 309.687717 172.45573 \nL 310.297665 172.192879 \nL 312.127506 172.284229 \nL 313.3474 172.199713 \nL 313.957348 172.374275 \nL 318.836925 172.041643 \nL 319.446872 172.2129 \nL 320.056819 172.171885 \nL 321.886661 172.575002 \nL 323.716502 172.764002 \nL 324.936397 172.369564 \nL 326.766238 172.145457 \nL 327.986132 171.758278 \nL 329.206027 171.578917 \nL 330.425921 171.096056 \nL 331.645815 171.326253 \nL 332.86571 171.655201 \nL 333.475657 171.516854 \nL 338.965181 171.975133 \nL 339.575129 171.839091 \nL 340.185076 171.998181 \nL 343.234812 171.423598 \nL 345.6746 171.762422 \nL 346.894495 171.210441 \nL 348.724336 171.010586 \nL 349.334283 170.881134 \nL 349.944231 171.036906 \nL 350.554178 171.00263 \nL 351.164125 170.684997 \nL 352.384019 170.618338 \nL 352.993966 170.773042 \nL 355.433755 170.267801 \nL 356.043702 170.421639 \nL 357.263597 170.07943 \nL 358.483491 169.924388 \nL 359.703385 169.862427 \nL 360.313332 170.014907 \nL 360.92328 169.892417 \nL 363.363068 170.042403 \nL 363.363068 170.042403 \n\" clip-path=\"url(#pc51dd83d4c)\" style=\"fill: none; stroke: #2ca02c; stroke-width: 1.5; stroke-linecap: square\"/>\n   </g>\n   <g id=\"line2d_16\">\n    <path d=\"M 58.999432 199.979999 \nL 59.609379 222.66 \nL 60.219326 230.219999 \nL 60.829273 222.66 \nL 61.43922 227.196 \nL 62.049168 207.539999 \nL 62.659115 199.979999 \nL 63.269062 199.979999 \nL 63.879009 189.9 \nL 64.488956 195.444 \nL 65.098903 195.856364 \nL 65.708851 199.979999 \nL 66.928745 193.5 \nL 68.148639 188.64 \nL 68.758586 186.63882 \nL 69.368534 182.339997 \nL 70.588428 184.103998 \nL 71.198375 184.859997 \nL 71.808322 183.485453 \nL 72.418269 180.258262 \nL 73.028217 181.08 \nL 73.638164 178.207199 \nL 75.468005 180.539997 \nL 76.077952 179.646205 \nL 76.6879 177.299997 \nL 77.297847 178.031616 \nL 77.907794 175.882499 \nL 78.517741 175.238181 \nL 79.127688 177.299997 \nL 79.737635 176.652003 \nL 80.347583 173.520001 \nL 80.95753 173.00919 \nL 82.177424 174.392305 \nL 82.787371 176.165998 \nL 83.397319 176.746827 \nL 84.617213 175.717676 \nL 85.22716 174.207273 \nL 85.837107 175.787999 \nL 86.447054 176.313916 \nL 87.057002 177.782554 \nL 87.666949 178.245003 \nL 88.276896 176.837143 \nL 88.886843 177.299997 \nL 89.49679 176.855291 \nL 90.106737 177.299997 \nL 90.716685 176.016229 \nL 91.936579 175.238181 \nL 92.546526 175.680001 \nL 93.156473 176.902105 \nL 94.376368 177.684405 \nL 95.596262 179.902621 \nL 96.206209 178.031616 \nL 96.816156 179.099997 \nL 97.426103 177.299997 \nL 98.036051 176.253232 \nL 98.645998 176.612725 \nL 99.255945 177.63851 \nL 99.865892 177.967059 \nL 101.085786 177.299997 \nL 102.305681 177.929999 \nL 102.915628 177.610682 \nL 104.745469 178.493686 \nL 105.355417 177.594548 \nL 105.965364 178.463074 \nL 106.575311 177.587086 \nL 107.185258 177.866997 \nL 108.405152 177.299997 \nL 109.625047 177.840001 \nL 110.234994 176.499529 \nL 111.454888 174.953796 \nL 112.064835 175.238181 \nL 112.674783 174.496856 \nL 113.28473 174.276 \nL 113.894677 175.056921 \nL 114.504624 174.83478 \nL 115.114571 174.129678 \nL 115.724518 173.922131 \nL 116.944413 174.465 \nL 117.55436 175.195673 \nL 118.774254 174.779997 \nL 119.994149 175.279013 \nL 120.604096 174.631762 \nL 121.214043 174.437477 \nL 121.82399 175.119233 \nL 123.043884 174.732453 \nL 123.653832 175.392337 \nL 124.263779 175.62 \nL 125.483673 175.238181 \nL 126.09362 175.869731 \nL 127.313515 176.296457 \nL 127.923462 175.708423 \nL 128.533409 176.313916 \nL 129.143356 176.126897 \nL 129.753303 176.330767 \nL 130.36325 175.762375 \nL 130.973198 174.441174 \nL 131.583145 173.898001 \nL 132.803039 175.069182 \nL 133.412986 175.271707 \nL 134.632881 174.941278 \nL 135.242828 174.419997 \nL 135.852775 174.621258 \nL 136.462722 174.110624 \nL 137.072669 174.311161 \nL 137.682616 174.159695 \nL 138.902511 173.176365 \nL 139.512458 173.377896 \nL 140.122405 173.914925 \nL 141.342299 174.298238 \nL 141.952247 174.154599 \nL 142.562194 174.670438 \nL 143.782088 175.031999 \nL 144.392035 175.530637 \nL 145.001982 175.70282 \nL 146.221877 174.150003 \nL 147.441771 173.882468 \nL 148.661665 174.235134 \nL 149.88156 173.973602 \nL 150.491507 173.54503 \nL 151.101454 174.017367 \nL 151.711401 173.890586 \nL 152.321348 174.059997 \nL 152.931296 173.934581 \nL 153.541243 172.938462 \nL 154.15119 173.39962 \nL 155.371084 173.163394 \nL 155.981031 173.331001 \nL 156.590979 173.778262 \nL 157.200926 173.659997 \nL 157.810873 173.821473 \nL 159.030767 173.03891 \nL 160.250662 172.818325 \nL 160.860609 172.440001 \nL 161.470556 172.334558 \nL 162.080503 172.764002 \nL 162.69045 172.657896 \nL 163.300397 172.289305 \nL 163.910345 172.187168 \nL 164.520292 172.346893 \nL 165.130239 171.9864 \nL 166.350133 172.302709 \nL 166.96008 172.713031 \nL 167.570028 172.865362 \nL 168.179975 172.764002 \nL 168.789922 172.413147 \nL 169.399869 172.315382 \nL 170.009816 172.714423 \nL 170.619763 172.616084 \nL 171.229711 172.764002 \nL 171.839658 173.154195 \nL 172.449605 173.297645 \nL 173.059552 173.198298 \nL 173.669499 173.580002 \nL 174.279446 173.71895 \nL 174.889394 173.381465 \nL 175.499341 173.756247 \nL 176.109288 173.892127 \nL 176.719235 173.325154 \nL 177.329182 173.229228 \nL 177.939129 172.902855 \nL 179.159024 172.718181 \nL 180.378918 172.990799 \nL 180.988865 172.899401 \nL 182.20876 173.613102 \nL 182.818707 173.297645 \nL 183.428654 173.206538 \nL 184.038601 173.556696 \nL 184.648548 173.465218 \nL 185.868443 173.71895 \nL 186.47839 174.059997 \nL 187.088337 173.752888 \nL 188.308231 173.573236 \nL 188.918178 173.908599 \nL 190.138073 173.730001 \nL 190.74802 173.432902 \nL 191.357967 173.554682 \nL 191.967914 173.261098 \nL 192.577861 173.588728 \nL 193.797756 173.417836 \nL 194.407703 173.740356 \nL 195.01765 173.655002 \nL 195.627597 173.167199 \nL 196.237544 173.285843 \nL 196.847492 173.203611 \nL 197.457439 173.520001 \nL 198.067386 173.239387 \nL 198.677333 173.552871 \nL 199.28728 173.274549 \nL 199.897227 173.194135 \nL 201.117122 172.64769 \nL 201.727069 172.57098 \nL 202.337016 172.302709 \nL 202.946963 172.228101 \nL 203.55691 172.535292 \nL 205.386752 172.31228 \nL 205.996699 171.864296 \nL 206.606646 171.979999 \nL 207.216593 172.280654 \nL 207.826541 172.393714 \nL 208.436488 172.321465 \nL 209.046435 171.882512 \nL 209.656382 172.178712 \nL 210.266329 172.29036 \nL 210.876276 172.219679 \nL 211.486224 172.330279 \nL 213.316065 171.585352 \nL 213.926012 171.87459 \nL 215.145907 172.09331 \nL 216.365801 172.658917 \nL 218.195642 172.971758 \nL 218.80559 172.729503 \nL 219.415537 172.660911 \nL 220.025484 172.421663 \nL 220.635431 172.695788 \nL 221.245378 172.79798 \nL 221.855325 173.068658 \nL 222.465273 172.662824 \nL 223.685167 172.194907 \nL 224.905061 172.398459 \nL 226.124956 171.939275 \nL 226.734903 171.876523 \nL 227.34485 171.977978 \nL 227.954797 171.915537 \nL 228.564744 171.69097 \nL 229.784639 171.569468 \nL 231.004533 171.770249 \nL 231.61448 171.390424 \nL 232.224427 171.331579 \nL 234.054269 171.630003 \nL 234.664216 171.885053 \nL 235.274163 171.825518 \nL 235.88411 171.922269 \nL 236.494057 171.863011 \nL 237.104005 171.649354 \nL 237.713952 171.591428 \nL 238.323899 171.687658 \nL 238.933846 171.630003 \nL 239.543793 171.420002 \nL 240.763688 171.914449 \nL 241.983582 172.100927 \nL 242.593529 171.892846 \nL 243.203476 171.536436 \nL 243.813423 171.331579 \nL 245.033318 171.518821 \nL 245.643265 171.020522 \nL 246.253212 170.967273 \nL 248.693001 170.176153 \nL 249.912895 170.365984 \nL 250.522842 170.604002 \nL 251.132789 170.553416 \nL 251.742737 170.646247 \nL 252.352684 170.59585 \nL 252.962631 170.403572 \nL 253.572578 170.495997 \nL 254.792472 170.115652 \nL 255.40242 170.348546 \nL 256.012367 170.300001 \nL 256.622314 170.530895 \nL 257.232261 170.203805 \nL 257.842208 170.294865 \nL 258.452155 170.523656 \nL 259.67205 169.602543 \nL 260.281997 169.420242 \nL 260.891944 169.102412 \nL 261.501891 169.331352 \nL 262.721786 168.972717 \nL 263.94168 168.887538 \nL 264.551627 168.979524 \nL 265.161574 168.937171 \nL 265.771521 168.628236 \nL 266.381469 168.720175 \nL 266.991416 168.678951 \nL 267.601363 168.902449 \nL 268.821257 168.819649 \nL 269.431204 168.647514 \nL 270.041152 168.737809 \nL 270.651099 168.566897 \nL 271.261046 168.656902 \nL 271.870993 168.6168 \nL 272.48094 168.706156 \nL 273.090887 168.408408 \nL 274.310782 168.330509 \nL 275.530676 168.763143 \nL 276.140623 168.723527 \nL 276.75057 168.937543 \nL 277.360518 169.024013 \nL 277.970465 168.858001 \nL 278.580412 168.944207 \nL 279.190359 168.779338 \nL 279.800306 168.49041 \nL 280.410253 168.452309 \nL 281.020201 168.662958 \nL 282.240095 168.586431 \nL 282.850042 168.425218 \nL 283.459989 168.510728 \nL 284.069936 168.227999 \nL 284.679884 168.313584 \nL 285.289831 168.154838 \nL 285.899778 167.875333 \nL 286.509725 167.961174 \nL 287.119672 168.167518 \nL 288.339567 168.336288 \nL 288.949514 168.180002 \nL 289.559461 168.144219 \nL 290.169408 168.227999 \nL 290.779355 168.430396 \nL 291.389302 168.275496 \nL 291.99925 168.00298 \nL 292.609197 167.968123 \nL 293.219144 167.815636 \nL 293.829091 167.781448 \nL 294.439038 167.981857 \nL 295.658933 167.913164 \nL 296.26888 167.995382 \nL 297.488774 168.274286 \nL 298.098721 168.124124 \nL 299.318616 168.285418 \nL 299.928563 168.250906 \nL 300.53851 168.330833 \nL 301.148457 168.524321 \nL 301.758404 168.489471 \nL 302.368351 168.6816 \nL 302.978299 168.646534 \nL 303.588246 168.837311 \nL 304.198193 168.689481 \nL 304.80814 168.766928 \nL 306.028034 168.585519 \nL 307.857876 168.483083 \nL 309.687717 168.712429 \nL 314.567295 168.444002 \nL 316.397136 168.882124 \nL 317.617031 168.708285 \nL 318.226978 168.675213 \nL 319.446872 168.927478 \nL 321.886661 168.900002 \nL 322.496608 168.971778 \nL 323.106555 168.834195 \nL 324.326449 169.081101 \nL 324.936397 168.840413 \nL 326.156291 168.878954 \nL 326.766238 168.743453 \nL 327.986132 168.78217 \nL 329.206027 168.514054 \nL 330.425921 168.756863 \nL 331.035868 168.725237 \nL 332.255763 168.35933 \nL 332.86571 168.328799 \nL 334.085604 168.669555 \nL 335.305498 168.40784 \nL 336.525393 168.64579 \nL 337.13534 168.416587 \nL 337.745287 168.485503 \nL 338.355234 168.356471 \nL 344.454706 169.030745 \nL 346.284548 169.035253 \nL 346.894495 169.100675 \nL 348.114389 168.848714 \nL 349.334283 169.074341 \nL 352.993966 169.36435 \nL 353.603914 169.240164 \nL 354.823808 169.459999 \nL 355.433755 169.429529 \nL 357.873544 169.955561 \nL 363.363068 169.588802 \nL 363.363068 169.588802 \n\" clip-path=\"url(#pc51dd83d4c)\" style=\"fill: none; stroke: #d62728; stroke-width: 1.5; stroke-linecap: square\"/>\n   </g>\n   <g id=\"line2d_17\">\n    <path d=\"M 58.999432 109.259995 \nL 59.609379 154.619999 \nL 60.219326 139.5 \nL 60.829273 120.599997 \nL 61.43922 118.331999 \nL 62.049168 124.379994 \nL 62.659115 122.219994 \nL 63.269062 131.94 \nL 63.879009 119.339994 \nL 65.098903 134.001816 \nL 65.708851 139.5 \nL 66.928745 135.18 \nL 67.538692 136.476002 \nL 68.148639 140.444999 \nL 68.758586 146.615293 \nL 69.978481 152.232634 \nL 70.588428 154.619999 \nL 71.198375 158.939998 \nL 71.808322 158.743638 \nL 72.418269 162.508696 \nL 74.248111 161.59846 \nL 74.858058 164.699998 \nL 75.468005 164.339998 \nL 76.077952 167.133102 \nL 76.6879 163.691997 \nL 77.297847 163.399352 \nL 77.907794 161.707499 \nL 78.517741 162.86727 \nL 79.127688 159.956469 \nL 80.347583 164.699998 \nL 80.95753 161.975675 \nL 81.567477 162.975789 \nL 82.787371 162.557998 \nL 83.397319 164.577076 \nL 84.617213 166.223724 \nL 85.22716 165.960001 \nL 85.837107 164.699998 \nL 86.447054 166.453042 \nL 87.666949 167.85 \nL 88.276896 167.579998 \nL 89.49679 168.850586 \nL 90.106737 167.704617 \nL 90.716685 169.169436 \nL 92.546526 170.819998 \nL 93.156473 169.739998 \nL 93.76642 169.47931 \nL 94.376368 169.996272 \nL 94.986315 169.739998 \nL 95.596262 168.748523 \nL 96.206209 169.252256 \nL 96.816156 168.299998 \nL 98.036051 167.879077 \nL 98.645998 168.365454 \nL 99.255945 167.483281 \nL 99.865892 167.961174 \nL 101.085786 167.579998 \nL 101.695734 168.036336 \nL 102.305681 167.219998 \nL 102.915628 167.047396 \nL 103.525575 166.266489 \nL 104.135522 167.320797 \nL 104.745469 167.153684 \nL 105.355417 168.169093 \nL 105.965364 167.413844 \nL 106.575311 165.529368 \nL 107.185258 164.259003 \nL 109.625047 163.800001 \nL 111.454888 165.047588 \nL 112.064835 164.929093 \nL 113.28473 165.707999 \nL 114.504624 164.480873 \nL 115.114571 165.350325 \nL 115.724518 164.271061 \nL 116.334466 163.691997 \nL 116.944413 164.542503 \nL 117.55436 164.907836 \nL 118.164307 164.802859 \nL 118.774254 163.783638 \nL 119.994149 162.703962 \nL 121.214043 163.427767 \nL 121.82399 164.215386 \nL 122.433937 164.556001 \nL 124.263779 164.279997 \nL 124.873726 164.607526 \nL 125.483673 164.51673 \nL 126.09362 164.018917 \nL 126.703567 163.124997 \nL 128.533409 162.903128 \nL 130.36325 163.845761 \nL 131.583145 163.691997 \nL 132.193092 164.366778 \nL 132.803039 163.915083 \nL 133.412986 164.577076 \nL 134.022933 164.862583 \nL 134.632881 164.780642 \nL 135.242828 165.419998 \nL 135.852775 164.977793 \nL 136.462722 165.605625 \nL 137.072669 165.520466 \nL 138.292564 166.046566 \nL 138.902511 166.647273 \nL 139.512458 166.556843 \nL 140.122405 165.452239 \nL 140.732352 166.043998 \nL 141.952247 165.877229 \nL 142.562194 165.466954 \nL 143.172141 165.388919 \nL 143.782088 165.636001 \nL 144.392035 166.201277 \nL 145.61193 166.673709 \nL 148.051718 166.345713 \nL 148.661665 165.347026 \nL 149.88156 165.204002 \nL 150.491507 165.434307 \nL 151.711401 164.107057 \nL 153.541243 164.796924 \nL 154.15119 163.865349 \nL 154.761137 164.381013 \nL 155.371084 163.463773 \nL 155.981031 163.691997 \nL 156.590979 163.35391 \nL 157.200926 163.860003 \nL 157.810873 163.803313 \nL 158.42082 164.023906 \nL 159.030767 164.51673 \nL 159.640714 164.457107 \nL 160.250662 164.669818 \nL 160.860609 164.61 \nL 161.470556 164.014085 \nL 162.080503 163.958822 \nL 163.300397 164.377674 \nL 163.910345 164.059074 \nL 165.130239 164.469598 \nL 165.740186 164.155912 \nL 166.350133 164.102035 \nL 166.96008 164.303593 \nL 167.570028 163.742684 \nL 168.179975 163.691997 \nL 168.789922 164.143097 \nL 169.399869 164.339998 \nL 170.009816 164.039019 \nL 170.619763 164.480873 \nL 171.229711 164.182381 \nL 171.839658 164.374842 \nL 172.449605 164.807807 \nL 173.059552 164.753619 \nL 173.669499 164.46 \nL 174.279446 164.646945 \nL 174.889394 164.356964 \nL 176.719235 164.20639 \nL 177.329182 163.924613 \nL 177.939129 164.108571 \nL 178.549077 163.830154 \nL 179.159024 163.783638 \nL 179.768971 163.281709 \nL 180.378918 163.238403 \nL 180.988865 162.744179 \nL 181.598812 162.703962 \nL 182.20876 162.440692 \nL 182.818707 162.84706 \nL 183.428654 163.028193 \nL 184.038601 162.767187 \nL 184.648548 162.727829 \nL 185.258495 162.906926 \nL 185.868443 162.86727 \nL 186.47839 162.611997 \nL 187.088337 162.574125 \nL 187.698284 162.750566 \nL 188.308231 162.286482 \nL 189.528126 161.793212 \nL 190.138073 161.759997 \nL 191.357967 162.110642 \nL 191.967914 162.490683 \nL 193.187809 162.829953 \nL 193.797756 162.792974 \nL 194.407703 162.959729 \nL 195.01765 163.327502 \nL 195.627597 163.288799 \nL 198.067386 163.929696 \nL 199.28728 163.849093 \nL 199.897227 164.004825 \nL 201.117122 163.924613 \nL 201.727069 164.271061 \nL 202.337016 164.230168 \nL 203.55691 164.530586 \nL 204.166858 164.299328 \nL 204.776805 164.448003 \nL 205.386752 164.783649 \nL 205.996699 164.929093 \nL 207.216593 164.472789 \nL 207.826541 163.877144 \nL 208.436488 163.839516 \nL 209.046435 163.985831 \nL 209.656382 164.313874 \nL 210.266329 164.457107 \nL 210.876276 164.417762 \nL 211.486224 164.559441 \nL 212.096171 164.160001 \nL 212.706118 164.122292 \nL 214.535959 164.542503 \nL 215.755854 164.465583 \nL 216.975748 164.738769 \nL 217.585695 165.047588 \nL 218.80559 164.623349 \nL 222.465273 165.411968 \nL 223.07522 165.372001 \nL 223.685167 165.499702 \nL 224.295114 165.459708 \nL 224.905061 165.752306 \nL 225.515008 165.711676 \nL 226.124956 165.5064 \nL 226.734903 165.631303 \nL 227.34485 164.936535 \nL 228.564744 164.53742 \nL 229.784639 164.789679 \nL 230.394586 165.075321 \nL 231.004533 164.557528 \nL 231.61448 164.522536 \nL 232.224427 164.646945 \nL 232.834374 164.611886 \nL 233.444322 164.735119 \nL 234.054269 164.699998 \nL 234.664216 164.508166 \nL 235.274163 164.161238 \nL 235.88411 163.972577 \nL 236.494057 164.25123 \nL 237.713952 164.185713 \nL 238.323899 163.999525 \nL 238.933846 164.121082 \nL 239.543793 164.394545 \nL 240.15374 164.209533 \nL 240.763688 164.329163 \nL 241.373635 164.2968 \nL 241.983582 163.963256 \nL 242.593529 163.932319 \nL 243.203476 164.200989 \nL 244.423371 164.435606 \nL 245.033318 164.699998 \nL 245.643265 164.667169 \nL 246.253212 164.487274 \nL 247.473106 165.008905 \nL 248.083054 165.121351 \nL 249.302948 165.054246 \nL 249.912895 165.165475 \nL 250.522842 164.987999 \nL 251.132789 164.95519 \nL 251.742737 165.065676 \nL 252.352684 165.31811 \nL 252.962631 165.426771 \nL 253.572578 165.676502 \nL 254.792472 165.889564 \nL 255.40242 165.714245 \nL 256.012367 165.680003 \nL 256.622314 165.925111 \nL 257.232261 165.751285 \nL 257.842208 165.717246 \nL 258.452155 165.960001 \nL 259.67205 166.166183 \nL 260.281997 165.994257 \nL 262.111838 165.892099 \nL 263.331733 166.095002 \nL 263.94168 166.06095 \nL 264.551627 166.161303 \nL 265.161574 166.127257 \nL 265.771521 166.360239 \nL 266.381469 166.458828 \nL 266.991416 166.689471 \nL 267.601363 166.654283 \nL 268.21131 166.751162 \nL 270.041152 166.25412 \nL 270.651099 166.481376 \nL 271.261046 166.317419 \nL 271.870993 166.413602 \nL 272.48094 166.380002 \nL 273.090887 166.217728 \nL 274.920729 166.50304 \nL 275.530676 166.342246 \nL 276.140623 166.30941 \nL 276.75057 166.150056 \nL 277.360518 166.244292 \nL 278.580412 166.179891 \nL 279.190359 166.273262 \nL 279.800306 166.241156 \nL 280.410253 166.458463 \nL 281.630148 166.393771 \nL 282.240095 166.485283 \nL 283.459989 166.912686 \nL 284.069936 167.002055 \nL 285.289831 166.691614 \nL 285.899778 166.780855 \nL 286.509725 166.990909 \nL 287.119672 166.836963 \nL 287.729619 166.925109 \nL 289.559461 166.827703 \nL 290.779355 167.239843 \nL 291.389302 167.088066 \nL 291.99925 167.055507 \nL 292.609197 167.141247 \nL 293.219144 167.108728 \nL 293.829091 166.958857 \nL 296.26888 166.832306 \nL 296.878827 166.685064 \nL 297.488774 166.654283 \nL 298.708668 166.823451 \nL 299.318616 166.792555 \nL 300.53851 166.95975 \nL 301.148457 166.928745 \nL 301.758404 167.011579 \nL 303.588246 166.919107 \nL 305.418087 167.275998 \nL 307.247929 166.960588 \nL 309.687717 166.840775 \nL 310.907612 167.110432 \nL 312.737453 167.129351 \nL 313.3474 167.316458 \nL 316.397136 167.273618 \nL 317.617031 167.534259 \nL 318.226978 167.610421 \nL 318.836925 167.473771 \nL 320.056819 167.519578 \nL 321.276714 167.354478 \nL 321.886661 167.325002 \nL 322.496608 167.505174 \nL 323.716502 167.55021 \nL 326.766238 168.021818 \nL 327.376185 168.197144 \nL 327.986132 168.063799 \nL 329.206027 168.207566 \nL 329.815974 167.973172 \nL 332.86571 168.227999 \nL 333.475657 168.09725 \nL 334.695551 168.238016 \nL 335.305498 168.008191 \nL 343.234812 167.635504 \nL 343.844759 167.413844 \nL 344.454706 167.579998 \nL 345.6746 167.42866 \nL 348.724336 167.770586 \nL 349.334283 167.647928 \nL 351.164125 167.944499 \nL 352.384019 168.265641 \nL 352.993966 168.143476 \nL 354.213861 168.368286 \nL 357.263597 168.320573 \nL 359.703385 168.485104 \nL 360.313332 168.457088 \nL 362.143174 168.829159 \nL 363.363068 168.6816 \nL 363.363068 168.6816 \n\" clip-path=\"url(#pc51dd83d4c)\" style=\"fill: none; stroke: #9467bd; stroke-width: 1.5; stroke-linecap: square\"/>\n   </g>\n   <g id=\"line2d_18\">\n    <path d=\"M 58.999432 18.54 \nL 59.609379 86.580003 \nL 60.219326 124.379994 \nL 60.829273 143.280003 \nL 61.43922 145.548001 \nL 62.049168 162.179998 \nL 62.659115 161.099998 \nL 63.269062 171.630003 \nL 63.879009 174.779997 \nL 64.488956 177.299997 \nL 65.708851 173.520001 \nL 66.318798 179.044613 \nL 66.928745 180.539997 \nL 67.538692 178.812003 \nL 68.148639 182.969999 \nL 68.758586 181.30235 \nL 69.368534 182.339997 \nL 69.978481 180.881051 \nL 70.588428 172.764002 \nL 71.198375 171.899998 \nL 72.418269 166.453042 \nL 73.638164 169.135201 \nL 74.248111 168.576921 \nL 74.858058 166.380002 \nL 75.468005 169.200001 \nL 76.077952 165.568963 \nL 77.907794 168.794999 \nL 79.127688 170.629409 \nL 79.737635 168.876001 \nL 80.347583 165.960001 \nL 81.567477 167.750525 \nL 82.177424 167.413844 \nL 82.787371 168.227999 \nL 83.397319 167.896097 \nL 84.617213 165.168834 \nL 85.837107 164.699998 \nL 86.447054 162.508696 \nL 87.057002 159.44553 \nL 87.666949 158.400002 \nL 88.276896 159.248575 \nL 88.886843 157.341597 \nL 89.49679 158.177645 \nL 90.106737 157.236925 \nL 91.326632 157.139998 \nL 92.546526 155.429997 \nL 93.156473 155.415789 \nL 93.76642 153.837929 \nL 94.376368 153.082376 \nL 94.986315 153.863999 \nL 95.596262 153.876396 \nL 96.816156 155.339999 \nL 97.426103 156.74625 \nL 98.036051 156.713536 \nL 99.255945 158.005077 \nL 99.865892 157.288234 \nL 100.475839 157.249565 \nL 101.085786 157.859998 \nL 101.695734 157.175491 \nL 102.305681 157.139998 \nL 102.915628 157.72685 \nL 103.525575 157.071893 \nL 104.135522 157.039199 \nL 105.965364 158.690768 \nL 107.185258 160.856999 \nL 108.405152 160.704878 \nL 109.0151 161.178073 \nL 110.844941 164.113951 \nL 111.454888 163.483449 \nL 112.064835 163.382724 \nL 112.674783 164.303593 \nL 113.28473 164.699998 \nL 113.894677 164.589229 \nL 114.504624 163.987825 \nL 115.114571 164.374842 \nL 115.724518 164.271061 \nL 116.334466 163.691997 \nL 116.944413 164.070003 \nL 117.55436 163.50495 \nL 118.164307 163.414283 \nL 118.774254 163.783638 \nL 119.384201 164.599199 \nL 119.994149 164.051287 \nL 120.604096 163.958822 \nL 121.214043 164.308541 \nL 121.82399 163.779231 \nL 123.043884 163.606412 \nL 123.653832 163.946358 \nL 124.263779 163.440002 \nL 124.873726 163.359081 \nL 125.483673 164.104367 \nL 126.09362 164.018917 \nL 126.703567 164.745001 \nL 127.313515 165.056814 \nL 127.923462 164.56737 \nL 128.533409 165.269742 \nL 129.143356 164.395863 \nL 129.753303 163.924613 \nL 130.36325 163.076946 \nL 130.973198 163.005881 \nL 131.583145 163.691997 \nL 132.193092 163.991901 \nL 132.803039 163.915083 \nL 133.412986 164.208296 \nL 134.022933 164.130971 \nL 134.632881 164.417762 \nL 135.852775 164.263464 \nL 137.072669 164.817209 \nL 138.292564 164.661525 \nL 138.902511 164.929093 \nL 139.512458 164.510525 \nL 140.122405 164.436715 \nL 140.732352 164.028002 \nL 141.342299 164.292353 \nL 142.562194 164.152174 \nL 143.172141 164.409928 \nL 143.782088 164.339998 \nL 144.392035 163.949359 \nL 146.831824 164.943308 \nL 147.441771 164.8726 \nL 149.88156 165.808799 \nL 150.491507 165.13391 \nL 151.101454 165.36316 \nL 151.711401 165.88588 \nL 152.321348 165.812726 \nL 152.931296 166.033163 \nL 153.541243 166.54154 \nL 154.761137 166.390635 \nL 155.981031 167.3775 \nL 156.590979 167.298262 \nL 157.810873 166.586137 \nL 158.42082 166.513172 \nL 159.030767 166.716001 \nL 159.640714 166.64313 \nL 160.250662 166.842755 \nL 161.470556 167.771715 \nL 162.080503 167.427531 \nL 162.69045 167.352633 \nL 163.300397 167.806045 \nL 163.910345 167.467627 \nL 164.520292 167.393796 \nL 165.130239 166.543203 \nL 165.740186 166.217728 \nL 166.350133 166.408472 \nL 166.96008 166.087418 \nL 167.570028 166.023355 \nL 168.789922 166.899782 \nL 170.009816 167.26131 \nL 170.619763 166.946089 \nL 173.059552 166.683827 \nL 174.279446 167.034317 \nL 174.889394 166.969321 \nL 175.499341 166.432501 \nL 176.109288 166.841349 \nL 176.719235 167.012167 \nL 177.329182 166.948617 \nL 177.939129 167.348571 \nL 179.159024 167.219998 \nL 179.768971 167.384624 \nL 180.988865 168.160299 \nL 181.598812 168.093269 \nL 182.20876 168.250345 \nL 182.818707 167.961174 \nL 183.428654 168.117365 \nL 184.038601 168.051842 \nL 184.648548 168.425218 \nL 185.258495 168.576921 \nL 185.868443 168.944207 \nL 186.47839 168.444002 \nL 187.088337 168.378485 \nL 188.308231 168.675213 \nL 188.918178 168.609534 \nL 189.528126 168.755444 \nL 190.74802 168.625161 \nL 191.357967 168.768989 \nL 192.577861 169.465089 \nL 193.187809 169.192667 \nL 193.797756 169.127029 \nL 194.407703 168.858562 \nL 195.01765 168.794999 \nL 195.627597 168.933602 \nL 196.237544 168.870269 \nL 196.847492 169.207139 \nL 197.457439 169.143157 \nL 198.067386 169.277819 \nL 198.677333 168.819649 \nL 199.28728 169.150909 \nL 200.507175 169.415537 \nL 201.727069 169.289614 \nL 202.337016 169.419661 \nL 202.946963 169.357213 \nL 203.55691 169.676468 \nL 204.166858 169.613473 \nL 206.606646 168.619997 \nL 207.216593 168.562625 \nL 209.656382 169.069353 \nL 210.876276 168.953758 \nL 211.486224 168.715937 \nL 212.096171 168.840001 \nL 212.706118 169.142373 \nL 213.316065 169.085197 \nL 213.926012 169.206355 \nL 214.535959 169.503751 \nL 216.365801 169.331352 \nL 216.975748 169.449232 \nL 218.80559 169.280077 \nL 219.415537 168.70909 \nL 220.635431 168.944207 \nL 221.245378 168.720675 \nL 222.465273 169.290337 \nL 223.07522 169.404 \nL 223.685167 169.182069 \nL 224.295114 169.12853 \nL 225.515008 169.684816 \nL 226.124956 169.794984 \nL 226.734903 169.739998 \nL 227.34485 169.849172 \nL 227.954797 169.794389 \nL 228.564744 170.065161 \nL 229.784639 169.95523 \nL 230.394586 169.739998 \nL 231.004533 169.686573 \nL 231.61448 169.952959 \nL 232.224427 169.899156 \nL 232.834374 170.004335 \nL 233.444322 169.950735 \nL 234.054269 170.212497 \nL 234.664216 170.158546 \nL 235.274163 170.26138 \nL 235.88411 170.051751 \nL 236.494057 169.688223 \nL 237.104005 169.48198 \nL 238.933846 169.331352 \nL 239.543793 169.129091 \nL 240.15374 169.232614 \nL 240.763688 169.487158 \nL 241.983582 169.68977 \nL 243.813423 169.541055 \nL 244.423371 169.789576 \nL 245.033318 169.739998 \nL 245.643265 169.986254 \nL 246.863159 169.886793 \nL 247.473106 169.983868 \nL 248.693001 169.885387 \nL 249.302948 169.69169 \nL 249.912895 169.643693 \nL 250.522842 169.884002 \nL 252.352684 170.167927 \nL 254.182525 170.870468 \nL 254.792472 170.960872 \nL 256.012367 171.420002 \nL 256.622314 171.368308 \nL 257.232261 171.595213 \nL 258.452155 171.215125 \nL 259.062103 171.164681 \nL 259.67205 171.389457 \nL 260.281997 171.338791 \nL 260.891944 171.425058 \nL 261.501891 171.102159 \nL 262.111838 171.188622 \nL 263.331733 171.089999 \nL 263.94168 171.310328 \nL 265.161574 171.21186 \nL 265.771521 171.296472 \nL 266.381469 170.981528 \nL 266.991416 171.066315 \nL 267.601363 170.886123 \nL 268.21131 171.102558 \nL 268.821257 171.186263 \nL 269.431204 171.400576 \nL 270.041152 171.221499 \nL 271.261046 171.126364 \nL 271.870993 171.208798 \nL 272.48094 170.644618 \nL 273.090887 170.856815 \nL 274.310782 170.765086 \nL 274.920729 170.591828 \nL 276.140623 170.756468 \nL 276.75057 170.711398 \nL 277.360518 170.287524 \nL 279.190359 170.15768 \nL 279.800306 170.239831 \nL 281.020201 170.154247 \nL 282.240095 170.316784 \nL 282.850042 170.150867 \nL 283.459989 169.739998 \nL 284.069936 169.82173 \nL 284.679884 169.780756 \nL 285.289831 169.983868 \nL 285.899778 170.064289 \nL 286.509725 170.022997 \nL 287.119672 169.86096 \nL 288.339567 170.02074 \nL 288.949514 169.980002 \nL 290.169408 170.137896 \nL 290.779355 169.97811 \nL 292.609197 170.212497 \nL 293.219144 170.172003 \nL 293.829091 170.366735 \nL 294.439038 170.208841 \nL 295.658933 170.361902 \nL 296.26888 170.205231 \nL 296.878827 170.165372 \nL 297.488774 170.241427 \nL 298.098721 170.086256 \nL 298.708668 170.047006 \nL 299.318616 169.778282 \nL 300.53851 169.701917 \nL 301.148457 169.777991 \nL 301.758404 169.739998 \nL 302.368351 169.815599 \nL 302.978299 169.777707 \nL 303.588246 169.401492 \nL 304.198193 169.364817 \nL 304.80814 169.440594 \nL 305.418087 169.404 \nL 307.857876 169.703032 \nL 309.07777 169.739998 \nL 311.517559 169.922171 \nL 315.177242 169.596345 \nL 315.787189 169.453362 \nL 316.397136 169.525529 \nL 317.617031 169.241928 \nL 318.226978 169.314082 \nL 319.446872 169.139439 \nL 320.666766 168.966418 \nL 321.276714 168.827889 \nL 322.496608 169.076538 \nL 326.156291 168.878954 \nL 327.376185 169.122859 \nL 329.815974 169.400228 \nL 330.425921 169.265383 \nL 331.035868 168.928188 \nL 332.86571 168.933602 \nL 335.305498 169.207139 \nL 335.915446 169.075382 \nL 337.13534 169.309892 \nL 337.745287 169.178777 \nL 339.575129 169.37922 \nL 340.185076 169.249093 \nL 342.014917 169.349805 \nL 342.624865 169.123521 \nL 344.454706 169.127462 \nL 345.6746 169.162163 \nL 347.504442 168.974427 \nL 350.554178 168.351104 \nL 351.774072 168.671225 \nL 354.213861 168.648865 \nL 355.433755 168.777533 \nL 356.043702 168.562625 \nL 356.653649 168.626871 \nL 357.873544 168.292671 \nL 358.483491 168.449267 \nL 359.703385 168.301458 \nL 363.363068 168.590879 \nL 363.363068 168.590879 \n\" clip-path=\"url(#pc51dd83d4c)\" style=\"fill: none; stroke: #8c564b; stroke-width: 1.5; stroke-linecap: square\"/>\n   </g>\n   <g id=\"line2d_19\">\n    <path d=\"M 43.78125 169.5888 \nL 378.58125 169.5888 \n\" clip-path=\"url(#pc51dd83d4c)\" style=\"fill: none; stroke-dasharray: 5.55,2.4; stroke-dashoffset: 0; stroke: #000000; stroke-width: 1.5\"/>\n   </g>\n   <g id=\"patch_3\">\n    <path d=\"M 43.78125 256.68 \nL 43.78125 7.2 \n\" style=\"fill: none; stroke: #000000; stroke-width: 0.8; stroke-linejoin: miter; stroke-linecap: square\"/>\n   </g>\n   <g id=\"patch_4\">\n    <path d=\"M 378.58125 256.68 \nL 378.58125 7.2 \n\" style=\"fill: none; stroke: #000000; stroke-width: 0.8; stroke-linejoin: miter; stroke-linecap: square\"/>\n   </g>\n   <g id=\"patch_5\">\n    <path d=\"M 43.78125 256.68 \nL 378.58125 256.68 \n\" style=\"fill: none; stroke: #000000; stroke-width: 0.8; stroke-linejoin: miter; stroke-linecap: square\"/>\n   </g>\n   <g id=\"patch_6\">\n    <path d=\"M 43.78125 7.2 \nL 378.58125 7.2 \n\" style=\"fill: none; stroke: #000000; stroke-width: 0.8; stroke-linejoin: miter; stroke-linecap: square\"/>\n   </g>\n   <g id=\"legend_1\">\n    <g id=\"patch_7\">\n     <path d=\"M 295.726562 103.26875 \nL 371.58125 103.26875 \nQ 373.58125 103.26875 373.58125 101.26875 \nL 373.58125 14.2 \nQ 373.58125 12.2 371.58125 12.2 \nL 295.726562 12.2 \nQ 293.726562 12.2 293.726562 14.2 \nL 293.726562 101.26875 \nQ 293.726562 103.26875 295.726562 103.26875 \nz\n\" style=\"fill: #ffffff; opacity: 0.8; stroke: #cccccc; stroke-linejoin: miter\"/>\n    </g>\n    <g id=\"line2d_20\">\n     <path d=\"M 297.726562 20.298437 \nL 307.726562 20.298437 \nL 317.726562 20.298437 \n\" style=\"fill: none; stroke: #1f77b4; stroke-width: 1.5; stroke-linecap: square\"/>\n    </g>\n    <g id=\"text_15\">\n     <!-- P(die=1) -->\n     <g transform=\"translate(325.726562 23.798437) scale(0.1 -0.1)\">\n      <defs>\n       <path id=\"DejaVuSans-50\" d=\"M 1259 4147 \nL 1259 2394 \nL 2053 2394 \nQ 2494 2394 2734 2622 \nQ 2975 2850 2975 3272 \nQ 2975 3691 2734 3919 \nQ 2494 4147 2053 4147 \nL 1259 4147 \nz\nM 628 4666 \nL 2053 4666 \nQ 2838 4666 3239 4311 \nQ 3641 3956 3641 3272 \nQ 3641 2581 3239 2228 \nQ 2838 1875 2053 1875 \nL 1259 1875 \nL 1259 0 \nL 628 0 \nL 628 4666 \nz\n\" transform=\"scale(0.015625)\"/>\n       <path id=\"DejaVuSans-28\" d=\"M 1984 4856 \nQ 1566 4138 1362 3434 \nQ 1159 2731 1159 2009 \nQ 1159 1288 1364 580 \nQ 1569 -128 1984 -844 \nL 1484 -844 \nQ 1016 -109 783 600 \nQ 550 1309 550 2009 \nQ 550 2706 781 3412 \nQ 1013 4119 1484 4856 \nL 1984 4856 \nz\n\" transform=\"scale(0.015625)\"/>\n       <path id=\"DejaVuSans-3d\" d=\"M 678 2906 \nL 4684 2906 \nL 4684 2381 \nL 678 2381 \nL 678 2906 \nz\nM 678 1631 \nL 4684 1631 \nL 4684 1100 \nL 678 1100 \nL 678 1631 \nz\n\" transform=\"scale(0.015625)\"/>\n       <path id=\"DejaVuSans-29\" d=\"M 513 4856 \nL 1013 4856 \nQ 1481 4119 1714 3412 \nQ 1947 2706 1947 2009 \nQ 1947 1309 1714 600 \nQ 1481 -109 1013 -844 \nL 513 -844 \nQ 928 -128 1133 580 \nQ 1338 1288 1338 2009 \nQ 1338 2731 1133 3434 \nQ 928 4138 513 4856 \nz\n\" transform=\"scale(0.015625)\"/>\n      </defs>\n      <use xlink:href=\"#DejaVuSans-50\"/>\n      <use xlink:href=\"#DejaVuSans-28\" x=\"60.302734\"/>\n      <use xlink:href=\"#DejaVuSans-64\" x=\"99.316406\"/>\n      <use xlink:href=\"#DejaVuSans-69\" x=\"162.792969\"/>\n      <use xlink:href=\"#DejaVuSans-65\" x=\"190.576172\"/>\n      <use xlink:href=\"#DejaVuSans-3d\" x=\"252.099609\"/>\n      <use xlink:href=\"#DejaVuSans-31\" x=\"335.888672\"/>\n      <use xlink:href=\"#DejaVuSans-29\" x=\"399.511719\"/>\n     </g>\n    </g>\n    <g id=\"line2d_21\">\n     <path d=\"M 297.726562 34.976562 \nL 307.726562 34.976562 \nL 317.726562 34.976562 \n\" style=\"fill: none; stroke: #ff7f0e; stroke-width: 1.5; stroke-linecap: square\"/>\n    </g>\n    <g id=\"text_16\">\n     <!-- P(die=2) -->\n     <g transform=\"translate(325.726562 38.476562) scale(0.1 -0.1)\">\n      <use xlink:href=\"#DejaVuSans-50\"/>\n      <use xlink:href=\"#DejaVuSans-28\" x=\"60.302734\"/>\n      <use xlink:href=\"#DejaVuSans-64\" x=\"99.316406\"/>\n      <use xlink:href=\"#DejaVuSans-69\" x=\"162.792969\"/>\n      <use xlink:href=\"#DejaVuSans-65\" x=\"190.576172\"/>\n      <use xlink:href=\"#DejaVuSans-3d\" x=\"252.099609\"/>\n      <use xlink:href=\"#DejaVuSans-32\" x=\"335.888672\"/>\n      <use xlink:href=\"#DejaVuSans-29\" x=\"399.511719\"/>\n     </g>\n    </g>\n    <g id=\"line2d_22\">\n     <path d=\"M 297.726562 49.654687 \nL 307.726562 49.654687 \nL 317.726562 49.654687 \n\" style=\"fill: none; stroke: #2ca02c; stroke-width: 1.5; stroke-linecap: square\"/>\n    </g>\n    <g id=\"text_17\">\n     <!-- P(die=3) -->\n     <g transform=\"translate(325.726562 53.154687) scale(0.1 -0.1)\">\n      <use xlink:href=\"#DejaVuSans-50\"/>\n      <use xlink:href=\"#DejaVuSans-28\" x=\"60.302734\"/>\n      <use xlink:href=\"#DejaVuSans-64\" x=\"99.316406\"/>\n      <use xlink:href=\"#DejaVuSans-69\" x=\"162.792969\"/>\n      <use xlink:href=\"#DejaVuSans-65\" x=\"190.576172\"/>\n      <use xlink:href=\"#DejaVuSans-3d\" x=\"252.099609\"/>\n      <use xlink:href=\"#DejaVuSans-33\" x=\"335.888672\"/>\n      <use xlink:href=\"#DejaVuSans-29\" x=\"399.511719\"/>\n     </g>\n    </g>\n    <g id=\"line2d_23\">\n     <path d=\"M 297.726562 64.332812 \nL 307.726562 64.332812 \nL 317.726562 64.332812 \n\" style=\"fill: none; stroke: #d62728; stroke-width: 1.5; stroke-linecap: square\"/>\n    </g>\n    <g id=\"text_18\">\n     <!-- P(die=4) -->\n     <g transform=\"translate(325.726562 67.832812) scale(0.1 -0.1)\">\n      <use xlink:href=\"#DejaVuSans-50\"/>\n      <use xlink:href=\"#DejaVuSans-28\" x=\"60.302734\"/>\n      <use xlink:href=\"#DejaVuSans-64\" x=\"99.316406\"/>\n      <use xlink:href=\"#DejaVuSans-69\" x=\"162.792969\"/>\n      <use xlink:href=\"#DejaVuSans-65\" x=\"190.576172\"/>\n      <use xlink:href=\"#DejaVuSans-3d\" x=\"252.099609\"/>\n      <use xlink:href=\"#DejaVuSans-34\" x=\"335.888672\"/>\n      <use xlink:href=\"#DejaVuSans-29\" x=\"399.511719\"/>\n     </g>\n    </g>\n    <g id=\"line2d_24\">\n     <path d=\"M 297.726562 79.010937 \nL 307.726562 79.010937 \nL 317.726562 79.010937 \n\" style=\"fill: none; stroke: #9467bd; stroke-width: 1.5; stroke-linecap: square\"/>\n    </g>\n    <g id=\"text_19\">\n     <!-- P(die=5) -->\n     <g transform=\"translate(325.726562 82.510937) scale(0.1 -0.1)\">\n      <use xlink:href=\"#DejaVuSans-50\"/>\n      <use xlink:href=\"#DejaVuSans-28\" x=\"60.302734\"/>\n      <use xlink:href=\"#DejaVuSans-64\" x=\"99.316406\"/>\n      <use xlink:href=\"#DejaVuSans-69\" x=\"162.792969\"/>\n      <use xlink:href=\"#DejaVuSans-65\" x=\"190.576172\"/>\n      <use xlink:href=\"#DejaVuSans-3d\" x=\"252.099609\"/>\n      <use xlink:href=\"#DejaVuSans-35\" x=\"335.888672\"/>\n      <use xlink:href=\"#DejaVuSans-29\" x=\"399.511719\"/>\n     </g>\n    </g>\n    <g id=\"line2d_25\">\n     <path d=\"M 297.726562 93.689062 \nL 307.726562 93.689062 \nL 317.726562 93.689062 \n\" style=\"fill: none; stroke: #8c564b; stroke-width: 1.5; stroke-linecap: square\"/>\n    </g>\n    <g id=\"text_20\">\n     <!-- P(die=6) -->\n     <g transform=\"translate(325.726562 97.189062) scale(0.1 -0.1)\">\n      <defs>\n       <path id=\"DejaVuSans-36\" d=\"M 2113 2584 \nQ 1688 2584 1439 2293 \nQ 1191 2003 1191 1497 \nQ 1191 994 1439 701 \nQ 1688 409 2113 409 \nQ 2538 409 2786 701 \nQ 3034 994 3034 1497 \nQ 3034 2003 2786 2293 \nQ 2538 2584 2113 2584 \nz\nM 3366 4563 \nL 3366 3988 \nQ 3128 4100 2886 4159 \nQ 2644 4219 2406 4219 \nQ 1781 4219 1451 3797 \nQ 1122 3375 1075 2522 \nQ 1259 2794 1537 2939 \nQ 1816 3084 2150 3084 \nQ 2853 3084 3261 2657 \nQ 3669 2231 3669 1497 \nQ 3669 778 3244 343 \nQ 2819 -91 2113 -91 \nQ 1303 -91 875 529 \nQ 447 1150 447 2328 \nQ 447 3434 972 4092 \nQ 1497 4750 2381 4750 \nQ 2619 4750 2861 4703 \nQ 3103 4656 3366 4563 \nz\n\" transform=\"scale(0.015625)\"/>\n      </defs>\n      <use xlink:href=\"#DejaVuSans-50\"/>\n      <use xlink:href=\"#DejaVuSans-28\" x=\"60.302734\"/>\n      <use xlink:href=\"#DejaVuSans-64\" x=\"99.316406\"/>\n      <use xlink:href=\"#DejaVuSans-69\" x=\"162.792969\"/>\n      <use xlink:href=\"#DejaVuSans-65\" x=\"190.576172\"/>\n      <use xlink:href=\"#DejaVuSans-3d\" x=\"252.099609\"/>\n      <use xlink:href=\"#DejaVuSans-36\" x=\"335.888672\"/>\n      <use xlink:href=\"#DejaVuSans-29\" x=\"399.511719\"/>\n     </g>\n    </g>\n   </g>\n  </g>\n </g>\n <defs>\n  <clipPath id=\"pc51dd83d4c\">\n   <rect x=\"43.78125\" y=\"7.2\" width=\"334.8\" height=\"249.48\"/>\n  </clipPath>\n </defs>\n</svg>\n"
     },
     "metadata": {},
     "output_type": "display_data"
    }
   ],
   "source": [
    "counts = multinomial.Multinomial(10, fair_probs).sample((500,))\n",
    "cum_counts = counts.cumsum(dim=0)\n",
    "estimates = cum_counts / cum_counts.sum(dim=1, keepdims=True)\n",
    "d2l.set_figsize((6, 4.5))\n",
    "for i in range(6):\n",
    "    d2l.plt.plot(estimates[:, i].numpy(), label=(\"P(die=\" + str(i + 1) + \")\"))\n",
    "d2l.plt.axhline(y=0.167, color='black', linestyle='dashed')\n",
    "d2l.plt.gca().set_xlabel('Groups of experiments')\n",
    "d2l.plt.gca().set_ylabel('Estimated probability')\n",
    "d2l.plt.legend();"
   ],
   "metadata": {
    "collapsed": false,
    "ExecuteTime": {
     "end_time": "2023-11-01T02:41:14.795238Z",
     "start_time": "2023-11-01T02:41:14.690171Z"
    }
   },
   "id": "24f8adb8f0204d6a"
  }
 ],
 "metadata": {
  "kernelspec": {
   "display_name": "Python 3",
   "language": "python",
   "name": "python3"
  },
  "language_info": {
   "codemirror_mode": {
    "name": "ipython",
    "version": 2
   },
   "file_extension": ".py",
   "mimetype": "text/x-python",
   "name": "python",
   "nbconvert_exporter": "python",
   "pygments_lexer": "ipython2",
   "version": "2.7.6"
  }
 },
 "nbformat": 4,
 "nbformat_minor": 5
}
