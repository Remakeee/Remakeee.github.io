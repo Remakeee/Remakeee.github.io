{
 "cells": [
  {
   "cell_type": "markdown",
   "source": [
    "## 信息熵\n",
    "https://www.zhihu.com/question/22178202/answer/161732605"
   ],
   "metadata": {
    "collapsed": false
   }
  },
  {
   "cell_type": "markdown",
   "metadata": {},
   "source": [
    "## 代码"
   ]
  },
  {
   "cell_type": "code",
   "execution_count": 1,
   "outputs": [],
   "source": [
    "def createdataSet():\n",
    "    dataSet = [[1,1,'yes'],\n",
    "               [1,1,'yes'],\n",
    "               [1,0,'no'],\n",
    "               [0,1,'no'],\n",
    "               [0,1,'no']]\n",
    "    labels = ['no surfacing','flippers']\n",
    "    return dataSet,labels"
   ],
   "metadata": {
    "collapsed": false,
    "ExecuteTime": {
     "end_time": "2023-10-30T10:53:35.878134Z",
     "start_time": "2023-10-30T10:53:35.843101Z"
    }
   }
  },
  {
   "cell_type": "markdown",
   "metadata": {},
   "source": [
    "### 计算给定数据集的香农熵"
   ]
  },
  {
   "cell_type": "code",
   "execution_count": 2,
   "metadata": {
    "ExecuteTime": {
     "end_time": "2023-10-30T10:53:35.879008Z",
     "start_time": "2023-10-30T10:53:35.852227Z"
    }
   },
   "outputs": [],
   "source": [
    "from math import log\n",
    "def calcShannonEnt(dataSet):\n",
    "    numEntries = len(dataSet)\n",
    "    labelCounts = {}\n",
    "    for featVec in dataSet: # the the number of unique elements and their occurance\n",
    "        currentLabel = featVec[-1] # the last column is used for the labels\n",
    "        if currentLabel not in labelCounts.keys(): labelCounts[currentLabel] = 0\n",
    "        labelCounts[currentLabel] += 1\n",
    "    shannonEnt = 0.0\n",
    "    for key in labelCounts:\n",
    "        prob = float(labelCounts[key])/numEntries\n",
    "        shannonEnt -= prob * log(prob,2) # log base 2\n",
    "    return shannonEnt"
   ]
  },
  {
   "cell_type": "markdown",
   "metadata": {},
   "source": [
    "### 按照给定特征划分数据集"
   ]
  },
  {
   "cell_type": "code",
   "execution_count": 3,
   "metadata": {
    "ExecuteTime": {
     "end_time": "2023-10-30T10:53:35.879128Z",
     "start_time": "2023-10-30T10:53:35.857005Z"
    }
   },
   "outputs": [],
   "source": [
    "def splitDataSet(dataSet, axis, value): # axis is the feature index, value is the feature value\n",
    "    retDataSet = []\n",
    "    for featVec in dataSet:\n",
    "        if featVec[axis] == value:\n",
    "            reducedFeatVec = featVec[:axis] # chop out axis used for splitting\n",
    "            reducedFeatVec.extend(featVec[axis+1:])\n",
    "            retDataSet.append(reducedFeatVec)\n",
    "    return retDataSet"
   ]
  },
  {
   "cell_type": "markdown",
   "metadata": {},
   "source": [
    "## 选择最好的数据集划分方法"
   ]
  },
  {
   "cell_type": "code",
   "execution_count": 4,
   "metadata": {
    "ExecuteTime": {
     "end_time": "2023-10-30T10:53:35.879246Z",
     "start_time": "2023-10-30T10:53:35.862436Z"
    }
   },
   "outputs": [],
   "source": [
    "def chooseBestFeatureToSplit(dataSet): # choose the best feature to split the data set\n",
    "    numFeatures = len(dataSet[0]) - 1 # the last column is used for the labels\n",
    "    baseEntropy = calcShannonEnt(dataSet) # the base entropy\n",
    "    bestInfoGain = 0.0\n",
    "    bestFeature = -1\n",
    "    for i in range(numFeatures): # iterate over all the features\n",
    "        featList = [example[i] for example in dataSet] # create a list of all the examples of this feature\n",
    "        uniqueVals = set(featList) # get a set of unique values\n",
    "        newEntropy = 0.0\n",
    "        for value in uniqueVals: # calculate entropy for each split\n",
    "            subDataSet = splitDataSet(dataSet, i, value)\n",
    "            prob = len(subDataSet)/float(len(dataSet))\n",
    "            newEntropy += prob * calcShannonEnt(subDataSet) # calculate the new entropy\n",
    "        infoGain = baseEntropy - newEntropy # calculate the info gain; ie reduction in entropy\n",
    "        if (infoGain > bestInfoGain): # compare this to the best gain so far\n",
    "            bestInfoGain = infoGain # if better than current best, set to best\n",
    "            bestFeature = i\n",
    "    return bestFeature # returns an integer"
   ]
  },
  {
   "cell_type": "code",
   "execution_count": 5,
   "metadata": {
    "ExecuteTime": {
     "end_time": "2023-10-30T10:53:35.963860Z",
     "start_time": "2023-10-30T10:53:35.872849Z"
    }
   },
   "outputs": [
    {
     "data": {
      "text/plain": "0"
     },
     "execution_count": 5,
     "metadata": {},
     "output_type": "execute_result"
    }
   ],
   "source": [
    "myDat,labels = createdataSet()\n",
    "chooseBestFeatureToSplit(myDat)"
   ]
  },
  {
   "cell_type": "markdown",
   "metadata": {},
   "source": [
    "## 构建树的代码"
   ]
  },
  {
   "cell_type": "code",
   "execution_count": 6,
   "metadata": {
    "ExecuteTime": {
     "end_time": "2023-10-30T10:53:35.983764Z",
     "start_time": "2023-10-30T10:53:35.880837Z"
    }
   },
   "outputs": [],
   "source": [
    "def majorityCnt(classList):\n",
    "    classCount={}\n",
    "    for vote in classList: # create dictionary of all possible classes\n",
    "        if vote not in classCount.keys(): classCount[vote] = 0\n",
    "        classCount[vote] += 1\n",
    "    sortedClassCount = sorted(classCount.items(), key=lambda x:x[1], reverse=True) # sort dictionary by value\n",
    "    return sortedClassCount[0][0]"
   ]
  },
  {
   "cell_type": "code",
   "execution_count": 7,
   "metadata": {
    "ExecuteTime": {
     "end_time": "2023-10-30T10:53:35.984779Z",
     "start_time": "2023-10-30T10:53:35.886239Z"
    }
   },
   "outputs": [],
   "source": [
    "def createTree(dataSet, labels):\n",
    "    calssList = [example[-1] for example in dataSet] # 包含数据集的所有类标签\n",
    "    print(calssList)\n",
    "    if calssList.count(calssList[0]) == len(calssList): # 停止条件是所有的类标签都相同\n",
    "        return calssList[0]\n",
    "    if len(dataSet[0]) == 1: # 停止条件是使用完了所有特征，仍然不能将数据集划分成仅包含唯一类别的分组\n",
    "        return majorityCnt(calssList)\n",
    "    bestFeat = chooseBestFeatureToSplit(dataSet)\n",
    "    bestFeatLabel = labels[bestFeat]\n",
    "    myTree = {bestFeatLabel:{}} # create tree with the best feature label\n",
    "    del(labels[bestFeat])\n",
    "    featValues = [example[bestFeat] for example in dataSet] # get list of unique values\n",
    "    uniqueVals = set(featValues)\n",
    "    for value in uniqueVals: # create sub-tree for each unique value\n",
    "        subLabels = labels[:] # copy all of labels, so trees don't mess up existing labels\n",
    "        myTree[bestFeatLabel][value] = createTree(splitDataSet(dataSet, bestFeat, value), subLabels)\n",
    "    return myTree\n"
   ]
  },
  {
   "cell_type": "code",
   "execution_count": 8,
   "metadata": {
    "ExecuteTime": {
     "end_time": "2023-10-30T10:53:35.986012Z",
     "start_time": "2023-10-30T10:53:35.919964Z"
    }
   },
   "outputs": [
    {
     "name": "stdout",
     "output_type": "stream",
     "text": [
      "['yes', 'yes', 'no', 'no', 'no']\n",
      "['no', 'no']\n",
      "['yes', 'yes', 'no']\n",
      "['no']\n",
      "['yes', 'yes']\n",
      "*******\n",
      ": {'no surfacing': {0: 'no', 1: {'flippers': {0: 'no', 1: 'yes'}}}}\n"
     ]
    }
   ],
   "source": [
    "myDat,labels = createdataSet()\n",
    "myTree = createTree(myDat,labels)\n",
    "print('*******\\n:',myTree)"
   ]
  },
  {
   "cell_type": "markdown",
   "metadata": {},
   "source": [
    "## 绘制树形图"
   ]
  },
  {
   "cell_type": "code",
   "execution_count": 9,
   "metadata": {
    "ExecuteTime": {
     "end_time": "2023-10-30T10:53:36.300367Z",
     "start_time": "2023-10-30T10:53:35.920253Z"
    }
   },
   "outputs": [
    {
     "data": {
      "text/plain": "\"def createPlot():\\n    fig = plt.figure(1,facecolor='white')\\n    fig.clf()\\n    createPlot.ax1 = plt.subplot(111,frameon=False)\\n    plotNode('decision node',(0.5,0.1),(0.1,0.5),decisionNode)\\n    plotNode('leaf node',(0.8,0.1),(0.3,0.8),leafNode)\\n    plt.show()\""
     },
     "execution_count": 9,
     "metadata": {},
     "output_type": "execute_result"
    }
   ],
   "source": [
    "import matplotlib.pyplot as plt\n",
    "decisionNode = dict(boxstyle=\"sawtooth\",fc=\"0.8\")\n",
    "leafNode = dict(boxstyle=\"round4\",fc=\"0.8\")\n",
    "arrow_args = dict(arrowstyle=\"<-\")\n",
    "\n",
    "def plotNode(nodeTxt,centerPt,parentPt,nodeType):\n",
    "    createPlot.ax1.annotate(nodeTxt,xy=parentPt,xycoords='axes fraction',xytext=centerPt,textcoords='axes fraction',va='center',ha='center',bbox=nodeType,arrowprops=arrow_args)\n",
    "\n",
    "'''def createPlot():\n",
    "    fig = plt.figure(1,facecolor='white')\n",
    "    fig.clf()\n",
    "    createPlot.ax1 = plt.subplot(111,frameon=False)\n",
    "    plotNode('decision node',(0.5,0.1),(0.1,0.5),decisionNode)\n",
    "    plotNode('leaf node',(0.8,0.1),(0.3,0.8),leafNode)\n",
    "    plt.show()'''"
   ]
  },
  {
   "cell_type": "code",
   "execution_count": 16,
   "metadata": {
    "ExecuteTime": {
     "end_time": "2023-10-30T10:54:23.028764Z",
     "start_time": "2023-10-30T10:54:23.022094Z"
    }
   },
   "outputs": [
    {
     "ename": "TypeError",
     "evalue": "createPlot() missing 1 required positional argument: 'inTree'",
     "output_type": "error",
     "traceback": [
      "\u001B[0;31m---------------------------------------------------------------------------\u001B[0m",
      "\u001B[0;31mTypeError\u001B[0m                                 Traceback (most recent call last)",
      "Cell \u001B[0;32mIn[16], line 1\u001B[0m\n\u001B[0;32m----> 1\u001B[0m createPlot()\n",
      "\u001B[0;31mTypeError\u001B[0m: createPlot() missing 1 required positional argument: 'inTree'"
     ]
    }
   ],
   "source": [
    "createPlot()"
   ]
  },
  {
   "cell_type": "code",
   "execution_count": 11,
   "metadata": {
    "ExecuteTime": {
     "end_time": "2023-10-30T10:54:10.208337Z",
     "start_time": "2023-10-30T10:54:10.202357Z"
    }
   },
   "outputs": [],
   "source": [
    "def getNumLeafs(myTree):\n",
    "    numLeafs = 0\n",
    "    firstStr = list(myTree.keys())[0] # the first key tells you what feature was split on\n",
    "    secondDict = myTree[firstStr]\n",
    "    for key in secondDict.keys():\n",
    "        if type(secondDict[key]).__name__ == 'dict': # test to see if the nodes are dictonaires, if not they are leaf nodes\n",
    "            numLeafs += getNumLeafs(secondDict[key])\n",
    "        else: numLeafs += 1\n",
    "    return numLeafs\n",
    "\n",
    "def getTreeDepth(myTree):\n",
    "    maxDepth = 0\n",
    "    firstStr = list(myTree.keys())[0] # the first key tells you what feature was split on\n",
    "    secondDict = myTree[firstStr]\n",
    "    for key in secondDict.keys():\n",
    "        if type(secondDict[key]).__name__=='dict': # test to see if the nodes are dictonaires, if not they are leaf nodes\n",
    "            thisDepth = 1 + getTreeDepth(secondDict[key])\n",
    "        else: thisDepth = 1\n",
    "        if thisDepth > maxDepth: maxDepth = thisDepth\n",
    "    return maxDepth"
   ]
  },
  {
   "cell_type": "code",
   "execution_count": 12,
   "metadata": {
    "ExecuteTime": {
     "end_time": "2023-10-30T10:54:12.161657Z",
     "start_time": "2023-10-30T10:54:12.157550Z"
    }
   },
   "outputs": [],
   "source": [
    "def plotMidText(cntrPt,parentPt,txtString):\n",
    "    xMid = (parentPt[0]-cntrPt[0])/2.0 + cntrPt[0]\n",
    "    yMid = (parentPt[1]-cntrPt[1])/2.0 + cntrPt[1]\n",
    "    createPlot.ax1.text(xMid,yMid,txtString)\n",
    "\n",
    "def plotTree(myTree,parentPt,nodeTxt):\n",
    "    numLeafs = getNumLeafs(myTree) # this determines the x width of this tree\n",
    "    depth = getTreeDepth(myTree)\n",
    "    firstStr = list(myTree.keys())[0] # the text label for this node should be this\n",
    "    cntrPt = (plotTree.xOff + (1.0 + float(numLeafs))/2.0/plotTree.totalW,plotTree.yOff) # 这个节点的位置\n",
    "    plotMidText(cntrPt,parentPt,nodeTxt) # 标记子节点属性值\n",
    "    plotNode(firstStr,cntrPt,parentPt,decisionNode) # 标记节点\n",
    "    secondDict = myTree[firstStr]\n",
    "    plotTree.yOff = plotTree.yOff - 1.0/plotTree.totalD # 减少y偏移\n",
    "    for key in secondDict.keys(): # 遍历子节点\n",
    "        if type(secondDict[key]).__name__=='dict': # test to see if the nodes are dictonaires, if not they are leaf nodes\n",
    "            plotTree(secondDict[key],cntrPt,str(key)) # 递归绘制子节点\n",
    "        else: # it's a leaf node print the leaf node\n",
    "            plotTree.xOff = plotTree.xOff + 1.0/plotTree.totalW # 增加x偏移\n",
    "            plotNode(secondDict[key],(plotTree.xOff,plotTree.yOff),cntrPt,leafNode) # 标记叶节点\n",
    "            plotMidText((plotTree.xOff,plotTree.yOff),cntrPt,str(key)) # 标记叶节点属性值\n",
    "    plotTree.yOff = plotTree.yOff + 1.0/plotTree.totalD # 增加y偏移\n",
    "\n",
    "def createPlot(inTree):\n",
    "    fig = plt.figure(1,facecolor='white')\n",
    "    fig.clf()\n",
    "    axprops = dict(xticks=[],yticks=[])\n",
    "    createPlot.ax1 = plt.subplot(111,frameon=False,**axprops) # no ticks\n",
    "    plotTree.totalW = float(getNumLeafs(inTree)) # 树的宽度\n",
    "    plotTree.totalD = float(getTreeDepth(inTree)) # 树的深度\n",
    "    plotTree.xOff = -0.5/plotTree.totalW;plotTree.yOff = 1.0; # x偏移\n",
    "    plotTree(inTree,(0.5,1.0),'') # 绘制树\n",
    "    plt.show()"
   ]
  },
  {
   "cell_type": "code",
   "execution_count": 13,
   "metadata": {
    "ExecuteTime": {
     "end_time": "2023-10-30T10:54:14.422008Z",
     "start_time": "2023-10-30T10:54:14.415621Z"
    }
   },
   "outputs": [],
   "source": [
    "def classify(inputTree, featLabels, testVec):\n",
    "    firstStr = inputTree.key()[0]\n",
    "    secondDict = inputTree[firstStr]\n",
    "    featIndex = featLabels.index(firstStr) # 将标签字符串转换为索引\n",
    "    for key in secondDict.keys():\n",
    "        if testVec[featIndex] == key:\n",
    "            if type(secondDict[key]).__name__=='dict': # test to see if the nodes are dictonaires, if not they are leaf nodes\n",
    "                classLabel = classify(secondDict[key],featLabels,testVec) # 递归分类\n",
    "            else: classLabel = secondDict[key]\n",
    "    return classLabel"
   ]
  },
  {
   "cell_type": "markdown",
   "metadata": {},
   "source": [
    "## 存储 提取 决策树"
   ]
  },
  {
   "cell_type": "code",
   "execution_count": 14,
   "metadata": {
    "ExecuteTime": {
     "end_time": "2023-10-30T10:54:15.956846Z",
     "start_time": "2023-10-30T10:54:15.950921Z"
    }
   },
   "outputs": [],
   "source": [
    "def storeTree(inputTree, filename):\n",
    "    import pickle\n",
    "    fw = open(filename, 'w')\n",
    "    pickle.dump(inputTree, fw)\n",
    "    fw.close\n",
    "\n",
    "def grabTree(filename):\n",
    "    import pickle\n",
    "    fr = open(filename)\n",
    "    return pickle.load(fr)"
   ]
  },
  {
   "cell_type": "markdown",
   "metadata": {},
   "source": [
    "### 实例"
   ]
  },
  {
   "cell_type": "code",
   "execution_count": 15,
   "metadata": {
    "ExecuteTime": {
     "end_time": "2023-10-30T10:54:18.076938Z",
     "start_time": "2023-10-30T10:54:17.867481Z"
    }
   },
   "outputs": [
    {
     "name": "stdout",
     "output_type": "stream",
     "text": [
      "['no lenses', 'soft', 'no lenses', 'hard', 'no lenses', 'soft', 'no lenses', 'hard', 'no lenses', 'soft', 'no lenses', 'hard', 'no lenses', 'soft', 'no lenses', 'no lenses', 'no lenses', 'no lenses', 'no lenses', 'hard', 'no lenses', 'soft', 'no lenses', 'no lenses']\n",
      "['no lenses', 'no lenses', 'no lenses', 'no lenses', 'no lenses', 'no lenses', 'no lenses', 'no lenses', 'no lenses', 'no lenses', 'no lenses', 'no lenses']\n",
      "['soft', 'hard', 'soft', 'hard', 'soft', 'hard', 'soft', 'no lenses', 'no lenses', 'hard', 'soft', 'no lenses']\n",
      "['soft', 'soft', 'soft', 'soft', 'no lenses', 'soft']\n",
      "['soft', 'soft']\n",
      "['soft', 'soft']\n",
      "['no lenses', 'soft']\n",
      "['no lenses']\n",
      "['soft']\n",
      "['hard', 'hard', 'hard', 'no lenses', 'hard', 'no lenses']\n",
      "['hard', 'hard', 'hard']\n",
      "['hard', 'no lenses', 'no lenses']\n",
      "['no lenses']\n",
      "['hard']\n",
      "['no lenses']\n"
     ]
    },
    {
     "data": {
      "text/plain": "<Figure size 640x480 with 1 Axes>",
      "image/png": "[encoded data removed]"
     },
     "metadata": {},
     "output_type": "display_data"
    }
   ],
   "source": [
    "fr = open(\"/Users/remakeee/Library/Mobile Documents/iCloud~md~obsidian/Documents/book_study/python/machinelearninginaction/Ch03/lenses.txt\")\n",
    "lenses = [inst.strip().split('\\t') for inst in fr.readlines()]\n",
    "lensesLabels = ['age', 'prescript', 'astigmatic', 'tearRate']\n",
    "lensesTree = createTree(lenses, lensesLabels)\n",
    "lensesTree\n",
    "createPlot(lensesTree)"
   ]
  }
 ],
 "metadata": {
  "kernelspec": {
   "display_name": "Python 3 (ipykernel)",
   "language": "python",
   "name": "python3"
  }
 },
 "nbformat": 4,
 "nbformat_minor": 2
}
