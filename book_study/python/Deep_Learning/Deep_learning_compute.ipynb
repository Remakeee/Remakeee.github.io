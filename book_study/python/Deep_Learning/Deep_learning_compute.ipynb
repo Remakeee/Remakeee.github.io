{
 "cells": [
  {
   "cell_type": "code",
   "execution_count": 1,
   "id": "initial_id",
   "metadata": {
    "collapsed": true,
    "ExecuteTime": {
     "end_time": "2023-11-22T00:48:02.655014Z",
     "start_time": "2023-11-22T00:48:00.975708Z"
    }
   },
   "outputs": [],
   "source": [
    "import torch\n",
    "import torch.nn as nn\n",
    "import torch.nn.functional as F"
   ]
  },
  {
   "cell_type": "code",
   "execution_count": 2,
   "outputs": [],
   "source": [
    "net = nn.Sequential(\n",
    "    nn.Linear(20, 256),\n",
    "    nn.ReLU(),\n",
    "    nn.Linear(256, 10)\n",
    ")"
   ],
   "metadata": {
    "collapsed": false,
    "ExecuteTime": {
     "end_time": "2023-11-22T00:48:02.660611Z",
     "start_time": "2023-11-22T00:48:02.656457Z"
    }
   },
   "id": "229bfcfa7588e25c"
  },
  {
   "cell_type": "code",
   "execution_count": 3,
   "outputs": [
    {
     "data": {
      "text/plain": "(tensor([[ 0.0305, -0.0268, -0.3276, -0.3177, -0.0072, -0.1315, -0.0188, -0.1975,\n           0.1187,  0.1847]], grad_fn=<AddmmBackward0>),\n tensor([[ 0.1634, -0.0096, -0.2774, -0.2480,  0.0960, -0.0553, -0.0903, -0.2894,\n           0.0078,  0.1538],\n         [ 0.0478, -0.0257, -0.2367, -0.1661,  0.0684,  0.0286, -0.0058, -0.1293,\n          -0.0313,  0.1844]], grad_fn=<AddmmBackward0>))"
     },
     "execution_count": 3,
     "metadata": {},
     "output_type": "execute_result"
    }
   ],
   "source": [
    "X = torch.rand(1, 20)\n",
    "Y = torch.rand(2, 20)\n",
    "net(X), net(Y)"
   ],
   "metadata": {
    "collapsed": false,
    "ExecuteTime": {
     "end_time": "2023-11-22T00:48:02.665890Z",
     "start_time": "2023-11-22T00:48:02.660252Z"
    }
   },
   "id": "da89a938da32ff10"
  },
  {
   "cell_type": "code",
   "execution_count": 4,
   "outputs": [],
   "source": [
    "class MLP(nn.Module):\n",
    "    def __init__(self):\n",
    "        super().__init__() # 等价于nn.Module.__init__(self)\n",
    "        self.hidden = nn.Linear(20, 256) # 隐藏层\n",
    "        self.out = nn.Linear(256, 10) # 输出层\n",
    "    \n",
    "    # 定义模型的正向传播，即如何根据输入X返回所需要的模型输出\n",
    "    def forward(self, X):\n",
    "        return self.out(F.relu(self.hidden(X))) "
   ],
   "metadata": {
    "collapsed": false,
    "ExecuteTime": {
     "end_time": "2023-11-22T00:48:02.671777Z",
     "start_time": "2023-11-22T00:48:02.666463Z"
    }
   },
   "id": "ca7e53864a86f2b0"
  },
  {
   "cell_type": "code",
   "execution_count": 5,
   "outputs": [
    {
     "data": {
      "text/plain": "(tensor([[ 0.0121,  0.0106, -0.0644,  0.0085,  0.1578, -0.0501, -0.1041,  0.1122,\n           0.2763,  0.1812]], grad_fn=<AddmmBackward0>),\n tensor([[ 0.0218,  0.1357, -0.0567, -0.0195,  0.1813, -0.1347, -0.1338,  0.1635,\n           0.2653,  0.1562],\n         [-0.0047,  0.1565, -0.0608,  0.0995,  0.2227, -0.2021, -0.1654,  0.0637,\n           0.2162,  0.1245]], grad_fn=<AddmmBackward0>))"
     },
     "execution_count": 5,
     "metadata": {},
     "output_type": "execute_result"
    }
   ],
   "source": [
    "net = MLP()\n",
    "net(X), net(Y)"
   ],
   "metadata": {
    "collapsed": false,
    "ExecuteTime": {
     "end_time": "2023-11-22T00:48:02.676338Z",
     "start_time": "2023-11-22T00:48:02.670122Z"
    }
   },
   "id": "33c6156a797546d2"
  },
  {
   "cell_type": "code",
   "execution_count": 6,
   "outputs": [],
   "source": [
    "class MySequential(nn.Module):\n",
    "    def __init__(self, *args):\n",
    "        super().__init__()\n",
    "        for block in args:\n",
    "            # 这里，`block`是`Module`子类的一个实例。我们把它保存在'Module'类的成员变量\n",
    "            # `_children` 中。`block`的类型是OrderedDict。\n",
    "            self._modules[block] = block\n",
    "    def forward(self, X):\n",
    "        # OrderedDict保证了按照成员添加时的顺序遍历它们\n",
    "        for block in self._modules.values():\n",
    "            X = block(X)\n",
    "        return X"
   ],
   "metadata": {
    "collapsed": false,
    "ExecuteTime": {
     "end_time": "2023-11-22T00:48:02.677336Z",
     "start_time": "2023-11-22T00:48:02.674813Z"
    }
   },
   "id": "61f09973e1043713"
  },
  {
   "cell_type": "code",
   "execution_count": 7,
   "outputs": [
    {
     "data": {
      "text/plain": "tensor([[[[ 0.,  1.,  2.,  3.],\n          [ 4.,  5.,  6.,  7.],\n          [ 8.,  9., 10., 11.],\n          [12., 13., 14., 15.]]]])"
     },
     "execution_count": 7,
     "metadata": {},
     "output_type": "execute_result"
    }
   ],
   "source": [
    "X = torch.arange(16, dtype= torch.float32).reshape(1,1,4,4)\n",
    "X"
   ],
   "metadata": {
    "collapsed": false,
    "ExecuteTime": {
     "end_time": "2023-11-22T00:48:02.720986Z",
     "start_time": "2023-11-22T00:48:02.677418Z"
    }
   },
   "id": "5344a11ade5578db"
  },
  {
   "cell_type": "code",
   "execution_count": 8,
   "outputs": [
    {
     "data": {
      "text/plain": "tensor([[[[ 5.,  7.],\n          [13., 15.]]]])"
     },
     "execution_count": 8,
     "metadata": {},
     "output_type": "execute_result"
    }
   ],
   "source": [
    "pool2d = nn.MaxPool2d(3,padding=1)\n",
    "pool2d(X)"
   ],
   "metadata": {
    "collapsed": false,
    "ExecuteTime": {
     "end_time": "2023-11-22T00:48:02.721359Z",
     "start_time": "2023-11-22T00:48:02.681171Z"
    }
   },
   "id": "d0cfb347621e06f1"
  }
 ],
 "metadata": {
  "kernelspec": {
   "display_name": "Python 3",
   "language": "python",
   "name": "python3"
  },
  "language_info": {
   "codemirror_mode": {
    "name": "ipython",
    "version": 2
   },
   "file_extension": ".py",
   "mimetype": "text/x-python",
   "name": "python",
   "nbconvert_exporter": "python",
   "pygments_lexer": "ipython2",
   "version": "2.7.6"
  }
 },
 "nbformat": 4,
 "nbformat_minor": 5
}
