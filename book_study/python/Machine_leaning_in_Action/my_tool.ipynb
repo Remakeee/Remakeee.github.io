{
 "cells": [
  {
   "cell_type": "code",
   "execution_count": 1,
   "metadata": {
    "ExecuteTime": {
     "end_time": "2023-10-31T00:29:37.659034Z",
     "start_time": "2023-10-31T00:29:37.645761Z"
    }
   },
   "outputs": [],
   "source": [
    "import chardet"
   ]
  },
  {
   "cell_type": "code",
   "execution_count": 2,
   "metadata": {
    "ExecuteTime": {
     "end_time": "2023-10-31T00:29:37.661649Z",
     "start_time": "2023-10-31T00:29:37.659253Z"
    }
   },
   "outputs": [],
   "source": [
    "def get_encoding(file):\n",
    "    # 二进制方式读取，获取字节数据，检测类型\n",
    "    with open(file, 'rb') as f:\n",
    "        return chardet.detect(f.read())['encoding']"
   ]
  },
  {
   "cell_type": "code",
   "execution_count": 3,
   "metadata": {
    "ExecuteTime": {
     "end_time": "2023-10-31T00:29:37.665446Z",
     "start_time": "2023-10-31T00:29:37.661222Z"
    }
   },
   "outputs": [
    {
     "data": {
      "text/plain": "'ascii'"
     },
     "execution_count": 3,
     "metadata": {},
     "output_type": "execute_result"
    }
   ],
   "source": [
    "get_encoding('machinelearninginaction/Ch04/email/ham/19.txt')\n",
    "#open('machinelearninginaction/Ch04/email/ham/16.txt').read()"
   ]
  },
  {
   "cell_type": "code",
   "execution_count": 5,
   "outputs": [
    {
     "ename": "UnicodeDecodeError",
     "evalue": "'utf-8' codec can't decode byte 0x92 in position 66: invalid start byte",
     "output_type": "error",
     "traceback": [
      "\u001B[0;31m---------------------------------------------------------------------------\u001B[0m",
      "\u001B[0;31mUnicodeDecodeError\u001B[0m                        Traceback (most recent call last)",
      "Cell \u001B[0;32mIn[5], line 10\u001B[0m\n\u001B[1;32m      7\u001B[0m     \u001B[38;5;28;01mreturn\u001B[39;00m [token\u001B[38;5;241m.\u001B[39mlower() \u001B[38;5;28;01mfor\u001B[39;00m token \u001B[38;5;129;01min\u001B[39;00m bigString\u001B[38;5;241m.\u001B[39msplit() \u001B[38;5;28;01mif\u001B[39;00m \u001B[38;5;28mlen\u001B[39m(token) \u001B[38;5;241m>\u001B[39m \u001B[38;5;241m2\u001B[39m]\n\u001B[1;32m      9\u001B[0m wordList \u001B[38;5;241m=\u001B[39m[]\n\u001B[0;32m---> 10\u001B[0m wordList \u001B[38;5;241m=\u001B[39m textParse(\u001B[38;5;28mopen\u001B[39m(\u001B[38;5;124m'\u001B[39m\u001B[38;5;124mmachinelearninginaction/Ch04/email/spam/17.txt\u001B[39m\u001B[38;5;124m'\u001B[39m)\u001B[38;5;241m.\u001B[39mread())\n\u001B[1;32m     11\u001B[0m wordList\n",
      "File \u001B[0;32m<frozen codecs>:322\u001B[0m, in \u001B[0;36mdecode\u001B[0;34m(self, input, final)\u001B[0m\n",
      "\u001B[0;31mUnicodeDecodeError\u001B[0m: 'utf-8' codec can't decode byte 0x92 in position 66: invalid start byte"
     ]
    }
   ],
   "source": [
    "def textParse(bigString):  # 去掉少于两个字符的字符串，并将所有字符串转换为小写\n",
    "    import re\n",
    "    #print(bigString)\n",
    "    #listOfTokens = re.split(r'\\W*', bigString)\n",
    "    #print(listOfTokens)\n",
    "    #print([token.lower() for token in listOfTokens if len(token) > 2])\n",
    "    return [token.lower() for token in bigString.split() if len(token) > 2]\n",
    "\n",
    "wordList =[]\n",
    "wordList = textParse(open('machinelearninginaction/Ch04/email/spam/17.txt').read())\n",
    "wordList"
   ],
   "metadata": {
    "collapsed": false,
    "ExecuteTime": {
     "end_time": "2023-10-31T00:29:47.940959Z",
     "start_time": "2023-10-31T00:29:47.927433Z"
    }
   }
  }
 ],
 "metadata": {
  "kernelspec": {
   "display_name": "Python 3 (ipykernel)",
   "language": "python",
   "name": "python3"
  }
 },
 "nbformat": 4,
 "nbformat_minor": 2
}
