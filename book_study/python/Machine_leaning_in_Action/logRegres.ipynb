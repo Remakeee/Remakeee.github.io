{
 "cells": [
  {
   "cell_type": "code",
   "execution_count": 3,
   "outputs": [],
   "source": [
    "\n",
    "import matplotlib.pyplot as plt\n",
    "from math import *\n",
    "from numpy import *"
   ],
   "metadata": {
    "collapsed": false,
    "ExecuteTime": {
     "end_time": "2023-10-31T01:48:13.525573Z",
     "start_time": "2023-10-31T01:48:13.524697Z"
    }
   },
   "id": "f8024e42998a9090"
  },
  {
   "cell_type": "code",
   "execution_count": 5,
   "id": "initial_id",
   "metadata": {
    "collapsed": true,
    "ExecuteTime": {
     "end_time": "2023-10-31T01:54:29.321376Z",
     "start_time": "2023-10-31T01:54:29.320559Z"
    }
   },
   "outputs": [],
   "source": [
    "def loadDataSet():\n",
    "    dataMat = []; labelMat = []\n",
    "    fr = open('machinelearninginaction/Ch05/testSet.txt')\n",
    "    for line in fr.readlines(): # 逐行读取\n",
    "        lineArr = line.strip().split() # 去掉首尾空格，按空格分割\n",
    "        dataMat.append([1.0, float(lineArr[0]), float(lineArr[1])]) # 添加数据\n",
    "        labelMat.append(int(lineArr[2])) # 添加标签\n",
    "    return dataMat,labelMat\n",
    "\n",
    "def sigmoid(inX):\n",
    "    return 1.0/(1+exp(-inX))\n",
    "\n",
    "def gradAscent(dataMatIn, classLabels): # 梯度上升算法\n",
    "    dataMatrix = mat(dataMatIn) # 转换为NumPy矩阵\n",
    "    labelMat = mat(classLabels).transpose() # 转换为NumPy矩阵，并转置\n",
    "    m,n = shape(dataMatrix) # 获取矩阵的行列数\n",
    "    alpha = 0.001 # 步长\n",
    "    maxCycles = 500 # 迭代次数\n",
    "    weights = ones((n,1)) # 初始化权重\n",
    "    for k in range(maxCycles): # 迭代\n",
    "        h = sigmoid(dataMatrix*weights) # 计算预测值\n",
    "        error = (labelMat - h) # 计算误差\n",
    "        weights = weights + alpha * dataMatrix.transpose()* error # 更新权重\n",
    "    return weights"
   ]
  },
  {
   "cell_type": "code",
   "execution_count": 9,
   "outputs": [
    {
     "data": {
      "text/plain": "matrix([[ 4.12414349],\n        [ 0.48007329],\n        [-0.6168482 ]])"
     },
     "execution_count": 9,
     "metadata": {},
     "output_type": "execute_result"
    }
   ],
   "source": [
    "dataArr,labelMat=loadDataSet()\n",
    "weights=gradAscent(dataArr,labelMat)\n",
    "weights"
   ],
   "metadata": {
    "collapsed": false,
    "ExecuteTime": {
     "end_time": "2023-10-31T01:54:53.771722Z",
     "start_time": "2023-10-31T01:54:53.750768Z"
    }
   },
   "id": "fa4961c665ede5a"
  }
 ],
 "metadata": {
  "kernelspec": {
   "display_name": "Python 3",
   "language": "python",
   "name": "python3"
  },
  "language_info": {
   "codemirror_mode": {
    "name": "ipython",
    "version": 2
   },
   "file_extension": ".py",
   "mimetype": "text/x-python",
   "name": "python",
   "nbconvert_exporter": "python",
   "pygments_lexer": "ipython2",
   "version": "2.7.6"
  }
 },
 "nbformat": 4,
 "nbformat_minor": 5
}
